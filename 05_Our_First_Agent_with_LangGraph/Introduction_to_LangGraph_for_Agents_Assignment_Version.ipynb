{
  "cells": [
    {
      "cell_type": "markdown",
      "metadata": {
        "id": "gJXW_DgiSebM"
      },
      "source": [
        "# LangGraph and LangSmith - Agentic RAG Powered by LangChain\n",
        "\n",
        "In the following notebook we'll complete the following tasks:\n",
        "\n",
        "- 🤝 Breakout Room #1:\n",
        "  1. Install required libraries\n",
        "  2. Set Environment Variables\n",
        "  3. Creating our Tool Belt\n",
        "  4. Creating Our State\n",
        "  5. Creating and Compiling A Graph!\n",
        "\n",
        "- 🤝 Breakout Room #2:\n",
        "  1. Evaluating the LangGraph Application with LangSmith\n",
        "  2. Adding Helpfulness Check and \"Loop\" Limits\n",
        "  3. LangGraph for the \"Patterns\" of GenAI"
      ]
    },
    {
      "cell_type": "markdown",
      "metadata": {
        "id": "djQ3nRAgoF67"
      },
      "source": [
        "# 🤝 Breakout Room #1"
      ]
    },
    {
      "cell_type": "markdown",
      "metadata": {
        "id": "e7pQDUhUnIo8"
      },
      "source": [
        "## Part 1: LangGraph - Building Cyclic Applications with LangChain\n",
        "\n",
        "LangGraph is a tool that leverages LangChain Expression Language to build coordinated multi-actor and stateful applications that includes cyclic behaviour.\n",
        "\n",
        "### Why Cycles?\n",
        "\n",
        "In essence, we can think of a cycle in our graph as a more robust and customizable loop. It allows us to keep our application agent-forward while still giving the powerful functionality of traditional loops.\n",
        "\n",
        "Due to the inclusion of cycles over loops, we can also compose rather complex flows through our graph in a much more readable and natural fashion. Effectively allowing us to recreate application flowcharts in code in an almost 1-to-1 fashion.\n",
        "\n",
        "### Why LangGraph?\n",
        "\n",
        "Beyond the agent-forward approach - we can easily compose and combine traditional \"DAG\" (directed acyclic graph) chains with powerful cyclic behaviour due to the tight integration with LCEL. This means it's a natural extension to LangChain's core offerings!"
      ]
    },
    {
      "cell_type": "markdown",
      "metadata": {
        "id": "3_fLDElOVoop"
      },
      "source": [
        "## Task 1:  Dependencies\n"
      ]
    },
    {
      "cell_type": "markdown",
      "metadata": {
        "id": "wujPjGJuoPwg"
      },
      "source": [
        "## Task 2: Environment Variables\n",
        "\n",
        "We'll want to set our OpenAI, Tavily, and LangSmith API keys along with our LangSmith environment variables."
      ]
    },
    {
      "cell_type": "code",
      "execution_count": 29,
      "metadata": {
        "colab": {
          "base_uri": "https://localhost:8080/"
        },
        "id": "Jdh8CoVWHRvs",
        "outputId": "3fa78560-393c-4ee5-b871-9886bf0d70f4"
      },
      "outputs": [],
      "source": [
        "import os\n",
        "import getpass\n",
        "\n",
        "os.environ[\"OPENAI_API_KEY\"] = getpass.getpass(\"OpenAI API Key:\")"
      ]
    },
    {
      "cell_type": "code",
      "execution_count": 30,
      "metadata": {
        "colab": {
          "base_uri": "https://localhost:8080/"
        },
        "id": "Jkla2fpx28QK",
        "outputId": "52d7ad22-fcb1-4abe-853b-216c55a12650"
      },
      "outputs": [],
      "source": [
        "os.environ[\"TAVILY_API_KEY\"] = getpass.getpass(\"TAVILY_API_KEY\")"
      ]
    },
    {
      "cell_type": "code",
      "execution_count": 31,
      "metadata": {
        "colab": {
          "base_uri": "https://localhost:8080/"
        },
        "id": "Nv0glIDyHmRt",
        "outputId": "b69df90a-b4e1-4ddb-9de0-882d98b68ab2"
      },
      "outputs": [],
      "source": [
        "from uuid import uuid4\n",
        "\n",
        "os.environ[\"LANGCHAIN_TRACING_V2\"] = \"true\"\n",
        "os.environ[\"LANGCHAIN_PROJECT\"] = f\"AIE8 - LangGraph - {uuid4().hex[0:8]}\"\n",
        "os.environ[\"LANGCHAIN_API_KEY\"] = getpass.getpass(\"LangSmith API Key: \")"
      ]
    },
    {
      "cell_type": "markdown",
      "metadata": {
        "id": "sBRyQmEAVzua"
      },
      "source": [
        "## Task 3: Creating our Tool Belt\n",
        "\n",
        "As is usually the case, we'll want to equip our agent with a toolbelt to help answer questions and add external knowledge.\n",
        "\n",
        "There's a tonne of tools in the [LangChain Community Repo](https://github.com/langchain-ai/langchain-community/tree/main/libs/community) but we'll stick to a couple just so we can observe the cyclic nature of LangGraph in action!\n",
        "\n",
        "We'll leverage:\n",
        "\n",
        "- [Tavily Search Results](https://github.com/langchain-ai/langchain-community/blob/main/libs/community/langchain_community/tools/tavily_search/tool.py)\n",
        "- [Arxiv](https://github.com/langchain-ai/langchain-community/blob/main/libs/community/langchain_community/tools/arxiv/tool.py)"
      ]
    },
    {
      "cell_type": "markdown",
      "metadata": {
        "id": "2k6n_Dob2F46"
      },
      "source": [
        "#### 🏗️ Activity #1:\n",
        "\n",
        "Please add the tools to use into our toolbelt.\n",
        "\n",
        "> NOTE: Each tool in our toolbelt should be a method."
      ]
    },
    {
      "cell_type": "code",
      "execution_count": 32,
      "metadata": {},
      "outputs": [
        {
          "name": "stdout",
          "output_type": "stream",
          "text": [
            "Requirement already satisfied: langchain in /Users/vipinvijayan/Developer/projects/AI/AIMakerSpace/code/learn_ai_0/myenv/lib/python3.13/site-packages (0.3.27)\n",
            "Requirement already satisfied: openai in /Users/vipinvijayan/Developer/projects/AI/AIMakerSpace/code/learn_ai_0/myenv/lib/python3.13/site-packages (1.109.1)\n",
            "Requirement already satisfied: langchain-core<1.0.0,>=0.3.72 in /Users/vipinvijayan/Developer/projects/AI/AIMakerSpace/code/learn_ai_0/myenv/lib/python3.13/site-packages (from langchain) (0.3.76)\n",
            "Requirement already satisfied: langchain-text-splitters<1.0.0,>=0.3.9 in /Users/vipinvijayan/Developer/projects/AI/AIMakerSpace/code/learn_ai_0/myenv/lib/python3.13/site-packages (from langchain) (0.3.11)\n",
            "Requirement already satisfied: langsmith>=0.1.17 in /Users/vipinvijayan/Developer/projects/AI/AIMakerSpace/code/learn_ai_0/myenv/lib/python3.13/site-packages (from langchain) (0.4.30)\n",
            "Requirement already satisfied: pydantic<3.0.0,>=2.7.4 in /Users/vipinvijayan/Developer/projects/AI/AIMakerSpace/code/learn_ai_0/myenv/lib/python3.13/site-packages (from langchain) (2.11.9)\n",
            "Requirement already satisfied: SQLAlchemy<3,>=1.4 in /Users/vipinvijayan/Developer/projects/AI/AIMakerSpace/code/learn_ai_0/myenv/lib/python3.13/site-packages (from langchain) (2.0.43)\n",
            "Requirement already satisfied: requests<3,>=2 in /Users/vipinvijayan/Developer/projects/AI/AIMakerSpace/code/learn_ai_0/myenv/lib/python3.13/site-packages (from langchain) (2.32.5)\n",
            "Requirement already satisfied: PyYAML>=5.3 in /Users/vipinvijayan/Developer/projects/AI/AIMakerSpace/code/learn_ai_0/myenv/lib/python3.13/site-packages (from langchain) (6.0.2)\n",
            "Requirement already satisfied: anyio<5,>=3.5.0 in /Users/vipinvijayan/Developer/projects/AI/AIMakerSpace/code/learn_ai_0/myenv/lib/python3.13/site-packages (from openai) (4.11.0)\n",
            "Requirement already satisfied: distro<2,>=1.7.0 in /Users/vipinvijayan/Developer/projects/AI/AIMakerSpace/code/learn_ai_0/myenv/lib/python3.13/site-packages (from openai) (1.9.0)\n",
            "Requirement already satisfied: httpx<1,>=0.23.0 in /Users/vipinvijayan/Developer/projects/AI/AIMakerSpace/code/learn_ai_0/myenv/lib/python3.13/site-packages (from openai) (0.28.1)\n",
            "Requirement already satisfied: jiter<1,>=0.4.0 in /Users/vipinvijayan/Developer/projects/AI/AIMakerSpace/code/learn_ai_0/myenv/lib/python3.13/site-packages (from openai) (0.11.0)\n",
            "Requirement already satisfied: sniffio in /Users/vipinvijayan/Developer/projects/AI/AIMakerSpace/code/learn_ai_0/myenv/lib/python3.13/site-packages (from openai) (1.3.1)\n",
            "Requirement already satisfied: tqdm>4 in /Users/vipinvijayan/Developer/projects/AI/AIMakerSpace/code/learn_ai_0/myenv/lib/python3.13/site-packages (from openai) (4.67.1)\n",
            "Requirement already satisfied: typing-extensions<5,>=4.11 in /Users/vipinvijayan/Developer/projects/AI/AIMakerSpace/code/learn_ai_0/myenv/lib/python3.13/site-packages (from openai) (4.15.0)\n",
            "Requirement already satisfied: idna>=2.8 in /Users/vipinvijayan/Developer/projects/AI/AIMakerSpace/code/learn_ai_0/myenv/lib/python3.13/site-packages (from anyio<5,>=3.5.0->openai) (3.10)\n",
            "Requirement already satisfied: certifi in /Users/vipinvijayan/Developer/projects/AI/AIMakerSpace/code/learn_ai_0/myenv/lib/python3.13/site-packages (from httpx<1,>=0.23.0->openai) (2025.8.3)\n",
            "Requirement already satisfied: httpcore==1.* in /Users/vipinvijayan/Developer/projects/AI/AIMakerSpace/code/learn_ai_0/myenv/lib/python3.13/site-packages (from httpx<1,>=0.23.0->openai) (1.0.9)\n",
            "Requirement already satisfied: h11>=0.16 in /Users/vipinvijayan/Developer/projects/AI/AIMakerSpace/code/learn_ai_0/myenv/lib/python3.13/site-packages (from httpcore==1.*->httpx<1,>=0.23.0->openai) (0.16.0)\n",
            "Requirement already satisfied: tenacity!=8.4.0,<10.0.0,>=8.1.0 in /Users/vipinvijayan/Developer/projects/AI/AIMakerSpace/code/learn_ai_0/myenv/lib/python3.13/site-packages (from langchain-core<1.0.0,>=0.3.72->langchain) (9.1.2)\n",
            "Requirement already satisfied: jsonpatch<2.0,>=1.33 in /Users/vipinvijayan/Developer/projects/AI/AIMakerSpace/code/learn_ai_0/myenv/lib/python3.13/site-packages (from langchain-core<1.0.0,>=0.3.72->langchain) (1.33)\n",
            "Requirement already satisfied: packaging>=23.2 in /Users/vipinvijayan/Developer/projects/AI/AIMakerSpace/code/learn_ai_0/myenv/lib/python3.13/site-packages (from langchain-core<1.0.0,>=0.3.72->langchain) (25.0)\n",
            "Requirement already satisfied: orjson>=3.9.14 in /Users/vipinvijayan/Developer/projects/AI/AIMakerSpace/code/learn_ai_0/myenv/lib/python3.13/site-packages (from langsmith>=0.1.17->langchain) (3.11.3)\n",
            "Requirement already satisfied: requests-toolbelt>=1.0.0 in /Users/vipinvijayan/Developer/projects/AI/AIMakerSpace/code/learn_ai_0/myenv/lib/python3.13/site-packages (from langsmith>=0.1.17->langchain) (1.0.0)\n",
            "Requirement already satisfied: zstandard>=0.23.0 in /Users/vipinvijayan/Developer/projects/AI/AIMakerSpace/code/learn_ai_0/myenv/lib/python3.13/site-packages (from langsmith>=0.1.17->langchain) (0.25.0)\n",
            "Requirement already satisfied: annotated-types>=0.6.0 in /Users/vipinvijayan/Developer/projects/AI/AIMakerSpace/code/learn_ai_0/myenv/lib/python3.13/site-packages (from pydantic<3.0.0,>=2.7.4->langchain) (0.7.0)\n",
            "Requirement already satisfied: pydantic-core==2.33.2 in /Users/vipinvijayan/Developer/projects/AI/AIMakerSpace/code/learn_ai_0/myenv/lib/python3.13/site-packages (from pydantic<3.0.0,>=2.7.4->langchain) (2.33.2)\n",
            "Requirement already satisfied: typing-inspection>=0.4.0 in /Users/vipinvijayan/Developer/projects/AI/AIMakerSpace/code/learn_ai_0/myenv/lib/python3.13/site-packages (from pydantic<3.0.0,>=2.7.4->langchain) (0.4.1)\n",
            "Requirement already satisfied: charset_normalizer<4,>=2 in /Users/vipinvijayan/Developer/projects/AI/AIMakerSpace/code/learn_ai_0/myenv/lib/python3.13/site-packages (from requests<3,>=2->langchain) (3.4.3)\n",
            "Requirement already satisfied: urllib3<3,>=1.21.1 in /Users/vipinvijayan/Developer/projects/AI/AIMakerSpace/code/learn_ai_0/myenv/lib/python3.13/site-packages (from requests<3,>=2->langchain) (2.5.0)\n",
            "Requirement already satisfied: jsonpointer>=1.9 in /Users/vipinvijayan/Developer/projects/AI/AIMakerSpace/code/learn_ai_0/myenv/lib/python3.13/site-packages (from jsonpatch<2.0,>=1.33->langchain-core<1.0.0,>=0.3.72->langchain) (3.0.0)\n",
            "Requirement already satisfied: langchain-core<1.0.0,>=0.3.72 in /Users/vipinvijayan/Developer/projects/AI/AIMakerSpace/code/learn_ai_0/myenv/lib/python3.13/site-packages (from langchain) (0.3.76)\n",
            "Requirement already satisfied: langchain-text-splitters<1.0.0,>=0.3.9 in /Users/vipinvijayan/Developer/projects/AI/AIMakerSpace/code/learn_ai_0/myenv/lib/python3.13/site-packages (from langchain) (0.3.11)\n",
            "Requirement already satisfied: langsmith>=0.1.17 in /Users/vipinvijayan/Developer/projects/AI/AIMakerSpace/code/learn_ai_0/myenv/lib/python3.13/site-packages (from langchain) (0.4.30)\n",
            "Requirement already satisfied: pydantic<3.0.0,>=2.7.4 in /Users/vipinvijayan/Developer/projects/AI/AIMakerSpace/code/learn_ai_0/myenv/lib/python3.13/site-packages (from langchain) (2.11.9)\n",
            "Requirement already satisfied: SQLAlchemy<3,>=1.4 in /Users/vipinvijayan/Developer/projects/AI/AIMakerSpace/code/learn_ai_0/myenv/lib/python3.13/site-packages (from langchain) (2.0.43)\n",
            "Requirement already satisfied: requests<3,>=2 in /Users/vipinvijayan/Developer/projects/AI/AIMakerSpace/code/learn_ai_0/myenv/lib/python3.13/site-packages (from langchain) (2.32.5)\n",
            "Requirement already satisfied: PyYAML>=5.3 in /Users/vipinvijayan/Developer/projects/AI/AIMakerSpace/code/learn_ai_0/myenv/lib/python3.13/site-packages (from langchain) (6.0.2)\n",
            "Requirement already satisfied: anyio<5,>=3.5.0 in /Users/vipinvijayan/Developer/projects/AI/AIMakerSpace/code/learn_ai_0/myenv/lib/python3.13/site-packages (from openai) (4.11.0)\n",
            "Requirement already satisfied: distro<2,>=1.7.0 in /Users/vipinvijayan/Developer/projects/AI/AIMakerSpace/code/learn_ai_0/myenv/lib/python3.13/site-packages (from openai) (1.9.0)\n",
            "Requirement already satisfied: httpx<1,>=0.23.0 in /Users/vipinvijayan/Developer/projects/AI/AIMakerSpace/code/learn_ai_0/myenv/lib/python3.13/site-packages (from openai) (0.28.1)\n",
            "Requirement already satisfied: jiter<1,>=0.4.0 in /Users/vipinvijayan/Developer/projects/AI/AIMakerSpace/code/learn_ai_0/myenv/lib/python3.13/site-packages (from openai) (0.11.0)\n",
            "Requirement already satisfied: sniffio in /Users/vipinvijayan/Developer/projects/AI/AIMakerSpace/code/learn_ai_0/myenv/lib/python3.13/site-packages (from openai) (1.3.1)\n",
            "Requirement already satisfied: tqdm>4 in /Users/vipinvijayan/Developer/projects/AI/AIMakerSpace/code/learn_ai_0/myenv/lib/python3.13/site-packages (from openai) (4.67.1)\n",
            "Requirement already satisfied: typing-extensions<5,>=4.11 in /Users/vipinvijayan/Developer/projects/AI/AIMakerSpace/code/learn_ai_0/myenv/lib/python3.13/site-packages (from openai) (4.15.0)\n",
            "Requirement already satisfied: idna>=2.8 in /Users/vipinvijayan/Developer/projects/AI/AIMakerSpace/code/learn_ai_0/myenv/lib/python3.13/site-packages (from anyio<5,>=3.5.0->openai) (3.10)\n",
            "Requirement already satisfied: certifi in /Users/vipinvijayan/Developer/projects/AI/AIMakerSpace/code/learn_ai_0/myenv/lib/python3.13/site-packages (from httpx<1,>=0.23.0->openai) (2025.8.3)\n",
            "Requirement already satisfied: httpcore==1.* in /Users/vipinvijayan/Developer/projects/AI/AIMakerSpace/code/learn_ai_0/myenv/lib/python3.13/site-packages (from httpx<1,>=0.23.0->openai) (1.0.9)\n",
            "Requirement already satisfied: h11>=0.16 in /Users/vipinvijayan/Developer/projects/AI/AIMakerSpace/code/learn_ai_0/myenv/lib/python3.13/site-packages (from httpcore==1.*->httpx<1,>=0.23.0->openai) (0.16.0)\n",
            "Requirement already satisfied: tenacity!=8.4.0,<10.0.0,>=8.1.0 in /Users/vipinvijayan/Developer/projects/AI/AIMakerSpace/code/learn_ai_0/myenv/lib/python3.13/site-packages (from langchain-core<1.0.0,>=0.3.72->langchain) (9.1.2)\n",
            "Requirement already satisfied: jsonpatch<2.0,>=1.33 in /Users/vipinvijayan/Developer/projects/AI/AIMakerSpace/code/learn_ai_0/myenv/lib/python3.13/site-packages (from langchain-core<1.0.0,>=0.3.72->langchain) (1.33)\n",
            "Requirement already satisfied: packaging>=23.2 in /Users/vipinvijayan/Developer/projects/AI/AIMakerSpace/code/learn_ai_0/myenv/lib/python3.13/site-packages (from langchain-core<1.0.0,>=0.3.72->langchain) (25.0)\n",
            "Requirement already satisfied: orjson>=3.9.14 in /Users/vipinvijayan/Developer/projects/AI/AIMakerSpace/code/learn_ai_0/myenv/lib/python3.13/site-packages (from langsmith>=0.1.17->langchain) (3.11.3)\n",
            "Requirement already satisfied: requests-toolbelt>=1.0.0 in /Users/vipinvijayan/Developer/projects/AI/AIMakerSpace/code/learn_ai_0/myenv/lib/python3.13/site-packages (from langsmith>=0.1.17->langchain) (1.0.0)\n",
            "Requirement already satisfied: zstandard>=0.23.0 in /Users/vipinvijayan/Developer/projects/AI/AIMakerSpace/code/learn_ai_0/myenv/lib/python3.13/site-packages (from langsmith>=0.1.17->langchain) (0.25.0)\n",
            "Requirement already satisfied: annotated-types>=0.6.0 in /Users/vipinvijayan/Developer/projects/AI/AIMakerSpace/code/learn_ai_0/myenv/lib/python3.13/site-packages (from pydantic<3.0.0,>=2.7.4->langchain) (0.7.0)\n",
            "Requirement already satisfied: pydantic-core==2.33.2 in /Users/vipinvijayan/Developer/projects/AI/AIMakerSpace/code/learn_ai_0/myenv/lib/python3.13/site-packages (from pydantic<3.0.0,>=2.7.4->langchain) (2.33.2)\n",
            "Requirement already satisfied: typing-inspection>=0.4.0 in /Users/vipinvijayan/Developer/projects/AI/AIMakerSpace/code/learn_ai_0/myenv/lib/python3.13/site-packages (from pydantic<3.0.0,>=2.7.4->langchain) (0.4.1)\n",
            "Requirement already satisfied: charset_normalizer<4,>=2 in /Users/vipinvijayan/Developer/projects/AI/AIMakerSpace/code/learn_ai_0/myenv/lib/python3.13/site-packages (from requests<3,>=2->langchain) (3.4.3)\n",
            "Requirement already satisfied: urllib3<3,>=1.21.1 in /Users/vipinvijayan/Developer/projects/AI/AIMakerSpace/code/learn_ai_0/myenv/lib/python3.13/site-packages (from requests<3,>=2->langchain) (2.5.0)\n",
            "Requirement already satisfied: jsonpointer>=1.9 in /Users/vipinvijayan/Developer/projects/AI/AIMakerSpace/code/learn_ai_0/myenv/lib/python3.13/site-packages (from jsonpatch<2.0,>=1.33->langchain-core<1.0.0,>=0.3.72->langchain) (3.0.0)\n",
            "\n",
            "\u001b[1m[\u001b[0m\u001b[34;49mnotice\u001b[0m\u001b[1;39;49m]\u001b[0m\u001b[39;49m A new release of pip is available: \u001b[0m\u001b[31;49m25.0\u001b[0m\u001b[39;49m -> \u001b[0m\u001b[32;49m25.2\u001b[0m\n",
            "\u001b[1m[\u001b[0m\u001b[34;49mnotice\u001b[0m\u001b[1;39;49m]\u001b[0m\u001b[39;49m To update, run: \u001b[0m\u001b[32;49mpip install --upgrade pip\u001b[0m\n",
            "\n",
            "\u001b[1m[\u001b[0m\u001b[34;49mnotice\u001b[0m\u001b[1;39;49m]\u001b[0m\u001b[39;49m A new release of pip is available: \u001b[0m\u001b[31;49m25.0\u001b[0m\u001b[39;49m -> \u001b[0m\u001b[32;49m25.2\u001b[0m\n",
            "\u001b[1m[\u001b[0m\u001b[34;49mnotice\u001b[0m\u001b[1;39;49m]\u001b[0m\u001b[39;49m To update, run: \u001b[0m\u001b[32;49mpip install --upgrade pip\u001b[0m\n"
          ]
        }
      ],
      "source": [
        "!pip install langchain openai"
      ]
    },
    {
      "cell_type": "code",
      "execution_count": 33,
      "metadata": {
        "id": "lAxaSvlfIeOg"
      },
      "outputs": [],
      "source": [
        "from langchain_community.tools.tavily_search import TavilySearchResults\n",
        "from langchain_community.tools.arxiv.tool import ArxivQueryRun\n",
        "\n",
        "tavily_tool = TavilySearchResults(max_results=5)\n",
        "\n",
        "tool_belt = [\n",
        "    tavily_tool,\n",
        "    ArxivQueryRun(),\n",
        "]"
      ]
    },
    {
      "cell_type": "markdown",
      "metadata": {
        "id": "VI-C669ZYVI5"
      },
      "source": [
        "### Model\n",
        "\n",
        "Now we can set-up our model! We'll leverage the familiar OpenAI model suite for this example - but it's not *necessary* to use with LangGraph. LangGraph supports all models - though you might not find success with smaller models - as such, they recommend you stick with:\n",
        "\n",
        "- OpenAI's GPT-3.5 and GPT-4\n",
        "- Anthropic's Claude\n",
        "- Google's Gemini\n",
        "\n",
        "> NOTE: Because we're leveraging the OpenAI function calling API - we'll need to use OpenAI *for this specific example* (or any other service that exposes an OpenAI-style function calling API."
      ]
    },
    {
      "cell_type": "code",
      "execution_count": 34,
      "metadata": {
        "id": "QkNS8rNZJs4z"
      },
      "outputs": [],
      "source": [
        "from langchain_openai import ChatOpenAI\n",
        "\n",
        "model = ChatOpenAI(model=\"gpt-4o-mini\", temperature=0)"
      ]
    },
    {
      "cell_type": "markdown",
      "metadata": {
        "id": "Ugkj3GzuZpQv"
      },
      "source": [
        "Now that we have our model set-up, let's \"put on the tool belt\", which is to say: We'll bind our LangChain formatted tools to the model in an OpenAI function calling format."
      ]
    },
    {
      "cell_type": "code",
      "execution_count": 35,
      "metadata": {
        "id": "4OdMqFafZ_0V"
      },
      "outputs": [],
      "source": [
        "model = model.bind_tools(tool_belt)"
      ]
    },
    {
      "cell_type": "markdown",
      "metadata": {
        "id": "ERzuGo6W18Lr"
      },
      "source": [
        "#### ❓ Question #1:\n",
        "\n",
        "How does the model determine which tool to use?"
      ]
    },
    {
      "cell_type": "markdown",
      "metadata": {
        "id": "_296Ub96Z_H8"
      },
      "source": [
        "## Task 4: Putting the State in Stateful\n",
        "\n",
        "Earlier we used this phrasing:\n",
        "\n",
        "`coordinated multi-actor and stateful applications`\n",
        "\n",
        "So what does that \"stateful\" mean?\n",
        "\n",
        "To put it simply - we want to have some kind of object which we can pass around our application that holds information about what the current situation (state) is. Since our system will be constructed of many parts moving in a coordinated fashion - we want to be able to ensure we have some commonly understood idea of that state.\n",
        "\n",
        "LangGraph leverages a `StatefulGraph` which uses an `AgentState` object to pass information between the various nodes of the graph.\n",
        "\n",
        "There are more options than what we'll see below - but this `AgentState` object is one that is stored in a `TypedDict` with the key `messages` and the value is a `Sequence` of `BaseMessages` that will be appended to whenever the state changes.\n",
        "\n",
        "Let's think about a simple example to help understand exactly what this means (we'll simplify a great deal to try and clearly communicate what state is doing):\n",
        "\n",
        "1. We initialize our state object:\n",
        "  - `{\"messages\" : []}`\n",
        "2. Our user submits a query to our application.\n",
        "  - New State: `HumanMessage(#1)`\n",
        "  - `{\"messages\" : [HumanMessage(#1)}`\n",
        "3. We pass our state object to an Agent node which is able to read the current state. It will use the last `HumanMessage` as input. It gets some kind of output which it will add to the state.\n",
        "  - New State: `AgentMessage(#1, additional_kwargs {\"function_call\" : \"WebSearchTool\"})`\n",
        "  - `{\"messages\" : [HumanMessage(#1), AgentMessage(#1, ...)]}`\n",
        "4. We pass our state object to a \"conditional node\" (more on this later) which reads the last state to determine if we need to use a tool - which it can determine properly because of our provided object!"
      ]
    },
    {
      "cell_type": "code",
      "execution_count": 36,
      "metadata": {
        "id": "mxL9b_NZKUdL"
      },
      "outputs": [],
      "source": [
        "from typing import TypedDict, Annotated\n",
        "from langgraph.graph.message import add_messages\n",
        "import operator\n",
        "from langchain_core.messages import BaseMessage\n",
        "\n",
        "class AgentState(TypedDict):\n",
        "  messages: Annotated[list, add_messages]"
      ]
    },
    {
      "cell_type": "markdown",
      "metadata": {
        "id": "vWsMhfO9grLu"
      },
      "source": [
        "## Task 5: It's Graphing Time!\n",
        "\n",
        "Now that we have state, and we have tools, and we have an LLM - we can finally start making our graph!\n",
        "\n",
        "Let's take a second to refresh ourselves about what a graph is in this context.\n",
        "\n",
        "Graphs, also called networks in some circles, are a collection of connected objects.\n",
        "\n",
        "The objects in question are typically called nodes, or vertices, and the connections are called edges.\n",
        "\n",
        "Let's look at a simple graph.\n",
        "\n",
        "![image](https://i.imgur.com/2NFLnIc.png)\n",
        "\n",
        "Here, we're using the coloured circles to represent the nodes and the yellow lines to represent the edges. In this case, we're looking at a fully connected graph - where each node is connected by an edge to each other node.\n",
        "\n",
        "If we were to think about nodes in the context of LangGraph - we would think of a function, or an LCEL runnable.\n",
        "\n",
        "If we were to think about edges in the context of LangGraph - we might think of them as \"paths to take\" or \"where to pass our state object next\".\n",
        "\n",
        "Let's create some nodes and expand on our diagram.\n",
        "\n",
        "> NOTE: Due to the tight integration with LCEL - we can comfortably create our nodes in an async fashion!"
      ]
    },
    {
      "cell_type": "code",
      "execution_count": 37,
      "metadata": {
        "id": "91flJWtZLUrl"
      },
      "outputs": [],
      "source": [
        "from langgraph.prebuilt import ToolNode\n",
        "\n",
        "def call_model(state):\n",
        "  messages = state[\"messages\"]\n",
        "  response = model.invoke(messages)\n",
        "  return {\"messages\" : [response]}\n",
        "\n",
        "tool_node = ToolNode(tool_belt)"
      ]
    },
    {
      "cell_type": "markdown",
      "metadata": {
        "id": "2bwR7MgWj3Wg"
      },
      "source": [
        "Now we have two total nodes. We have:\n",
        "\n",
        "- `call_model` is a node that will...well...call the model\n",
        "- `tool_node` is a node which can call a tool\n",
        "\n",
        "Let's start adding nodes! We'll update our diagram along the way to keep track of what this looks like!\n"
      ]
    },
    {
      "cell_type": "code",
      "execution_count": 38,
      "metadata": {
        "colab": {
          "base_uri": "https://localhost:8080/"
        },
        "id": "_vF4_lgtmQNo",
        "outputId": "a4384377-8f7a-415f-be1b-fee6169cb101"
      },
      "outputs": [
        {
          "data": {
            "text/plain": [
              "<langgraph.graph.state.StateGraph at 0x121fe25d0>"
            ]
          },
          "execution_count": 38,
          "metadata": {},
          "output_type": "execute_result"
        }
      ],
      "source": [
        "from langgraph.graph import StateGraph, END\n",
        "\n",
        "uncompiled_graph = StateGraph(AgentState)\n",
        "\n",
        "uncompiled_graph.add_node(\"agent\", call_model)\n",
        "uncompiled_graph.add_node(\"action\", tool_node)"
      ]
    },
    {
      "cell_type": "markdown",
      "metadata": {
        "id": "b8CjRlbVmRpW"
      },
      "source": [
        "Let's look at what we have so far:\n",
        "\n",
        "![image](https://i.imgur.com/md7inqG.png)"
      ]
    },
    {
      "cell_type": "markdown",
      "metadata": {
        "id": "uaXHpPeSnOWC"
      },
      "source": [
        "Next, we'll add our entrypoint. All our entrypoint does is indicate which node is called first."
      ]
    },
    {
      "cell_type": "code",
      "execution_count": 39,
      "metadata": {
        "colab": {
          "base_uri": "https://localhost:8080/"
        },
        "id": "YGCbaYqRnmiw",
        "outputId": "5351807c-2ac7-4316-a3a3-878abeacd114"
      },
      "outputs": [
        {
          "data": {
            "text/plain": [
              "<langgraph.graph.state.StateGraph at 0x121fe25d0>"
            ]
          },
          "execution_count": 39,
          "metadata": {},
          "output_type": "execute_result"
        }
      ],
      "source": [
        "uncompiled_graph.set_entry_point(\"agent\")"
      ]
    },
    {
      "cell_type": "markdown",
      "metadata": {
        "id": "BUsfGoSpoF9U"
      },
      "source": [
        "![image](https://i.imgur.com/wNixpJe.png)"
      ]
    },
    {
      "cell_type": "markdown",
      "metadata": {
        "id": "0Q_pQgHmoW0M"
      },
      "source": [
        "Now we want to build a \"conditional edge\" which will use the output state of a node to determine which path to follow.\n",
        "\n",
        "We can help conceptualize this by thinking of our conditional edge as a conditional in a flowchart!\n",
        "\n",
        "Notice how our function simply checks if there is a \"function_call\" kwarg present.\n",
        "\n",
        "Then we create an edge where the origin node is our agent node and our destination node is *either* the action node or the END (finish the graph).\n",
        "\n",
        "It's important to highlight that the dictionary passed in as the third parameter (the mapping) should be created with the possible outputs of our conditional function in mind. In this case `should_continue` outputs either `\"end\"` or `\"continue\"` which are subsequently mapped to the action node or the END node."
      ]
    },
    {
      "cell_type": "code",
      "execution_count": 40,
      "metadata": {
        "colab": {
          "base_uri": "https://localhost:8080/"
        },
        "id": "1BZgb81VQf9o",
        "outputId": "73a07c15-5f0b-40f2-b033-38b57d056dd8"
      },
      "outputs": [
        {
          "data": {
            "text/plain": [
              "<langgraph.graph.state.StateGraph at 0x121fe25d0>"
            ]
          },
          "execution_count": 40,
          "metadata": {},
          "output_type": "execute_result"
        }
      ],
      "source": [
        "def should_continue(state):\n",
        "  last_message = state[\"messages\"][-1]\n",
        "\n",
        "  if last_message.tool_calls:\n",
        "    return \"action\"\n",
        "\n",
        "  return END\n",
        "\n",
        "uncompiled_graph.add_conditional_edges(\n",
        "    \"agent\",\n",
        "    should_continue\n",
        ")"
      ]
    },
    {
      "cell_type": "markdown",
      "metadata": {
        "id": "-Cvhcf4jp0Ce"
      },
      "source": [
        "Let's visualize what this looks like.\n",
        "\n",
        "![image](https://i.imgur.com/8ZNwKI5.png)"
      ]
    },
    {
      "cell_type": "markdown",
      "metadata": {
        "id": "yKCjWJCkrJb9"
      },
      "source": [
        "Finally, we can add our last edge which will connect our action node to our agent node. This is because we *always* want our action node (which is used to call our tools) to return its output to our agent!"
      ]
    },
    {
      "cell_type": "code",
      "execution_count": 41,
      "metadata": {
        "colab": {
          "base_uri": "https://localhost:8080/"
        },
        "id": "UvcgbHf1rIXZ",
        "outputId": "45d4bdd6-d6bb-4a1d-bb79-cad43c130bf2"
      },
      "outputs": [
        {
          "data": {
            "text/plain": [
              "<langgraph.graph.state.StateGraph at 0x121fe25d0>"
            ]
          },
          "execution_count": 41,
          "metadata": {},
          "output_type": "execute_result"
        }
      ],
      "source": [
        "uncompiled_graph.add_edge(\"action\", \"agent\")"
      ]
    },
    {
      "cell_type": "markdown",
      "metadata": {
        "id": "EiWDwBQtrw7Z"
      },
      "source": [
        "Let's look at the final visualization.\n",
        "\n",
        "![image](https://i.imgur.com/NWO7usO.png)"
      ]
    },
    {
      "cell_type": "markdown",
      "metadata": {
        "id": "KYqDpErlsCsu"
      },
      "source": [
        "All that's left to do now is to compile our workflow - and we're off!"
      ]
    },
    {
      "cell_type": "code",
      "execution_count": 42,
      "metadata": {
        "id": "zt9-KS8DpzNx"
      },
      "outputs": [],
      "source": [
        "simple_agent_graph = uncompiled_graph.compile()"
      ]
    },
    {
      "cell_type": "markdown",
      "metadata": {
        "id": "xhNWIwBL1W4Q"
      },
      "source": [
        "#### ❓ Question #2:\n",
        "\n",
        "Is there any specific limit to how many times we can cycle?\n",
        "\n",
        "If not, how could we impose a limit to the number of cycles?"
      ]
    },
    {
      "cell_type": "markdown",
      "metadata": {
        "id": "VEYcTShCsPaa"
      },
      "source": [
        "## Using Our Graph\n",
        "\n",
        "Now that we've created and compiled our graph - we can call it *just as we'd call any other* `Runnable`!\n",
        "\n",
        "Let's try out a few examples to see how it fairs:"
      ]
    },
    {
      "cell_type": "code",
      "execution_count": 43,
      "metadata": {
        "colab": {
          "base_uri": "https://localhost:8080/"
        },
        "id": "Qn4n37PQRPII",
        "outputId": "5eeedfae-089d-496e-e71f-071939fa5832"
      },
      "outputs": [
        {
          "name": "stdout",
          "output_type": "stream",
          "text": [
            "Receiving update from node: 'agent'\n",
            "[AIMessage(content='', additional_kwargs={'tool_calls': [{'id': 'call_5LpzFBSErWauVkEwWXolGm6g', 'function': {'arguments': '{\"query\":\"how are technical professionals using AI to improve their work\"}', 'name': 'tavily_search_results_json'}, 'type': 'function'}], 'refusal': None}, response_metadata={'token_usage': {'completion_tokens': 27, 'prompt_tokens': 163, 'total_tokens': 190, 'completion_tokens_details': {'accepted_prediction_tokens': 0, 'audio_tokens': 0, 'reasoning_tokens': 0, 'rejected_prediction_tokens': 0}, 'prompt_tokens_details': {'audio_tokens': 0, 'cached_tokens': 0}}, 'model_name': 'gpt-4o-mini-2024-07-18', 'system_fingerprint': 'fp_560af6e559', 'id': 'chatcmpl-CJpHRsWZcGNIKdwyDtTg15Q3onRD4', 'service_tier': 'default', 'finish_reason': 'tool_calls', 'logprobs': None}, id='run--2623dcc5-e8fd-4f1e-9fac-88229497f457-0', tool_calls=[{'name': 'tavily_search_results_json', 'args': {'query': 'how are technical professionals using AI to improve their work'}, 'id': 'call_5LpzFBSErWauVkEwWXolGm6g', 'type': 'tool_call'}], usage_metadata={'input_tokens': 163, 'output_tokens': 27, 'total_tokens': 190, 'input_token_details': {'audio': 0, 'cache_read': 0}, 'output_token_details': {'audio': 0, 'reasoning': 0}})]\n",
            "\n",
            "\n",
            "\n",
            "Receiving update from node: 'action'\n",
            "[ToolMessage(content='[{\"title\": \"The 2025 AI Index Report | Stanford HAI\", \"url\": \"https://hai.stanford.edu/ai-index/2025-ai-index-report\", \"content\": \"[Skip to content](https://hai.stanford.edu/ai-index/2025-ai-index-report#site-main) *   [AI Index](https://hai.stanford.edu/ai-index)AI Index *   [AI Index](https://hai.stanford.edu/ai-index) *   [AI Index Report](https://hai.stanford.edu/ai-index/2025-ai-index-report) *   [Global Vibrancy Tool](https://hai.stanford.edu/ai-index/global-vibrancy-tool) *   [People](https://hai.stanford.edu/ai-index/people-of-ai-index) [Read the 2025 AI Index Report](https://hai.stanford.edu/assets/files/hai_ai_index_report_2025.pdf)[Watch Seminar](https://hai.stanford.edu/events/presenting-the-2025-ai-index#watch-brief) [Read the translation](https://hai.stanford.edu/assets/files/hai_ai_index_report_2025_chinese_version_061325.pdf) #### [Chapter 1: Research and Development](https://hai.stanford.edu/ai-index/2025-ai-index-report/research-and-development) #### [Chapter 2: Technical Performance](https://hai.stanford.edu/ai-index/2025-ai-index-report/technical-performance) #### [Chapter 3: Responsible AI](https://hai.stanford.edu/ai-index/2025-ai-index-report/responsible-ai) #### [Chapter 4: Economy](https://hai.stanford.edu/ai-index/2025-ai-index-report/economy) #### [Chapter 5: Science and Medicine](https://hai.stanford.edu/ai-index/2025-ai-index-report/science-and-medicine) #### [Chapter 6: Policy and Governance](https://hai.stanford.edu/ai-index/2025-ai-index-report/policy-and-governance) #### [Chapter 7: Education](https://hai.stanford.edu/ai-index/2025-ai-index-report/education) #### [Chapter 8: Public Opinion](https://hai.stanford.edu/ai-index/2025-ai-index-report/public-opinion) #### [The 2024 AI Index Report](https://hai.stanford.edu/ai-index/2024-ai-index-report) #### [The 2023 AI Index Report](https://hai.stanford.edu/ai-index/2023-ai-index-report) #### [The 2022 AI Index Report](https://hai.stanford.edu/ai-index/2022-ai-index-report) #### [The 2021 AI Index Report](https://hai.stanford.edu/ai-index/2021-ai-index-report) #### [The 2019 AI Index Report](https://hai.stanford.edu/ai-index/2019-ai-index-report) #### [The 2018 AI Index Report](https://hai.stanford.edu/ai-index/2018-ai-index-report) ![Image 19](https://hai.stanford.edu/_next/image?url=https%3A%2F%2Fhai.stanford.edu%2Fassets%2Fimages%2F2017-ai-index-report-cover.png&w=1080&q=100) #### [The 2017 AI Index Report](https://hai.stanford.edu/ai-index/2017-ai-index-report) The 2025 AI Index Report | Stanford HAI\", \"score\": 0.98568}, {\"title\": \"Workflow Optimization with AI Productivity Tools: From Chaos to Clarity\", \"url\": \"https://vaheaslanyan7.medium.com/workflow-optimization-with-ai-productivity-tools-from-chaos-to-clarity-91a3832cae3a\", \"content\": \"Enter AI productivity tools — a solution to streamline these workflows, enhance team collaboration, and provide a clear path forward. In this expanded article, we will explore ten key areas where AI productivity tools like **Phoenix** can optimize workflows, streamline operations, and improve collaboration across teams. **Example: Workflow Dashboards for Full Visibility**With **Phoenix’s AI Workflow Tracker**, managers can view a real-time dashboard that displays the status of ongoing projects, task ownership, and overall team performance. **Example: AI Collaboration Tools for Remote Teams****Phoenix’s AI Collaboration Tools** offer powerful solutions for remote teams, including automated task updates, team check-ins, and collaboration spaces where employees can work together on projects in real-time. **Example: Scaling for Growth with AI-Driven Efficiency**With **Phoenix’s AI Project Mentor** and **AI Time Manager**, businesses can take on more work without compromising on quality.\", \"score\": 0.98535}, {\"title\": \"AI Workflow - IBM\", \"url\": \"https://www.ibm.com/think/topics/ai-workflow\", \"content\": \"As organizations embrace digital transformation, AI-driven workflows, powered by automation platforms and advanced templates eliminate inefficiencies caused by manual tasks and improve the partner, employee and customer experience. An IBM Institute for Business Value report found 92% of executives agreed that their organization’s workflows would be digitized and willuse AI-enabled automation by 2025. There are several AI technologies that organizations can use to improve their workflows. Organizations can use AI workflows to better manage the customer process from onboarding new customers to sending them information about their purchase to handling inbound service requests. Organizations can use AI workflows to automate their pricing strategy. Organizations that created AI-driven, automated workflows are likely to be more efficient than those that rely on more manual processes.\", \"score\": 0.98278}, {\"title\": \"Google says 90% of tech workers are now using AI at work - CNN\", \"url\": \"https://www.cnn.com/2025/09/23/tech/google-study-90-percent-tech-jobs-ai\", \"content\": \"The overwhelming majority of tech industry workers use artificial intelligence on the job for tasks like writing and modifying code,\", \"score\": 0.98131}, {\"title\": \"AI in the workplace: A report for 2025 | McKinsey\", \"url\": \"https://www.mckinsey.com/capabilities/mckinsey-digital/our-insights/superagency-in-the-workplace-empowering-people-to-unlock-ais-full-potential-at-work\", \"content\": \"Enterprises can now adopt AI solutions that require high processing power, enabling real-time applications and opportunities for scalability.\", \"score\": 0.97886}]', name='tavily_search_results_json', id='07d7aca0-c018-465d-8384-db4c617f16f6', tool_call_id='call_5LpzFBSErWauVkEwWXolGm6g', artifact={'query': 'how are technical professionals using AI to improve their work', 'follow_up_questions': None, 'answer': None, 'images': [], 'results': [{'url': 'https://hai.stanford.edu/ai-index/2025-ai-index-report', 'title': 'The 2025 AI Index Report | Stanford HAI', 'content': '[Skip to content](https://hai.stanford.edu/ai-index/2025-ai-index-report#site-main) *   [AI Index](https://hai.stanford.edu/ai-index)AI Index *   [AI Index](https://hai.stanford.edu/ai-index) *   [AI Index Report](https://hai.stanford.edu/ai-index/2025-ai-index-report) *   [Global Vibrancy Tool](https://hai.stanford.edu/ai-index/global-vibrancy-tool) *   [People](https://hai.stanford.edu/ai-index/people-of-ai-index) [Read the 2025 AI Index Report](https://hai.stanford.edu/assets/files/hai_ai_index_report_2025.pdf)[Watch Seminar](https://hai.stanford.edu/events/presenting-the-2025-ai-index#watch-brief) [Read the translation](https://hai.stanford.edu/assets/files/hai_ai_index_report_2025_chinese_version_061325.pdf) #### [Chapter 1: Research and Development](https://hai.stanford.edu/ai-index/2025-ai-index-report/research-and-development) #### [Chapter 2: Technical Performance](https://hai.stanford.edu/ai-index/2025-ai-index-report/technical-performance) #### [Chapter 3: Responsible AI](https://hai.stanford.edu/ai-index/2025-ai-index-report/responsible-ai) #### [Chapter 4: Economy](https://hai.stanford.edu/ai-index/2025-ai-index-report/economy) #### [Chapter 5: Science and Medicine](https://hai.stanford.edu/ai-index/2025-ai-index-report/science-and-medicine) #### [Chapter 6: Policy and Governance](https://hai.stanford.edu/ai-index/2025-ai-index-report/policy-and-governance) #### [Chapter 7: Education](https://hai.stanford.edu/ai-index/2025-ai-index-report/education) #### [Chapter 8: Public Opinion](https://hai.stanford.edu/ai-index/2025-ai-index-report/public-opinion) #### [The 2024 AI Index Report](https://hai.stanford.edu/ai-index/2024-ai-index-report) #### [The 2023 AI Index Report](https://hai.stanford.edu/ai-index/2023-ai-index-report) #### [The 2022 AI Index Report](https://hai.stanford.edu/ai-index/2022-ai-index-report) #### [The 2021 AI Index Report](https://hai.stanford.edu/ai-index/2021-ai-index-report) #### [The 2019 AI Index Report](https://hai.stanford.edu/ai-index/2019-ai-index-report) #### [The 2018 AI Index Report](https://hai.stanford.edu/ai-index/2018-ai-index-report) ![Image 19](https://hai.stanford.edu/_next/image?url=https%3A%2F%2Fhai.stanford.edu%2Fassets%2Fimages%2F2017-ai-index-report-cover.png&w=1080&q=100) #### [The 2017 AI Index Report](https://hai.stanford.edu/ai-index/2017-ai-index-report) The 2025 AI Index Report | Stanford HAI', 'score': 0.98568, 'raw_content': None}, {'url': 'https://vaheaslanyan7.medium.com/workflow-optimization-with-ai-productivity-tools-from-chaos-to-clarity-91a3832cae3a', 'title': 'Workflow Optimization with AI Productivity Tools: From Chaos to Clarity', 'content': 'Enter AI productivity tools — a solution to streamline these workflows, enhance team collaboration, and provide a clear path forward. In this expanded article, we will explore ten key areas where AI productivity tools like **Phoenix** can optimize workflows, streamline operations, and improve collaboration across teams. **Example: Workflow Dashboards for Full Visibility**With **Phoenix’s AI Workflow Tracker**, managers can view a real-time dashboard that displays the status of ongoing projects, task ownership, and overall team performance. **Example: AI Collaboration Tools for Remote Teams****Phoenix’s AI Collaboration Tools** offer powerful solutions for remote teams, including automated task updates, team check-ins, and collaboration spaces where employees can work together on projects in real-time. **Example: Scaling for Growth with AI-Driven Efficiency**With **Phoenix’s AI Project Mentor** and **AI Time Manager**, businesses can take on more work without compromising on quality.', 'score': 0.98535, 'raw_content': None}, {'url': 'https://www.ibm.com/think/topics/ai-workflow', 'title': 'AI Workflow - IBM', 'content': 'As organizations embrace digital transformation, AI-driven workflows, powered by automation platforms and advanced templates eliminate inefficiencies caused by manual tasks and improve the partner, employee and customer experience. An IBM Institute for Business Value report found 92% of executives agreed that their organization’s workflows would be digitized and willuse AI-enabled automation by 2025. There are several AI technologies that organizations can use to improve their workflows. Organizations can use AI workflows to better manage the customer process from onboarding new customers to sending them information about their purchase to handling inbound service requests. Organizations can use AI workflows to automate their pricing strategy. Organizations that created AI-driven, automated workflows are likely to be more efficient than those that rely on more manual processes.', 'score': 0.98278, 'raw_content': None}, {'url': 'https://www.cnn.com/2025/09/23/tech/google-study-90-percent-tech-jobs-ai', 'title': 'Google says 90% of tech workers are now using AI at work - CNN', 'content': 'The overwhelming majority of tech industry workers use artificial intelligence on the job for tasks like writing and modifying code,', 'score': 0.98131, 'raw_content': None}, {'url': 'https://www.mckinsey.com/capabilities/mckinsey-digital/our-insights/superagency-in-the-workplace-empowering-people-to-unlock-ais-full-potential-at-work', 'title': 'AI in the workplace: A report for 2025 | McKinsey', 'content': 'Enterprises can now adopt AI solutions that require high processing power, enabling real-time applications and opportunities for scalability.', 'score': 0.97886, 'raw_content': None}], 'response_time': 2.22, 'request_id': 'f48c194e-9f81-45d3-8868-e1d1ae88c92b'})]\n",
            "\n",
            "\n",
            "\n",
            "Receiving update from node: 'action'\n",
            "[ToolMessage(content='[{\"title\": \"The 2025 AI Index Report | Stanford HAI\", \"url\": \"https://hai.stanford.edu/ai-index/2025-ai-index-report\", \"content\": \"[Skip to content](https://hai.stanford.edu/ai-index/2025-ai-index-report#site-main) *   [AI Index](https://hai.stanford.edu/ai-index)AI Index *   [AI Index](https://hai.stanford.edu/ai-index) *   [AI Index Report](https://hai.stanford.edu/ai-index/2025-ai-index-report) *   [Global Vibrancy Tool](https://hai.stanford.edu/ai-index/global-vibrancy-tool) *   [People](https://hai.stanford.edu/ai-index/people-of-ai-index) [Read the 2025 AI Index Report](https://hai.stanford.edu/assets/files/hai_ai_index_report_2025.pdf)[Watch Seminar](https://hai.stanford.edu/events/presenting-the-2025-ai-index#watch-brief) [Read the translation](https://hai.stanford.edu/assets/files/hai_ai_index_report_2025_chinese_version_061325.pdf) #### [Chapter 1: Research and Development](https://hai.stanford.edu/ai-index/2025-ai-index-report/research-and-development) #### [Chapter 2: Technical Performance](https://hai.stanford.edu/ai-index/2025-ai-index-report/technical-performance) #### [Chapter 3: Responsible AI](https://hai.stanford.edu/ai-index/2025-ai-index-report/responsible-ai) #### [Chapter 4: Economy](https://hai.stanford.edu/ai-index/2025-ai-index-report/economy) #### [Chapter 5: Science and Medicine](https://hai.stanford.edu/ai-index/2025-ai-index-report/science-and-medicine) #### [Chapter 6: Policy and Governance](https://hai.stanford.edu/ai-index/2025-ai-index-report/policy-and-governance) #### [Chapter 7: Education](https://hai.stanford.edu/ai-index/2025-ai-index-report/education) #### [Chapter 8: Public Opinion](https://hai.stanford.edu/ai-index/2025-ai-index-report/public-opinion) #### [The 2024 AI Index Report](https://hai.stanford.edu/ai-index/2024-ai-index-report) #### [The 2023 AI Index Report](https://hai.stanford.edu/ai-index/2023-ai-index-report) #### [The 2022 AI Index Report](https://hai.stanford.edu/ai-index/2022-ai-index-report) #### [The 2021 AI Index Report](https://hai.stanford.edu/ai-index/2021-ai-index-report) #### [The 2019 AI Index Report](https://hai.stanford.edu/ai-index/2019-ai-index-report) #### [The 2018 AI Index Report](https://hai.stanford.edu/ai-index/2018-ai-index-report) ![Image 19](https://hai.stanford.edu/_next/image?url=https%3A%2F%2Fhai.stanford.edu%2Fassets%2Fimages%2F2017-ai-index-report-cover.png&w=1080&q=100) #### [The 2017 AI Index Report](https://hai.stanford.edu/ai-index/2017-ai-index-report) The 2025 AI Index Report | Stanford HAI\", \"score\": 0.98568}, {\"title\": \"Workflow Optimization with AI Productivity Tools: From Chaos to Clarity\", \"url\": \"https://vaheaslanyan7.medium.com/workflow-optimization-with-ai-productivity-tools-from-chaos-to-clarity-91a3832cae3a\", \"content\": \"Enter AI productivity tools — a solution to streamline these workflows, enhance team collaboration, and provide a clear path forward. In this expanded article, we will explore ten key areas where AI productivity tools like **Phoenix** can optimize workflows, streamline operations, and improve collaboration across teams. **Example: Workflow Dashboards for Full Visibility**With **Phoenix’s AI Workflow Tracker**, managers can view a real-time dashboard that displays the status of ongoing projects, task ownership, and overall team performance. **Example: AI Collaboration Tools for Remote Teams****Phoenix’s AI Collaboration Tools** offer powerful solutions for remote teams, including automated task updates, team check-ins, and collaboration spaces where employees can work together on projects in real-time. **Example: Scaling for Growth with AI-Driven Efficiency**With **Phoenix’s AI Project Mentor** and **AI Time Manager**, businesses can take on more work without compromising on quality.\", \"score\": 0.98535}, {\"title\": \"AI Workflow - IBM\", \"url\": \"https://www.ibm.com/think/topics/ai-workflow\", \"content\": \"As organizations embrace digital transformation, AI-driven workflows, powered by automation platforms and advanced templates eliminate inefficiencies caused by manual tasks and improve the partner, employee and customer experience. An IBM Institute for Business Value report found 92% of executives agreed that their organization’s workflows would be digitized and willuse AI-enabled automation by 2025. There are several AI technologies that organizations can use to improve their workflows. Organizations can use AI workflows to better manage the customer process from onboarding new customers to sending them information about their purchase to handling inbound service requests. Organizations can use AI workflows to automate their pricing strategy. Organizations that created AI-driven, automated workflows are likely to be more efficient than those that rely on more manual processes.\", \"score\": 0.98278}, {\"title\": \"Google says 90% of tech workers are now using AI at work - CNN\", \"url\": \"https://www.cnn.com/2025/09/23/tech/google-study-90-percent-tech-jobs-ai\", \"content\": \"The overwhelming majority of tech industry workers use artificial intelligence on the job for tasks like writing and modifying code,\", \"score\": 0.98131}, {\"title\": \"AI in the workplace: A report for 2025 | McKinsey\", \"url\": \"https://www.mckinsey.com/capabilities/mckinsey-digital/our-insights/superagency-in-the-workplace-empowering-people-to-unlock-ais-full-potential-at-work\", \"content\": \"Enterprises can now adopt AI solutions that require high processing power, enabling real-time applications and opportunities for scalability.\", \"score\": 0.97886}]', name='tavily_search_results_json', id='07d7aca0-c018-465d-8384-db4c617f16f6', tool_call_id='call_5LpzFBSErWauVkEwWXolGm6g', artifact={'query': 'how are technical professionals using AI to improve their work', 'follow_up_questions': None, 'answer': None, 'images': [], 'results': [{'url': 'https://hai.stanford.edu/ai-index/2025-ai-index-report', 'title': 'The 2025 AI Index Report | Stanford HAI', 'content': '[Skip to content](https://hai.stanford.edu/ai-index/2025-ai-index-report#site-main) *   [AI Index](https://hai.stanford.edu/ai-index)AI Index *   [AI Index](https://hai.stanford.edu/ai-index) *   [AI Index Report](https://hai.stanford.edu/ai-index/2025-ai-index-report) *   [Global Vibrancy Tool](https://hai.stanford.edu/ai-index/global-vibrancy-tool) *   [People](https://hai.stanford.edu/ai-index/people-of-ai-index) [Read the 2025 AI Index Report](https://hai.stanford.edu/assets/files/hai_ai_index_report_2025.pdf)[Watch Seminar](https://hai.stanford.edu/events/presenting-the-2025-ai-index#watch-brief) [Read the translation](https://hai.stanford.edu/assets/files/hai_ai_index_report_2025_chinese_version_061325.pdf) #### [Chapter 1: Research and Development](https://hai.stanford.edu/ai-index/2025-ai-index-report/research-and-development) #### [Chapter 2: Technical Performance](https://hai.stanford.edu/ai-index/2025-ai-index-report/technical-performance) #### [Chapter 3: Responsible AI](https://hai.stanford.edu/ai-index/2025-ai-index-report/responsible-ai) #### [Chapter 4: Economy](https://hai.stanford.edu/ai-index/2025-ai-index-report/economy) #### [Chapter 5: Science and Medicine](https://hai.stanford.edu/ai-index/2025-ai-index-report/science-and-medicine) #### [Chapter 6: Policy and Governance](https://hai.stanford.edu/ai-index/2025-ai-index-report/policy-and-governance) #### [Chapter 7: Education](https://hai.stanford.edu/ai-index/2025-ai-index-report/education) #### [Chapter 8: Public Opinion](https://hai.stanford.edu/ai-index/2025-ai-index-report/public-opinion) #### [The 2024 AI Index Report](https://hai.stanford.edu/ai-index/2024-ai-index-report) #### [The 2023 AI Index Report](https://hai.stanford.edu/ai-index/2023-ai-index-report) #### [The 2022 AI Index Report](https://hai.stanford.edu/ai-index/2022-ai-index-report) #### [The 2021 AI Index Report](https://hai.stanford.edu/ai-index/2021-ai-index-report) #### [The 2019 AI Index Report](https://hai.stanford.edu/ai-index/2019-ai-index-report) #### [The 2018 AI Index Report](https://hai.stanford.edu/ai-index/2018-ai-index-report) ![Image 19](https://hai.stanford.edu/_next/image?url=https%3A%2F%2Fhai.stanford.edu%2Fassets%2Fimages%2F2017-ai-index-report-cover.png&w=1080&q=100) #### [The 2017 AI Index Report](https://hai.stanford.edu/ai-index/2017-ai-index-report) The 2025 AI Index Report | Stanford HAI', 'score': 0.98568, 'raw_content': None}, {'url': 'https://vaheaslanyan7.medium.com/workflow-optimization-with-ai-productivity-tools-from-chaos-to-clarity-91a3832cae3a', 'title': 'Workflow Optimization with AI Productivity Tools: From Chaos to Clarity', 'content': 'Enter AI productivity tools — a solution to streamline these workflows, enhance team collaboration, and provide a clear path forward. In this expanded article, we will explore ten key areas where AI productivity tools like **Phoenix** can optimize workflows, streamline operations, and improve collaboration across teams. **Example: Workflow Dashboards for Full Visibility**With **Phoenix’s AI Workflow Tracker**, managers can view a real-time dashboard that displays the status of ongoing projects, task ownership, and overall team performance. **Example: AI Collaboration Tools for Remote Teams****Phoenix’s AI Collaboration Tools** offer powerful solutions for remote teams, including automated task updates, team check-ins, and collaboration spaces where employees can work together on projects in real-time. **Example: Scaling for Growth with AI-Driven Efficiency**With **Phoenix’s AI Project Mentor** and **AI Time Manager**, businesses can take on more work without compromising on quality.', 'score': 0.98535, 'raw_content': None}, {'url': 'https://www.ibm.com/think/topics/ai-workflow', 'title': 'AI Workflow - IBM', 'content': 'As organizations embrace digital transformation, AI-driven workflows, powered by automation platforms and advanced templates eliminate inefficiencies caused by manual tasks and improve the partner, employee and customer experience. An IBM Institute for Business Value report found 92% of executives agreed that their organization’s workflows would be digitized and willuse AI-enabled automation by 2025. There are several AI technologies that organizations can use to improve their workflows. Organizations can use AI workflows to better manage the customer process from onboarding new customers to sending them information about their purchase to handling inbound service requests. Organizations can use AI workflows to automate their pricing strategy. Organizations that created AI-driven, automated workflows are likely to be more efficient than those that rely on more manual processes.', 'score': 0.98278, 'raw_content': None}, {'url': 'https://www.cnn.com/2025/09/23/tech/google-study-90-percent-tech-jobs-ai', 'title': 'Google says 90% of tech workers are now using AI at work - CNN', 'content': 'The overwhelming majority of tech industry workers use artificial intelligence on the job for tasks like writing and modifying code,', 'score': 0.98131, 'raw_content': None}, {'url': 'https://www.mckinsey.com/capabilities/mckinsey-digital/our-insights/superagency-in-the-workplace-empowering-people-to-unlock-ais-full-potential-at-work', 'title': 'AI in the workplace: A report for 2025 | McKinsey', 'content': 'Enterprises can now adopt AI solutions that require high processing power, enabling real-time applications and opportunities for scalability.', 'score': 0.97886, 'raw_content': None}], 'response_time': 2.22, 'request_id': 'f48c194e-9f81-45d3-8868-e1d1ae88c92b'})]\n",
            "\n",
            "\n",
            "\n",
            "Receiving update from node: 'agent'\n",
            "[AIMessage(content=\"Technical professionals are increasingly leveraging AI to enhance their work in various ways. Here are some key insights:\\n\\n1. **Workflow Optimization**: AI productivity tools are being used to streamline workflows and improve team collaboration. For instance, tools like Phoenix provide real-time dashboards for project management, enabling managers to track ongoing projects and team performance effectively. AI collaboration tools also facilitate remote teamwork by automating task updates and providing collaborative spaces for real-time project work. [Read more here](https://vaheaslanyan7.medium.com/workflow-optimization-with-ai-productivity-tools-from-chaos-to-clarity-91a3832cae3a).\\n\\n2. **Automation of Tasks**: Organizations are adopting AI-driven workflows to eliminate inefficiencies caused by manual tasks. This includes automating customer onboarding processes, managing service requests, and even pricing strategies. A report by IBM indicates that a significant majority of executives believe their workflows will be digitized and AI-enabled by 2025. [Learn more about AI workflows](https://www.ibm.com/think/topics/ai-workflow).\\n\\n3. **Code Development**: A recent study by Google found that 90% of tech workers are using AI for tasks such as writing and modifying code. This indicates a strong trend towards integrating AI into software development processes, enhancing productivity and efficiency. [Check the study here](https://www.cnn.com/2025/09/23/tech/google-study-90-percent-tech-jobs-ai).\\n\\n4. **Real-time Applications**: Enterprises are now able to adopt AI solutions that require high processing power, allowing for real-time applications and scalability. This capability empowers professionals to unlock AI's full potential in their work environments. [Explore more insights from McKinsey](https://www.mckinsey.com/capabilities/mckinsey-digital/our-insights/superagency-in-the-workplace-empowering-people-to-unlock-ais-full-potential-at-work).\\n\\n5. **AI Index Reports**: The Stanford AI Index Report provides comprehensive insights into how AI is being integrated across various sectors, including research and development, technical performance, and responsible AI practices. [Read the 2025 AI Index Report](https://hai.stanford.edu/ai-index/2025-ai-index-report).\\n\\nThese examples illustrate how AI is transforming the work landscape for technical professionals, making processes more efficient and collaborative.\", additional_kwargs={'refusal': None}, response_metadata={'token_usage': {'completion_tokens': 482, 'prompt_tokens': 1584, 'total_tokens': 2066, 'completion_tokens_details': {'accepted_prediction_tokens': 0, 'audio_tokens': 0, 'reasoning_tokens': 0, 'rejected_prediction_tokens': 0}, 'prompt_tokens_details': {'audio_tokens': 0, 'cached_tokens': 0}}, 'model_name': 'gpt-4o-mini-2024-07-18', 'system_fingerprint': 'fp_560af6e559', 'id': 'chatcmpl-CJpHWVhw1JmnXAgJWGu6YhQ1EgaUu', 'service_tier': 'default', 'finish_reason': 'stop', 'logprobs': None}, id='run--568d552e-2d75-42f3-9f58-3898998ccd42-0', usage_metadata={'input_tokens': 1584, 'output_tokens': 482, 'total_tokens': 2066, 'input_token_details': {'audio': 0, 'cache_read': 0}, 'output_token_details': {'audio': 0, 'reasoning': 0}})]\n",
            "\n",
            "\n",
            "\n",
            "Receiving update from node: 'agent'\n",
            "[AIMessage(content=\"Technical professionals are increasingly leveraging AI to enhance their work in various ways. Here are some key insights:\\n\\n1. **Workflow Optimization**: AI productivity tools are being used to streamline workflows and improve team collaboration. For instance, tools like Phoenix provide real-time dashboards for project management, enabling managers to track ongoing projects and team performance effectively. AI collaboration tools also facilitate remote teamwork by automating task updates and providing collaborative spaces for real-time project work. [Read more here](https://vaheaslanyan7.medium.com/workflow-optimization-with-ai-productivity-tools-from-chaos-to-clarity-91a3832cae3a).\\n\\n2. **Automation of Tasks**: Organizations are adopting AI-driven workflows to eliminate inefficiencies caused by manual tasks. This includes automating customer onboarding processes, managing service requests, and even pricing strategies. A report by IBM indicates that a significant majority of executives believe their workflows will be digitized and AI-enabled by 2025. [Learn more about AI workflows](https://www.ibm.com/think/topics/ai-workflow).\\n\\n3. **Code Development**: A recent study by Google found that 90% of tech workers are using AI for tasks such as writing and modifying code. This indicates a strong trend towards integrating AI into software development processes, enhancing productivity and efficiency. [Check the study here](https://www.cnn.com/2025/09/23/tech/google-study-90-percent-tech-jobs-ai).\\n\\n4. **Real-time Applications**: Enterprises are now able to adopt AI solutions that require high processing power, allowing for real-time applications and scalability. This capability empowers professionals to unlock AI's full potential in their work environments. [Explore more insights from McKinsey](https://www.mckinsey.com/capabilities/mckinsey-digital/our-insights/superagency-in-the-workplace-empowering-people-to-unlock-ais-full-potential-at-work).\\n\\n5. **AI Index Reports**: The Stanford AI Index Report provides comprehensive insights into how AI is being integrated across various sectors, including research and development, technical performance, and responsible AI practices. [Read the 2025 AI Index Report](https://hai.stanford.edu/ai-index/2025-ai-index-report).\\n\\nThese examples illustrate how AI is transforming the work landscape for technical professionals, making processes more efficient and collaborative.\", additional_kwargs={'refusal': None}, response_metadata={'token_usage': {'completion_tokens': 482, 'prompt_tokens': 1584, 'total_tokens': 2066, 'completion_tokens_details': {'accepted_prediction_tokens': 0, 'audio_tokens': 0, 'reasoning_tokens': 0, 'rejected_prediction_tokens': 0}, 'prompt_tokens_details': {'audio_tokens': 0, 'cached_tokens': 0}}, 'model_name': 'gpt-4o-mini-2024-07-18', 'system_fingerprint': 'fp_560af6e559', 'id': 'chatcmpl-CJpHWVhw1JmnXAgJWGu6YhQ1EgaUu', 'service_tier': 'default', 'finish_reason': 'stop', 'logprobs': None}, id='run--568d552e-2d75-42f3-9f58-3898998ccd42-0', usage_metadata={'input_tokens': 1584, 'output_tokens': 482, 'total_tokens': 2066, 'input_token_details': {'audio': 0, 'cache_read': 0}, 'output_token_details': {'audio': 0, 'reasoning': 0}})]\n",
            "\n",
            "\n",
            "\n"
          ]
        }
      ],
      "source": [
        "from langchain_core.messages import HumanMessage\n",
        "\n",
        "inputs = {\"messages\" : [HumanMessage(content=\"How are technical professionals using AI to improve their work?\")]}\n",
        "\n",
        "async for chunk in simple_agent_graph.astream(inputs, stream_mode=\"updates\"):\n",
        "    for node, values in chunk.items():\n",
        "        print(f\"Receiving update from node: '{node}'\")\n",
        "        print(values[\"messages\"])\n",
        "        print(\"\\n\\n\")"
      ]
    },
    {
      "cell_type": "markdown",
      "metadata": {
        "id": "DBHnUtLSscRr"
      },
      "source": [
        "Let's look at what happened:\n",
        "\n",
        "1. Our state object was populated with our request\n",
        "2. The state object was passed into our entry point (agent node) and the agent node added an `AIMessage` to the state object and passed it along the conditional edge\n",
        "3. The conditional edge received the state object, found the \"tool_calls\" `additional_kwarg`, and sent the state object to the action node\n",
        "4. The action node added the response from the OpenAI function calling endpoint to the state object and passed it along the edge to the agent node\n",
        "5. The agent node added a response to the state object and passed it along the conditional edge\n",
        "6. The conditional edge received the state object, could not find the \"tool_calls\" `additional_kwarg` and passed the state object to END where we see it output in the cell above!\n",
        "\n",
        "Now let's look at an example that shows a multiple tool usage - all with the same flow!"
      ]
    },
    {
      "cell_type": "code",
      "execution_count": 44,
      "metadata": {
        "colab": {
          "base_uri": "https://localhost:8080/"
        },
        "id": "afv2BuEsV5JG",
        "outputId": "ff009536-d281-4a56-c126-9cd245352bfe"
      },
      "outputs": [
        {
          "name": "stdout",
          "output_type": "stream",
          "text": [
            "Receiving update from node: 'agent'\n",
            "[AIMessage(content='', additional_kwargs={'tool_calls': [{'id': 'call_YLTqJ4fVTQ4rRQNQ9QU6hE2i', 'function': {'arguments': '{\"query\":\"A Comprehensive Survey of Deep\"}', 'name': 'arxiv'}, 'type': 'function'}], 'refusal': None}, response_metadata={'token_usage': {'completion_tokens': 18, 'prompt_tokens': 182, 'total_tokens': 200, 'completion_tokens_details': {'accepted_prediction_tokens': 0, 'audio_tokens': 0, 'reasoning_tokens': 0, 'rejected_prediction_tokens': 0}, 'prompt_tokens_details': {'audio_tokens': 0, 'cached_tokens': 0}}, 'model_name': 'gpt-4o-mini-2024-07-18', 'system_fingerprint': 'fp_560af6e559', 'id': 'chatcmpl-CJpHgVjNdZ85UZkNc4WUUNKgLY3rO', 'service_tier': 'default', 'finish_reason': 'tool_calls', 'logprobs': None}, id='run--456bf827-8e67-42cb-80ea-eab45e39b924-0', tool_calls=[{'name': 'arxiv', 'args': {'query': 'A Comprehensive Survey of Deep'}, 'id': 'call_YLTqJ4fVTQ4rRQNQ9QU6hE2i', 'type': 'tool_call'}], usage_metadata={'input_tokens': 182, 'output_tokens': 18, 'total_tokens': 200, 'input_token_details': {'audio': 0, 'cache_read': 0}, 'output_token_details': {'audio': 0, 'reasoning': 0}})]\n",
            "\n",
            "\n",
            "\n",
            "Receiving update from node: 'action'\n",
            "Tool Used: arxiv\n",
            "[ToolMessage(content='Published: 2022-10-09\\nTitle: Deep Clustering: A Comprehensive Survey\\nAuthors: Yazhou Ren, Jingyu Pu, Zhimeng Yang, Jie Xu, Guofeng Li, Xiaorong Pu, Philip S. Yu, Lifang He\\nSummary: Cluster analysis plays an indispensable role in machine learning and data\\nmining. Learning a good data representation is crucial for clustering\\nalgorithms. Recently, deep clustering, which can learn clustering-friendly\\nrepresentations using deep neural networks, has been broadly applied in a wide\\nrange of clustering tasks. Existing surveys for deep clustering mainly focus on\\nthe single-view fields and the network architectures, ignoring the complex\\napplication scenarios of clustering. To address this issue, in this paper we\\nprovide a comprehensive survey for deep clustering in views of data sources.\\nWith different data sources and initial conditions, we systematically\\ndistinguish the clustering methods in terms of methodology, prior knowledge,\\nand architecture. Concretely, deep clustering methods are introduced according\\nto four categories, i.e., traditional single-view deep clustering,\\nsemi-supervised deep clustering, deep multi-view clustering, and deep transfer\\nclustering. Finally, we discuss the open challenges and potential future\\nopportunities in different fields of deep clustering.\\n\\nPublished: 2023-07-07\\nTitle: A Survey of Deep Learning in Sports Applications: Perception, Comprehension, and Decision\\nAuthors: Zhonghan Zhao, Wenhao Chai, Shengyu Hao, Wenhao Hu, Guanhong Wang, Shidong Cao, Mingli Song, Jenq-Neng Hwang, Gaoang Wang\\nSummary: Deep learning has the potential to revolutionize sports performance, with\\napplications ranging from perception and comprehension to decision. This paper\\npresents a comprehensive survey of deep learning in sports performance,\\nfocusing on three main aspects: algorithms, datasets and virtual environments,\\nand challenges. Firstly, we discuss the hierarchical structure of deep learning\\nalgorithms in sports performance which includes perception, comprehension and\\ndecision while comparing their strengths and weaknesses. Secondly, we list\\nwidely used existing datasets in sports and highlight their characteristics and\\nlimitations. Finally, we summarize current challenges and point out future\\ntrends of deep learning in sports. Our survey provides valuable reference\\nmaterial for researchers interested in deep learning in sports applications.\\n\\nPublished: 2021-03-05\\nTitle: A comprehensive survey on point cloud registration\\nAuthors: Xiaoshui Huang, Guofeng Mei, Jian Zhang, Rana Abbas\\nSummary: Registration is a transformation estimation problem between two point clouds,\\nwhich has a unique and critical role in numerous computer vision applications.\\nThe developments of optimization-based methods and deep learning methods have\\nimproved registration robustness and efficiency. Recently, the combinations of\\noptimization-based and deep learning methods have further improved performance.\\nHowever, the connections between optimization-based and deep learning methods\\nare still unclear. Moreover, with the recent development of 3D sensors and 3D\\nreconstruction techniques, a new research direction emerges to align\\ncross-source point clouds. This survey conducts a comprehensive survey,\\nincluding both same-source and cross-source registration methods, and summarize\\nthe connections between optimization-based and deep learning methods, to\\nprovide further research insight. This survey also builds a new benchmark to\\nevaluate the state-of-the-art registration algorithms in solving cross-source\\nchallenges. Besides, this survey summarizes the benchmark data sets and\\ndiscusses point cloud registration applications across various domains.\\nFinally, this survey proposes potential research directions in this rapidly\\ngrowing field.', name='arxiv', id='f257118b-5e45-4f36-9997-e9f975a4ce67', tool_call_id='call_YLTqJ4fVTQ4rRQNQ9QU6hE2i')]\n",
            "\n",
            "\n",
            "\n",
            "Receiving update from node: 'action'\n",
            "Tool Used: arxiv\n",
            "[ToolMessage(content='Published: 2022-10-09\\nTitle: Deep Clustering: A Comprehensive Survey\\nAuthors: Yazhou Ren, Jingyu Pu, Zhimeng Yang, Jie Xu, Guofeng Li, Xiaorong Pu, Philip S. Yu, Lifang He\\nSummary: Cluster analysis plays an indispensable role in machine learning and data\\nmining. Learning a good data representation is crucial for clustering\\nalgorithms. Recently, deep clustering, which can learn clustering-friendly\\nrepresentations using deep neural networks, has been broadly applied in a wide\\nrange of clustering tasks. Existing surveys for deep clustering mainly focus on\\nthe single-view fields and the network architectures, ignoring the complex\\napplication scenarios of clustering. To address this issue, in this paper we\\nprovide a comprehensive survey for deep clustering in views of data sources.\\nWith different data sources and initial conditions, we systematically\\ndistinguish the clustering methods in terms of methodology, prior knowledge,\\nand architecture. Concretely, deep clustering methods are introduced according\\nto four categories, i.e., traditional single-view deep clustering,\\nsemi-supervised deep clustering, deep multi-view clustering, and deep transfer\\nclustering. Finally, we discuss the open challenges and potential future\\nopportunities in different fields of deep clustering.\\n\\nPublished: 2023-07-07\\nTitle: A Survey of Deep Learning in Sports Applications: Perception, Comprehension, and Decision\\nAuthors: Zhonghan Zhao, Wenhao Chai, Shengyu Hao, Wenhao Hu, Guanhong Wang, Shidong Cao, Mingli Song, Jenq-Neng Hwang, Gaoang Wang\\nSummary: Deep learning has the potential to revolutionize sports performance, with\\napplications ranging from perception and comprehension to decision. This paper\\npresents a comprehensive survey of deep learning in sports performance,\\nfocusing on three main aspects: algorithms, datasets and virtual environments,\\nand challenges. Firstly, we discuss the hierarchical structure of deep learning\\nalgorithms in sports performance which includes perception, comprehension and\\ndecision while comparing their strengths and weaknesses. Secondly, we list\\nwidely used existing datasets in sports and highlight their characteristics and\\nlimitations. Finally, we summarize current challenges and point out future\\ntrends of deep learning in sports. Our survey provides valuable reference\\nmaterial for researchers interested in deep learning in sports applications.\\n\\nPublished: 2021-03-05\\nTitle: A comprehensive survey on point cloud registration\\nAuthors: Xiaoshui Huang, Guofeng Mei, Jian Zhang, Rana Abbas\\nSummary: Registration is a transformation estimation problem between two point clouds,\\nwhich has a unique and critical role in numerous computer vision applications.\\nThe developments of optimization-based methods and deep learning methods have\\nimproved registration robustness and efficiency. Recently, the combinations of\\noptimization-based and deep learning methods have further improved performance.\\nHowever, the connections between optimization-based and deep learning methods\\nare still unclear. Moreover, with the recent development of 3D sensors and 3D\\nreconstruction techniques, a new research direction emerges to align\\ncross-source point clouds. This survey conducts a comprehensive survey,\\nincluding both same-source and cross-source registration methods, and summarize\\nthe connections between optimization-based and deep learning methods, to\\nprovide further research insight. This survey also builds a new benchmark to\\nevaluate the state-of-the-art registration algorithms in solving cross-source\\nchallenges. Besides, this survey summarizes the benchmark data sets and\\ndiscusses point cloud registration applications across various domains.\\nFinally, this survey proposes potential research directions in this rapidly\\ngrowing field.', name='arxiv', id='f257118b-5e45-4f36-9997-e9f975a4ce67', tool_call_id='call_YLTqJ4fVTQ4rRQNQ9QU6hE2i')]\n",
            "\n",
            "\n",
            "\n",
            "Receiving update from node: 'agent'\n",
            "[AIMessage(content='', additional_kwargs={'tool_calls': [{'id': 'call_i8DWdhfwgO7qdeMfXz3TPfBA', 'function': {'arguments': '{\"query\": \"Yazhou Ren\"}', 'name': 'tavily_search_results_json'}, 'type': 'function'}, {'id': 'call_F77o5vkxxJS01CVCD18iYC5F', 'function': {'arguments': '{\"query\": \"Jingyu Pu\"}', 'name': 'tavily_search_results_json'}, 'type': 'function'}, {'id': 'call_scirJ7cT46dHuoRg9KHHylbN', 'function': {'arguments': '{\"query\": \"Zhimeng Yang\"}', 'name': 'tavily_search_results_json'}, 'type': 'function'}, {'id': 'call_bJsHFtb3Pxq1uZchcwKmwCqM', 'function': {'arguments': '{\"query\": \"Jie Xu\"}', 'name': 'tavily_search_results_json'}, 'type': 'function'}, {'id': 'call_LC7jkjoVIEBcQE8AGczj9cIE', 'function': {'arguments': '{\"query\": \"Guofeng Li\"}', 'name': 'tavily_search_results_json'}, 'type': 'function'}, {'id': 'call_qKlNfdnXE1bh2vkdEfRMQtYL', 'function': {'arguments': '{\"query\": \"Xiaorong Pu\"}', 'name': 'tavily_search_results_json'}, 'type': 'function'}, {'id': 'call_YU9SXi8tYNrASQz6Cq4RQfzE', 'function': {'arguments': '{\"query\": \"Philip S. Yu\"}', 'name': 'tavily_search_results_json'}, 'type': 'function'}, {'id': 'call_XeuqJvLnEWbgL8RFx9D7zafA', 'function': {'arguments': '{\"query\": \"Lifang He\"}', 'name': 'tavily_search_results_json'}, 'type': 'function'}], 'refusal': None}, response_metadata={'token_usage': {'completion_tokens': 184, 'prompt_tokens': 933, 'total_tokens': 1117, 'completion_tokens_details': {'accepted_prediction_tokens': 0, 'audio_tokens': 0, 'reasoning_tokens': 0, 'rejected_prediction_tokens': 0}, 'prompt_tokens_details': {'audio_tokens': 0, 'cached_tokens': 0}}, 'model_name': 'gpt-4o-mini-2024-07-18', 'system_fingerprint': 'fp_560af6e559', 'id': 'chatcmpl-CJpHhn4ikFmgTgt1EkmZd3IOKNtsO', 'service_tier': 'default', 'finish_reason': 'tool_calls', 'logprobs': None}, id='run--2454b3be-9cfd-417c-a871-625a6d97db8e-0', tool_calls=[{'name': 'tavily_search_results_json', 'args': {'query': 'Yazhou Ren'}, 'id': 'call_i8DWdhfwgO7qdeMfXz3TPfBA', 'type': 'tool_call'}, {'name': 'tavily_search_results_json', 'args': {'query': 'Jingyu Pu'}, 'id': 'call_F77o5vkxxJS01CVCD18iYC5F', 'type': 'tool_call'}, {'name': 'tavily_search_results_json', 'args': {'query': 'Zhimeng Yang'}, 'id': 'call_scirJ7cT46dHuoRg9KHHylbN', 'type': 'tool_call'}, {'name': 'tavily_search_results_json', 'args': {'query': 'Jie Xu'}, 'id': 'call_bJsHFtb3Pxq1uZchcwKmwCqM', 'type': 'tool_call'}, {'name': 'tavily_search_results_json', 'args': {'query': 'Guofeng Li'}, 'id': 'call_LC7jkjoVIEBcQE8AGczj9cIE', 'type': 'tool_call'}, {'name': 'tavily_search_results_json', 'args': {'query': 'Xiaorong Pu'}, 'id': 'call_qKlNfdnXE1bh2vkdEfRMQtYL', 'type': 'tool_call'}, {'name': 'tavily_search_results_json', 'args': {'query': 'Philip S. Yu'}, 'id': 'call_YU9SXi8tYNrASQz6Cq4RQfzE', 'type': 'tool_call'}, {'name': 'tavily_search_results_json', 'args': {'query': 'Lifang He'}, 'id': 'call_XeuqJvLnEWbgL8RFx9D7zafA', 'type': 'tool_call'}], usage_metadata={'input_tokens': 933, 'output_tokens': 184, 'total_tokens': 1117, 'input_token_details': {'audio': 0, 'cache_read': 0}, 'output_token_details': {'audio': 0, 'reasoning': 0}})]\n",
            "\n",
            "\n",
            "\n",
            "Receiving update from node: 'agent'\n",
            "[AIMessage(content='', additional_kwargs={'tool_calls': [{'id': 'call_i8DWdhfwgO7qdeMfXz3TPfBA', 'function': {'arguments': '{\"query\": \"Yazhou Ren\"}', 'name': 'tavily_search_results_json'}, 'type': 'function'}, {'id': 'call_F77o5vkxxJS01CVCD18iYC5F', 'function': {'arguments': '{\"query\": \"Jingyu Pu\"}', 'name': 'tavily_search_results_json'}, 'type': 'function'}, {'id': 'call_scirJ7cT46dHuoRg9KHHylbN', 'function': {'arguments': '{\"query\": \"Zhimeng Yang\"}', 'name': 'tavily_search_results_json'}, 'type': 'function'}, {'id': 'call_bJsHFtb3Pxq1uZchcwKmwCqM', 'function': {'arguments': '{\"query\": \"Jie Xu\"}', 'name': 'tavily_search_results_json'}, 'type': 'function'}, {'id': 'call_LC7jkjoVIEBcQE8AGczj9cIE', 'function': {'arguments': '{\"query\": \"Guofeng Li\"}', 'name': 'tavily_search_results_json'}, 'type': 'function'}, {'id': 'call_qKlNfdnXE1bh2vkdEfRMQtYL', 'function': {'arguments': '{\"query\": \"Xiaorong Pu\"}', 'name': 'tavily_search_results_json'}, 'type': 'function'}, {'id': 'call_YU9SXi8tYNrASQz6Cq4RQfzE', 'function': {'arguments': '{\"query\": \"Philip S. Yu\"}', 'name': 'tavily_search_results_json'}, 'type': 'function'}, {'id': 'call_XeuqJvLnEWbgL8RFx9D7zafA', 'function': {'arguments': '{\"query\": \"Lifang He\"}', 'name': 'tavily_search_results_json'}, 'type': 'function'}], 'refusal': None}, response_metadata={'token_usage': {'completion_tokens': 184, 'prompt_tokens': 933, 'total_tokens': 1117, 'completion_tokens_details': {'accepted_prediction_tokens': 0, 'audio_tokens': 0, 'reasoning_tokens': 0, 'rejected_prediction_tokens': 0}, 'prompt_tokens_details': {'audio_tokens': 0, 'cached_tokens': 0}}, 'model_name': 'gpt-4o-mini-2024-07-18', 'system_fingerprint': 'fp_560af6e559', 'id': 'chatcmpl-CJpHhn4ikFmgTgt1EkmZd3IOKNtsO', 'service_tier': 'default', 'finish_reason': 'tool_calls', 'logprobs': None}, id='run--2454b3be-9cfd-417c-a871-625a6d97db8e-0', tool_calls=[{'name': 'tavily_search_results_json', 'args': {'query': 'Yazhou Ren'}, 'id': 'call_i8DWdhfwgO7qdeMfXz3TPfBA', 'type': 'tool_call'}, {'name': 'tavily_search_results_json', 'args': {'query': 'Jingyu Pu'}, 'id': 'call_F77o5vkxxJS01CVCD18iYC5F', 'type': 'tool_call'}, {'name': 'tavily_search_results_json', 'args': {'query': 'Zhimeng Yang'}, 'id': 'call_scirJ7cT46dHuoRg9KHHylbN', 'type': 'tool_call'}, {'name': 'tavily_search_results_json', 'args': {'query': 'Jie Xu'}, 'id': 'call_bJsHFtb3Pxq1uZchcwKmwCqM', 'type': 'tool_call'}, {'name': 'tavily_search_results_json', 'args': {'query': 'Guofeng Li'}, 'id': 'call_LC7jkjoVIEBcQE8AGczj9cIE', 'type': 'tool_call'}, {'name': 'tavily_search_results_json', 'args': {'query': 'Xiaorong Pu'}, 'id': 'call_qKlNfdnXE1bh2vkdEfRMQtYL', 'type': 'tool_call'}, {'name': 'tavily_search_results_json', 'args': {'query': 'Philip S. Yu'}, 'id': 'call_YU9SXi8tYNrASQz6Cq4RQfzE', 'type': 'tool_call'}, {'name': 'tavily_search_results_json', 'args': {'query': 'Lifang He'}, 'id': 'call_XeuqJvLnEWbgL8RFx9D7zafA', 'type': 'tool_call'}], usage_metadata={'input_tokens': 933, 'output_tokens': 184, 'total_tokens': 1117, 'input_token_details': {'audio': 0, 'cache_read': 0}, 'output_token_details': {'audio': 0, 'reasoning': 0}})]\n",
            "\n",
            "\n",
            "\n",
            "Receiving update from node: 'action'\n",
            "Tool Used: tavily_search_results_json\n",
            "[ToolMessage(content='[{\"title\": \"\\u202aYazhou Ren (任亚洲)\\u202c - \\u202aGoogle Scholar\\u202c\", \"url\": \"https://scholar.google.com/citations?user=M7Ocw0YAAAAJ&hl=en\", \"content\": \"View all\\\\n\\\\nFollow)\\\\n\\\\nImage 21: Yazhou Ren (任亚洲)\\\\n\\\\nYazhou Ren (任亚洲)\\\\n\\\\nAssociate Professor of Computer Science, University of Electronic Science and Technology of China\\\\n\\\\nVerified email at uestc.edu.cn - Homepage\\\\n\\\\nArtificial IntelligenceMachine LearningIntelligent Healthcare\\\\n\\\\nArticles)Cited by)Public access)Co-authors) [...] Image 1: Yawen LingXiaorong PuUniversity of Electronic Science and Technology of China Verified email at uestc.edu.cn \\\\n   Image 2: Yawen LingZenglin XuFudan University Verified email at fudan.edu.cn \\\\n   Image 3: Yawen LingLifang HeAssociate Professor of Computer Science, Lehigh University Verified email at lehigh.edu \\\\n   Image 4: Yawen LingJIE XUResearch Fellow @ SUTD Verified email at sutd.edu.sg [...] Image 5: Yawen LingXiaofeng ZHUUniversity of Electronic Science and Technology of China (电子科技大学)Verified email at massey.ac.nz \\\\n   Image 6: Yawen LingGuoxian Yu(余国先)Professor, School of Software, Shandong University, Jinan, China Verified email at sdu.edu.cn \\\\n   Image 7: Yawen LingLili PanAssociate Professor, University of Electronic Science and Technology of China Verified email at uestc.edu.cn \\\\n   Image 8: Yawen LingShudong Huang (黄树东)Sichuan University Verified email at scu.edu.cn\", \"score\": 0.81875163}, {\"title\": \"Yazhou Ren | IEEE Xplore Author Details\", \"url\": \"https://ieeexplore.ieee.org/author/37086102092\", \"content\": \"Biography. Yazhou Ren (Senior Member, IEEE) received the BSc degree in information and computation science and the PhD degree in computer science from the\", \"score\": 0.7608822}, {\"title\": \"Yazhou Ren - OpenReview\", \"url\": \"https://openreview.net/profile?id=~Yazhou_Ren1\", \"content\": \"# Yazhou Ren\\\\n\\\\n### Full Professor, School of Computer Science and Engineering, University of Electronic Science and Technology of China\\\\n\\\\n### Associate Professor, School of Computer Science and Engineering, University of Electronic Science and Technology of China\\\\n\\\\n#### Names\\\\n\\\\n#### Emails\\\\n\\\\n#### Personal Links\\\\n\\\\n#### Career & Education History\\\\n\\\\n#### Advisors, Relations & Conflicts\\\\n\\\\n#### Expertise\\\\n\\\\n#### Publications [...] OpenReview is a long-term project to advance science through improved peer review with legal nonprofit status. We gratefully acknowledge the support of the OpenReview Sponsors. © 2025 OpenReview [...] #### Investigating and Mitigating the Side Effects of Noisy Views for Self-Supervised Clustering Algorithms in Practical Multi-View Scenarios)\\\\n\\\\n#### Multi-View Graph Clustering via Node-Guided Contrastive Encoding)\\\\n\\\\n#### An Effective and Secure Federated Multi-View Clustering Method with Information-Theoretic Perspective)\\\\n\\\\n#### Bridging Gaps: Federated Multi-View Clustering in Heterogeneous Hybrid Views)\\\\n\\\\n#### Homophily-Related: Adaptive Hybrid Graph Filter for Multi-View Graph Clustering)\", \"score\": 0.75442725}, {\"title\": \"Ren Yazhou-UESTC SCSE\", \"url\": \"https://www.en.scse.uestc.edu.cn/info/1085/1902.htm\", \"content\": \"09/2010~08/2014 Ph. D. student atthe School of Computer Science and Engineering, South China University of Technology.Major: Computer Applications Technology.\", \"score\": 0.69746524}, {\"title\": \"Faculty Members\", \"url\": \"https://yazhou-ren.github.io/member.html\", \"content\": \"Purity\\\\n\\\\nYazhou Ren\\\\n\\\\n### Faculty Members\\\\n\\\\nPurity\\\\n\\\\nYazhou Ren, Associate Professor\\\\n\\\\nPurity\\\\n\\\\nYazhou Ren, Associate Professor\\\\n\\\\n### Graduate Students\\\\n\\\\nJingyu Pu (普敬誉, Fall2022 -)His research interests focus on deep learning and multi-view clustering.\\\\n\\\\nYan Zheng (郑妍, Fall2022 -)Research Interests:deep learning and machine learning.\\\\n\\\\nSong Wu (吴嵩, Fall2022 -)Research Interests:deep learning and machine learning. [...] Zhimeng Yang (杨之蒙, Fall2019 - 2022)Her research interests focus on deep clustering and domain adaptation.\\\\n\\\\nYuecheng Lei (雷越城, Fall2019 - 2022)Research interests: natural language processing.\\\\n\\\\nXinyu Zhang(张新宇, Fall2020 -)Research interests: image noise reduction, super-resolution reconstruction, question answering system\\\\n\\\\nJianpeng Chen(陈建朋, Fall2020 -)Research interests：graph neural networks, graph representation learning, multi-view clustering. [...] Jinfeng Peng (彭金凤, Fall2023 -)Research interests: machine learning and deep learning.\\\\n\\\\nYuhao Li (李雨豪, Fall2023 -)deep learning and computer vision.\\\\n\\\\nHongkai Li (李虹锴, Fall2023 -)Research interests: deep learning and computer vision.\\\\n\\\\n### Alumni\\\\n\\\\nJie Xu(徐杰, Fall2019 - 2021)Jie Xu focuses on unsupervised learning, clustering, and multi-view learning. He is currently working toward the Ph.D. degree at the Centre for Future Media at the UESTC.\", \"score\": 0.47694567}]', name='tavily_search_results_json', id='382fc06b-9325-401e-bff6-ad15ac4d24a8', tool_call_id='call_i8DWdhfwgO7qdeMfXz3TPfBA', artifact={'query': 'Yazhou Ren', 'follow_up_questions': None, 'answer': None, 'images': [], 'results': [{'url': 'https://scholar.google.com/citations?user=M7Ocw0YAAAAJ&hl=en', 'title': '\\u202aYazhou Ren (任亚洲)\\u202c - \\u202aGoogle Scholar\\u202c', 'content': 'View all\\n\\nFollow)\\n\\nImage 21: Yazhou Ren (任亚洲)\\n\\nYazhou Ren (任亚洲)\\n\\nAssociate Professor of Computer Science, University of Electronic Science and Technology of China\\n\\nVerified email at uestc.edu.cn - Homepage\\n\\nArtificial IntelligenceMachine LearningIntelligent Healthcare\\n\\nArticles)Cited by)Public access)Co-authors) [...] Image 1: Yawen LingXiaorong PuUniversity of Electronic Science and Technology of China Verified email at uestc.edu.cn \\n   Image 2: Yawen LingZenglin XuFudan University Verified email at fudan.edu.cn \\n   Image 3: Yawen LingLifang HeAssociate Professor of Computer Science, Lehigh University Verified email at lehigh.edu \\n   Image 4: Yawen LingJIE XUResearch Fellow @ SUTD Verified email at sutd.edu.sg [...] Image 5: Yawen LingXiaofeng ZHUUniversity of Electronic Science and Technology of China (电子科技大学)Verified email at massey.ac.nz \\n   Image 6: Yawen LingGuoxian Yu(余国先)Professor, School of Software, Shandong University, Jinan, China Verified email at sdu.edu.cn \\n   Image 7: Yawen LingLili PanAssociate Professor, University of Electronic Science and Technology of China Verified email at uestc.edu.cn \\n   Image 8: Yawen LingShudong Huang (黄树东)Sichuan University Verified email at scu.edu.cn', 'score': 0.81875163, 'raw_content': None}, {'url': 'https://ieeexplore.ieee.org/author/37086102092', 'title': 'Yazhou Ren | IEEE Xplore Author Details', 'content': 'Biography. Yazhou Ren (Senior Member, IEEE) received the BSc degree in information and computation science and the PhD degree in computer science from the', 'score': 0.7608822, 'raw_content': None}, {'url': 'https://openreview.net/profile?id=~Yazhou_Ren1', 'title': 'Yazhou Ren - OpenReview', 'content': '# Yazhou Ren\\n\\n### Full Professor, School of Computer Science and Engineering, University of Electronic Science and Technology of China\\n\\n### Associate Professor, School of Computer Science and Engineering, University of Electronic Science and Technology of China\\n\\n#### Names\\n\\n#### Emails\\n\\n#### Personal Links\\n\\n#### Career & Education History\\n\\n#### Advisors, Relations & Conflicts\\n\\n#### Expertise\\n\\n#### Publications [...] OpenReview is a long-term project to advance science through improved peer review with legal nonprofit status. We gratefully acknowledge the support of the OpenReview Sponsors. © 2025 OpenReview [...] #### Investigating and Mitigating the Side Effects of Noisy Views for Self-Supervised Clustering Algorithms in Practical Multi-View Scenarios)\\n\\n#### Multi-View Graph Clustering via Node-Guided Contrastive Encoding)\\n\\n#### An Effective and Secure Federated Multi-View Clustering Method with Information-Theoretic Perspective)\\n\\n#### Bridging Gaps: Federated Multi-View Clustering in Heterogeneous Hybrid Views)\\n\\n#### Homophily-Related: Adaptive Hybrid Graph Filter for Multi-View Graph Clustering)', 'score': 0.75442725, 'raw_content': None}, {'url': 'https://www.en.scse.uestc.edu.cn/info/1085/1902.htm', 'title': 'Ren Yazhou-UESTC SCSE', 'content': '09/2010~08/2014 Ph. D. student atthe School of Computer Science and Engineering, South China University of Technology.Major: Computer Applications Technology.', 'score': 0.69746524, 'raw_content': None}, {'url': 'https://yazhou-ren.github.io/member.html', 'title': 'Faculty Members', 'content': 'Purity\\n\\nYazhou Ren\\n\\n### Faculty Members\\n\\nPurity\\n\\nYazhou Ren, Associate Professor\\n\\nPurity\\n\\nYazhou Ren, Associate Professor\\n\\n### Graduate Students\\n\\nJingyu Pu (普敬誉, Fall2022 -)His research interests focus on deep learning and multi-view clustering.\\n\\nYan Zheng (郑妍, Fall2022 -)Research Interests:deep learning and machine learning.\\n\\nSong Wu (吴嵩, Fall2022 -)Research Interests:deep learning and machine learning. [...] Zhimeng Yang (杨之蒙, Fall2019 - 2022)Her research interests focus on deep clustering and domain adaptation.\\n\\nYuecheng Lei (雷越城, Fall2019 - 2022)Research interests: natural language processing.\\n\\nXinyu Zhang(张新宇, Fall2020 -)Research interests: image noise reduction, super-resolution reconstruction, question answering system\\n\\nJianpeng Chen(陈建朋, Fall2020 -)Research interests：graph neural networks, graph representation learning, multi-view clustering. [...] Jinfeng Peng (彭金凤, Fall2023 -)Research interests: machine learning and deep learning.\\n\\nYuhao Li (李雨豪, Fall2023 -)deep learning and computer vision.\\n\\nHongkai Li (李虹锴, Fall2023 -)Research interests: deep learning and computer vision.\\n\\n### Alumni\\n\\nJie Xu(徐杰, Fall2019 - 2021)Jie Xu focuses on unsupervised learning, clustering, and multi-view learning. He is currently working toward the Ph.D. degree at the Centre for Future Media at the UESTC.', 'score': 0.47694567, 'raw_content': None}], 'response_time': 1.46, 'request_id': '8509774a-3a12-40a0-bef2-970e33fc511c'}), ToolMessage(content='[{\"title\": \"Jingyu Pu - Underline Science\", \"url\": \"https://underline.io/speakers/254003-jingyu-pu\", \"content\": \"Jingyu Pu received the B.S. degree in computer science and technology from Sichuan Agricultural University, China, in 2022. He is currently working toward the M.S. degree in computer science and technology with the University of Electronic Science and Technology of China, China. His research interests include Multi-View Clustering and Machine Learning.\\\\n\\\\n## Presentations\\\\n\\\\n## Adaptive Feature Imputation with Latent Graph for Deep Incomplete Multi-View Clustering | VIDEO [...] ## library\\\\n\\\\n## solutions\\\\n\\\\nprofile picture\\\\n\\\\n## Jingyu Pu\\\\n\\\\nUniversity of Electronic Science and Technology of China\\\\n\\\\nclustering\\\\n\\\\nmulti-view learning\\\\n\\\\n## 1\\\\n\\\\npresentations\\\\n\\\\n## 18\\\\n\\\\nnumber of views\\\\n\\\\n## SHORT BIO [...] Jingyu Pu and 7 other authors\\\\n\\\\n## Stay up to date with the latest Underline news!\\\\n\\\\n## PRESENTATIONS\\\\n\\\\n## CONFERENCES\\\\n\\\\n## COMPANY\\\\n\\\\n## RESOURCES\\\\n\\\\n© 2025 Underline - All rights reserved\", \"score\": 0.70799106}, {\"title\": \"Jing Pu, Ph.D. - UNM Health Sciences Center\", \"url\": \"https://hsc.unm.edu/directory/pu-jing.html\", \"content\": \"Dr. Pu received a B.S. degree in Bioengineering (2005) from Beijing Institute of Technology. She earned her Ph.D. degree (2011) from Institute of Biophysics, Chinese Academy of Sciences. Following her Ph.D. degree she completed a 5-year postdoctoral training in the NIH and 3-year Research Fellow working in the same laboratory.\\\\n\\\\n## Personal Statement [...] Logo Alt\\\\nclose-btn\\\\n\\\\n## Mobile Menu\\\\n\\\\n# Jing Pu, Ph.D.\\\\n\\\\nAssociate Professor\\\\n\\\\nSOM - Molecular Genetics and Microbiology, CC - Cellular & Molecular Oncology, SOM - Comprehensive Cancer Center\\\\n\\\\nJing  Pu, Ph.D.\\\\n\\\\n## Biography [...] I am a curious researcher, looking for the molecular mechanism of organelle dynamics in cells. Since I was fascinated by cells when I saw them under a microscope in my college study, I have been studying cells everyday, because the answers for how life is going and how diseases happen are hidden behind the tiny living structures. Our group uses the techniques in molecular cell biology and biochemistry to study cell activities at molecular level. Current focus is organelle interplays in lipid\", \"score\": 0.47051823}, {\"title\": \"Noble Aspirations - Wikipedia\", \"url\": \"https://en.wikipedia.org/wiki/Noble_Aspirations\", \"content\": \"Zhang Xiaofan (Li Yifeng), and childhood friend Lin Jingyu (Cheng Yi \\\\\"Cheng Yi (actor)\\\\\")), are the sole survivors of a village massacre. The two are accepted into the Qing Yun sect, where they learn the ways of the Immortal Sword. Although he is hardworking and determined, Xiaofan struggles to catch up to his peers due to his slow wit. One day, he acquires a \\\\\"dementor sword\\\\\" by chance when he was training in the mountains. [...] and left Yu Du, and came under the Ghost King. After she met Lin Jingyu, she fell in love with him, and thereafter secretly assisted him and his friends to escape from the Ghost King. | [...] During the martial arts competition held within Qing Yun sect, Xiaofan enters the Top 4. Together with Lu Xueqi (Yang Zi \\\\\"Yang Zi (actress)\\\\\")), Lin Jingyu and Zeng Shushu (Qin Junjie), he heads to the Bat Cave in Mt Kongsan to investigate the trails of the demonic sect. There, Xiaofan encounters danger and pivotal circumstances make him grow and mature. Along the journey, he meets Bi Yao (Zhao Liying), daughter of the Ghost King. Their relationship slowly grows and takes a meaningful turn\", \"score\": 0.3180513}, {\"title\": \"Tsinghua Science and Technology | SciOpen\", \"url\": \"https://www.sciopen.com/journal/1007-0214\", \"content\": \"Image 10 Dynamic Ensemble Learning: A Multidimensional Abilities Modeling Perspective Yunhao Sha, Qi Liu, Linan Yue, Weibo Gao, Kai Zhang, Jingyu Peng 25 August 2025\\\\n\\\\nImage 11 EIoT: Embodied Intelligence of Things Yunhao Liu, Xu Wang, Yunhuai Liu, Kebin Liu, Shuai Tong, Jinliang Yuan, Li Liu 25 August 2025\\\\n\\\\nImage 12 Grayscale-Assisted RGB Image Conversion from Near-Infrared Images Yunyi Gao, Qiankun Liu, Lin Gu, Ying Fu 29 April 2025 [...] Chao Wang, Jingjing Yu, Zhi Pei, [...],Qidi Wang, Chunlei Hong<< Fewer\\\\n\\\\nPublished: 30 December 2024 2025, 30(3): 1270-1282\\\\n\\\\nImage 47Open Access\\\\n\\\\nCamera, LiDAR, and IMU Based Multi-Sensor Fusion SLAM: A Survey\\\\n\\\\nJun Zhu, Hongyi Li, Tao Zhang \\\\n\\\\nPublished: 22 September 2023 2024, 29(2): 415-429\\\\n\\\\nImage 48Open Access\\\\n\\\\nEnhanced IDS with Deep Learning for IoT-Based Smart Cities Security\\\\n\\\\nChaimae Hazman, Azidine Guezzaz, Said Benkirane, Mourade Azrour\\\\n\\\\nPublished: 09 February 2024 2024, 29(4): 929-947 [...] Image 31Open Access\\\\n\\\\nDifferential Evolution with Joint Adaptation of Mutation Strategies and Control Parameters via Distributed Proximal Policy Optimization\\\\n\\\\nWenjie Ding, Mengtao Qian, Chao Lu, [...],Jin Yi, Huayan Pu, Jun Luo<< Fewer\\\\n\\\\nPublished: 25 August 2025 2026, 31(1): 101-124\\\\n\\\\nImage 32Open Access\\\\n\\\\nEvolution Strategies-Guided Deep Reinforcement Learning for Dynamic Hybrid Flow-Shop Scheduling Problem\\\\n\\\\nLin Luo, Xuesong Yan, Qinghua Wu, Victor S. Sheng\", \"score\": 0.23014928}, {\"title\": \"Student Achievements | NTU Singapore\", \"url\": \"https://www.ntu.edu.sg/education/undergraduate-research-experience-on-campus-(ureca)/student-achievements\", \"content\": \"| RANK | STUDENT | SUPERVISOR |\\\\n --- \\\\n| Category -ARTS, HUMANITIES  AND BUSINESS | | |\\\\n| 1st | Elaine Mok Wai Man | Alexander Robertson Coupe |\\\\n| 2nd | Muamina Khudsia Binte Prem Navas | Christopher Peter Trigg |\\\\n| Category -NATURAL AND PHYSICAL SCIENCES | | |\\\\n| 1st | Dana Yam | Kelly Andersen |\\\\n| 2nd | Dong Luojie | Wang Jingyu |\\\\n| 2nd | Poon Hock Jin | Kelly Andersen |\\\\n| 4th | Cheong Kit Siang Samuel | Eleanor Slade |\\\\n| Category -CIVIL, CHEMICAL AND MATERIAL ENGINEERING | | | [...] | Category - Engineering | | |\\\\n| 1st | Ding Ming | Chan Wai Lee |\\\\n| 2nd | Lee Yi Wei | Yeong Wai Yee |\\\\n| 3rd | Yeoh Yu Xuan | Chan Wai Lee |\\\\n| Category - Physical, Mathematical And Biological Sciences | | |\\\\n| 1st | Zoey Chua Jia Yu | Sze Siu Kwan |\\\\n| 2nd | Zeng Ziling | Pu Kanyi |\\\\n| 3rd | Zachary Lim Zhi Cong | Yang Yifan |\\\\n| Category - Biomedical And Medicine | | |\\\\n| 1st | Tu Mengyu | Hiroshi Makino |\\\\n| 2nd | Gaytri Gupta | Barron Anna |\\\\n| 3rd | Chau Pearlwe | Yan Yaw Kai | [...] | 5th | Eveline Ekklesia | Wang Jing-Yuan |\\\\n| Category - Electrical and Electronic | | |\\\\n| 1st | Koustuban Ravi | Sheel Aditya |\\\\n| 2nd | Vu Quang Vinh | Goh Wang Ling |\\\\n| 3rd | Zhang Chen | Tan Ooi Kiang |\\\\n| 4th | Dong Bin | Fan Weijun |\\\\n| Category - Information Technology and Computer Science | | |\\\\n| 1st | Kanika Jain | Tay Joc Cing |\\\\n| 2nd | Xu Kaijian | Zhang Jun |\\\\n| 3rd | Chua Zin Yan | Vitali Zagorodnov |\\\\n| 4th | Dang Thanh Xuan | Tang Xueyan |\\\\n| Category - Mechanical and Aerospace | | |\", \"score\": 0.20929222}]', name='tavily_search_results_json', id='b3715600-291d-469a-876a-51720c22e5b3', tool_call_id='call_F77o5vkxxJS01CVCD18iYC5F', artifact={'query': 'Jingyu Pu', 'follow_up_questions': None, 'answer': None, 'images': [], 'results': [{'url': 'https://underline.io/speakers/254003-jingyu-pu', 'title': 'Jingyu Pu - Underline Science', 'content': 'Jingyu Pu received the B.S. degree in computer science and technology from Sichuan Agricultural University, China, in 2022. He is currently working toward the M.S. degree in computer science and technology with the University of Electronic Science and Technology of China, China. His research interests include Multi-View Clustering and Machine Learning.\\n\\n## Presentations\\n\\n## Adaptive Feature Imputation with Latent Graph for Deep Incomplete Multi-View Clustering | VIDEO [...] ## library\\n\\n## solutions\\n\\nprofile picture\\n\\n## Jingyu Pu\\n\\nUniversity of Electronic Science and Technology of China\\n\\nclustering\\n\\nmulti-view learning\\n\\n## 1\\n\\npresentations\\n\\n## 18\\n\\nnumber of views\\n\\n## SHORT BIO [...] Jingyu Pu and 7 other authors\\n\\n## Stay up to date with the latest Underline news!\\n\\n## PRESENTATIONS\\n\\n## CONFERENCES\\n\\n## COMPANY\\n\\n## RESOURCES\\n\\n© 2025 Underline - All rights reserved', 'score': 0.70799106, 'raw_content': None}, {'url': 'https://hsc.unm.edu/directory/pu-jing.html', 'title': 'Jing Pu, Ph.D. - UNM Health Sciences Center', 'content': 'Dr. Pu received a B.S. degree in Bioengineering (2005) from Beijing Institute of Technology. She earned her Ph.D. degree (2011) from Institute of Biophysics, Chinese Academy of Sciences. Following her Ph.D. degree she completed a 5-year postdoctoral training in the NIH and 3-year Research Fellow working in the same laboratory.\\n\\n## Personal Statement [...] Logo Alt\\nclose-btn\\n\\n## Mobile Menu\\n\\n# Jing Pu, Ph.D.\\n\\nAssociate Professor\\n\\nSOM - Molecular Genetics and Microbiology, CC - Cellular & Molecular Oncology, SOM - Comprehensive Cancer Center\\n\\nJing  Pu, Ph.D.\\n\\n## Biography [...] I am a curious researcher, looking for the molecular mechanism of organelle dynamics in cells. Since I was fascinated by cells when I saw them under a microscope in my college study, I have been studying cells everyday, because the answers for how life is going and how diseases happen are hidden behind the tiny living structures. Our group uses the techniques in molecular cell biology and biochemistry to study cell activities at molecular level. Current focus is organelle interplays in lipid', 'score': 0.47051823, 'raw_content': None}, {'url': 'https://en.wikipedia.org/wiki/Noble_Aspirations', 'title': 'Noble Aspirations - Wikipedia', 'content': 'Zhang Xiaofan (Li Yifeng), and childhood friend Lin Jingyu (Cheng Yi \"Cheng Yi (actor)\")), are the sole survivors of a village massacre. The two are accepted into the Qing Yun sect, where they learn the ways of the Immortal Sword. Although he is hardworking and determined, Xiaofan struggles to catch up to his peers due to his slow wit. One day, he acquires a \"dementor sword\" by chance when he was training in the mountains. [...] and left Yu Du, and came under the Ghost King. After she met Lin Jingyu, she fell in love with him, and thereafter secretly assisted him and his friends to escape from the Ghost King. | [...] During the martial arts competition held within Qing Yun sect, Xiaofan enters the Top 4. Together with Lu Xueqi (Yang Zi \"Yang Zi (actress)\")), Lin Jingyu and Zeng Shushu (Qin Junjie), he heads to the Bat Cave in Mt Kongsan to investigate the trails of the demonic sect. There, Xiaofan encounters danger and pivotal circumstances make him grow and mature. Along the journey, he meets Bi Yao (Zhao Liying), daughter of the Ghost King. Their relationship slowly grows and takes a meaningful turn', 'score': 0.3180513, 'raw_content': None}, {'url': 'https://www.sciopen.com/journal/1007-0214', 'title': 'Tsinghua Science and Technology | SciOpen', 'content': 'Image 10 Dynamic Ensemble Learning: A Multidimensional Abilities Modeling Perspective Yunhao Sha, Qi Liu, Linan Yue, Weibo Gao, Kai Zhang, Jingyu Peng 25 August 2025\\n\\nImage 11 EIoT: Embodied Intelligence of Things Yunhao Liu, Xu Wang, Yunhuai Liu, Kebin Liu, Shuai Tong, Jinliang Yuan, Li Liu 25 August 2025\\n\\nImage 12 Grayscale-Assisted RGB Image Conversion from Near-Infrared Images Yunyi Gao, Qiankun Liu, Lin Gu, Ying Fu 29 April 2025 [...] Chao Wang, Jingjing Yu, Zhi Pei, [...],Qidi Wang, Chunlei Hong<< Fewer\\n\\nPublished: 30 December 2024 2025, 30(3): 1270-1282\\n\\nImage 47Open Access\\n\\nCamera, LiDAR, and IMU Based Multi-Sensor Fusion SLAM: A Survey\\n\\nJun Zhu, Hongyi Li, Tao Zhang \\n\\nPublished: 22 September 2023 2024, 29(2): 415-429\\n\\nImage 48Open Access\\n\\nEnhanced IDS with Deep Learning for IoT-Based Smart Cities Security\\n\\nChaimae Hazman, Azidine Guezzaz, Said Benkirane, Mourade Azrour\\n\\nPublished: 09 February 2024 2024, 29(4): 929-947 [...] Image 31Open Access\\n\\nDifferential Evolution with Joint Adaptation of Mutation Strategies and Control Parameters via Distributed Proximal Policy Optimization\\n\\nWenjie Ding, Mengtao Qian, Chao Lu, [...],Jin Yi, Huayan Pu, Jun Luo<< Fewer\\n\\nPublished: 25 August 2025 2026, 31(1): 101-124\\n\\nImage 32Open Access\\n\\nEvolution Strategies-Guided Deep Reinforcement Learning for Dynamic Hybrid Flow-Shop Scheduling Problem\\n\\nLin Luo, Xuesong Yan, Qinghua Wu, Victor S. Sheng', 'score': 0.23014928, 'raw_content': None}, {'url': 'https://www.ntu.edu.sg/education/undergraduate-research-experience-on-campus-(ureca)/student-achievements', 'title': 'Student Achievements | NTU Singapore', 'content': '| RANK | STUDENT | SUPERVISOR |\\n --- \\n| Category -ARTS, HUMANITIES  AND BUSINESS | | |\\n| 1st | Elaine Mok Wai Man | Alexander Robertson Coupe |\\n| 2nd | Muamina Khudsia Binte Prem Navas | Christopher Peter Trigg |\\n| Category -NATURAL AND PHYSICAL SCIENCES | | |\\n| 1st | Dana Yam | Kelly Andersen |\\n| 2nd | Dong Luojie | Wang Jingyu |\\n| 2nd | Poon Hock Jin | Kelly Andersen |\\n| 4th | Cheong Kit Siang Samuel | Eleanor Slade |\\n| Category -CIVIL, CHEMICAL AND MATERIAL ENGINEERING | | | [...] | Category - Engineering | | |\\n| 1st | Ding Ming | Chan Wai Lee |\\n| 2nd | Lee Yi Wei | Yeong Wai Yee |\\n| 3rd | Yeoh Yu Xuan | Chan Wai Lee |\\n| Category - Physical, Mathematical And Biological Sciences | | |\\n| 1st | Zoey Chua Jia Yu | Sze Siu Kwan |\\n| 2nd | Zeng Ziling | Pu Kanyi |\\n| 3rd | Zachary Lim Zhi Cong | Yang Yifan |\\n| Category - Biomedical And Medicine | | |\\n| 1st | Tu Mengyu | Hiroshi Makino |\\n| 2nd | Gaytri Gupta | Barron Anna |\\n| 3rd | Chau Pearlwe | Yan Yaw Kai | [...] | 5th | Eveline Ekklesia | Wang Jing-Yuan |\\n| Category - Electrical and Electronic | | |\\n| 1st | Koustuban Ravi | Sheel Aditya |\\n| 2nd | Vu Quang Vinh | Goh Wang Ling |\\n| 3rd | Zhang Chen | Tan Ooi Kiang |\\n| 4th | Dong Bin | Fan Weijun |\\n| Category - Information Technology and Computer Science | | |\\n| 1st | Kanika Jain | Tay Joc Cing |\\n| 2nd | Xu Kaijian | Zhang Jun |\\n| 3rd | Chua Zin Yan | Vitali Zagorodnov |\\n| 4th | Dang Thanh Xuan | Tang Xueyan |\\n| Category - Mechanical and Aerospace | | |', 'score': 0.20929222, 'raw_content': None}], 'response_time': 1.07, 'request_id': '367e31c1-0320-4e7d-99f3-c039d4b6bd37'}), ToolMessage(content='[{\"title\": \"Zhiming Yang Professor (Associate) Beijing at University of Science ...\", \"url\": \"https://www.researchgate.net/profile/Zhiming-Yang-5\", \"content\": \"Zhiming Yang is an associate professor at the School of Economics and Management, University of Science and Technology Beijing (USTB).\", \"score\": 0.90452427}, {\"title\": \"Zhiming Yang\", \"url\": \"https://www.nccu.edu/employee/zyang\", \"content\": \"Open Search\\\\n\\\\nSearch the Directory\\\\n\\\\n## Breadcrumb\\\\n\\\\n# Zhiming Yang\\\\n\\\\nZhiming Yang\\\\n\\\\nDr. Zhiming Yang received a bachelor\\'s degree in environmental chemistry in China before coming to U.S. He earned his master\\'s degree in environmental science at Ohio State University (2000) and his PhD degree in environmental science at Oklahoma State University (2005). Currently, he is an associate professor with a research focus on applications of geospatial technology to environmental science. [...] His research has been funded by NASA and NSF in the past years. He and Dr. Harris Williams collaborated with Delaware State University (DSU) and finished one NASA project entitled “Preparing Science Educators with Climate Change Literacy through Problem-Based Teaching and Learning ($188,952) between 2012–2014. The aim of the project was to train pre-service STEM teachers to have climate change literacy through problem-based teaching and learning activities such as curriculum integration, field [...] Two graduate students and six undergraduate students were actively involved in each step of this project, from data collection to data analysis. They were trained to design experiments, operate instruments, process satellite imagery and write research reports. As a result, one graduate student and two undergraduate students won travel awards and were invited to attend the “National Emerging Researchers Conference” held by NSF. Through extensive research, a new AOD retrieval approach that\", \"score\": 0.7783298}, {\"title\": \"Zhiming YANG | Professor and Deputy Director of Institute ...\", \"url\": \"https://www.researchgate.net/profile/Zhiming-Yang-9\", \"content\": \"Awards & Achievements(2). Award · Jan 2020. SEG 2020 Regional Vice President Lecturer. Award · Dec 2019. Second Prize of National Natural Science Award.\", \"score\": 0.6320719}, {\"title\": \"Zhimeng (Grace) Yang - Honours Biochemistry Co-op Student at ...\", \"url\": \"https://ca.linkedin.com/in/zhimeng-grace-yang-60a212b6\", \"content\": \"Honours Bachelor of Science candidate from McMaster University with a specialization in Biochemistry and Biomedical sciences. Have experience in dry and wet\", \"score\": 0.58976424}, {\"title\": \"Yang Meng\", \"url\": \"https://yangmeng96.github.io/\", \"content\": \"Yang Meng is currently pursuing a Ph.D. in Statistics at the University of California, Irvine, expected to complete by 2027, co-advised by Dr. Stephan Mandt and Dr. Babak Shahbaba. With three years of full-time professional experience in Data Science, he brings a wealth of practical knowledge to his academic pursuits. Prior to his doctoral studies, Yang earned his M.A. in Statistics from Columbia University in 2020, advised by Dr. Tian Zheng, following his B.S. in Statistics from Zhejiang [...] # Research Interests\\\\n\\\\nHis research focuses on artificial intelligence, supported by Chan-Zuckerberg Initiative.\\\\n\\\\nMultimodal Learning: latent representation analysis, multimodal variational autoencoders, interpretable machine learning\\\\n\\\\nGenerative Models: particularly flow matching models, diffusion-VAE hybrids, normalizing flows, and protein language generation models\\\\n\\\\nAI for Science: applying AI to single-cell biology, neuroscience, and public health [...] Yang Meng (孟扬)\\\\n\\\\n### Yang Meng (孟扬)\\\\n\\\\n# Biography\", \"score\": 0.51866865}]', name='tavily_search_results_json', id='49a8600d-78c2-4e49-b440-58702cafeed1', tool_call_id='call_scirJ7cT46dHuoRg9KHHylbN', artifact={'query': 'Zhimeng Yang', 'follow_up_questions': None, 'answer': None, 'images': [], 'results': [{'url': 'https://www.researchgate.net/profile/Zhiming-Yang-5', 'title': 'Zhiming Yang Professor (Associate) Beijing at University of Science ...', 'content': 'Zhiming Yang is an associate professor at the School of Economics and Management, University of Science and Technology Beijing (USTB).', 'score': 0.90452427, 'raw_content': None}, {'url': 'https://www.nccu.edu/employee/zyang', 'title': 'Zhiming Yang', 'content': \"Open Search\\n\\nSearch the Directory\\n\\n## Breadcrumb\\n\\n# Zhiming Yang\\n\\nZhiming Yang\\n\\nDr. Zhiming Yang received a bachelor's degree in environmental chemistry in China before coming to U.S. He earned his master's degree in environmental science at Ohio State University (2000) and his PhD degree in environmental science at Oklahoma State University (2005). Currently, he is an associate professor with a research focus on applications of geospatial technology to environmental science. [...] His research has been funded by NASA and NSF in the past years. He and Dr. Harris Williams collaborated with Delaware State University (DSU) and finished one NASA project entitled “Preparing Science Educators with Climate Change Literacy through Problem-Based Teaching and Learning ($188,952) between 2012–2014. The aim of the project was to train pre-service STEM teachers to have climate change literacy through problem-based teaching and learning activities such as curriculum integration, field [...] Two graduate students and six undergraduate students were actively involved in each step of this project, from data collection to data analysis. They were trained to design experiments, operate instruments, process satellite imagery and write research reports. As a result, one graduate student and two undergraduate students won travel awards and were invited to attend the “National Emerging Researchers Conference” held by NSF. Through extensive research, a new AOD retrieval approach that\", 'score': 0.7783298, 'raw_content': None}, {'url': 'https://www.researchgate.net/profile/Zhiming-Yang-9', 'title': 'Zhiming YANG | Professor and Deputy Director of Institute ...', 'content': 'Awards & Achievements(2). Award · Jan 2020. SEG 2020 Regional Vice President Lecturer. Award · Dec 2019. Second Prize of National Natural Science Award.', 'score': 0.6320719, 'raw_content': None}, {'url': 'https://ca.linkedin.com/in/zhimeng-grace-yang-60a212b6', 'title': 'Zhimeng (Grace) Yang - Honours Biochemistry Co-op Student at ...', 'content': 'Honours Bachelor of Science candidate from McMaster University with a specialization in Biochemistry and Biomedical sciences. Have experience in dry and wet', 'score': 0.58976424, 'raw_content': None}, {'url': 'https://yangmeng96.github.io/', 'title': 'Yang Meng', 'content': 'Yang Meng is currently pursuing a Ph.D. in Statistics at the University of California, Irvine, expected to complete by 2027, co-advised by Dr. Stephan Mandt and Dr. Babak Shahbaba. With three years of full-time professional experience in Data Science, he brings a wealth of practical knowledge to his academic pursuits. Prior to his doctoral studies, Yang earned his M.A. in Statistics from Columbia University in 2020, advised by Dr. Tian Zheng, following his B.S. in Statistics from Zhejiang [...] # Research Interests\\n\\nHis research focuses on artificial intelligence, supported by Chan-Zuckerberg Initiative.\\n\\nMultimodal Learning: latent representation analysis, multimodal variational autoencoders, interpretable machine learning\\n\\nGenerative Models: particularly flow matching models, diffusion-VAE hybrids, normalizing flows, and protein language generation models\\n\\nAI for Science: applying AI to single-cell biology, neuroscience, and public health [...] Yang Meng (孟扬)\\n\\n### Yang Meng (孟扬)\\n\\n# Biography', 'score': 0.51866865, 'raw_content': None}], 'response_time': 1.24, 'request_id': 'ade99431-f1d8-436c-afe1-315b0da05184'}), ToolMessage(content='[{\"title\": \"Professor, Jie Xu, Receives Prestigious NSF CAREER Award\", \"url\": \"https://news.miami.edu/coe/stories/2021/05/professor-jie-xu-receives-prestigious-nsf-career-award.html\", \"content\": \"Jie Xu, an assistant professor in the College of Engineering’s Department of Electrical and Computer Engineering, received the Faculty Early Career Development (CAREER) Award from the National Science Foundation (NSF) for his project “CAREER: Wireless InferNets: Enabling Collaborative Machine Learning Inference on the Network Path.” [...] “The College of Engineering (CoE) is implementing a set of strategic thrusts, and Dr. Jie Xu will help advance the Data Sciences and Engineering effort in CoE and also help support the University’s efforts,” said Pratim Biswas, dean of the CoE. “He joins a list of junior faculty in CoE who have won the CAREER and PECASE Awards, and the support from these are helping advance the overall research mission of CoE.” [...] Xu’s research focuses on edge computing, network security, as well as machine learning and artificial intelligence for computer communication networks.\", \"score\": 0.81204927}, {\"title\": \"Jie Xu | IEEE Communications Society\", \"url\": \"https://www.comsoc.org/jie-xu\", \"content\": \"Jie Xu (Senior Member, IEEE) received the B.E. and Ph.D. degrees from the University of Science and Technology of China in 2007 and 2012, respectively. From 2012 to 2014, he was a Research Fellow with the Department of Electrical and Computer Engineering, National University of Singapore. From 2015 to 2016, he was a Post-Doctoral Research Fellow with the Engineering Systems and Design Pillar, Singapore University of Technology and Design. From 2016 to 2019, he was a Professor with the School of [...] Information Engineering, Guangdong University of Technology, China. He is currently an Associate Professor (Tenured) with the School of Science and Engineering, The Chinese University of Hong Kong, Shenzhen, China. His research interests include wireless communications, wireless information and power transfer, UAV communications, edge computing and intelligence, and integrated sensing and communication (ISAC). He was a recipient of the 2017 IEEE Signal Processing Society Young Author Best Paper [...] Award, the IEEE/CIC ICCC 2019 Best Paper Award, the 2019 IEEE Communications Society Asia-Pacific Outstanding Young Researcher Award, and the 2019 Wireless Communications Technical Committee Outstanding Young Researcher Award. He is the Symposium Co-Chair of the IEEE GLOBECOM 2019 Wireless Communications Symposium, the workshop co-chair of several IEEE ICC and GLOBECOM workshops, the Tutorial Co-Chair of the IEEE/CIC ICCC 2019, the Vice Chair of the IEEE Wireless Communications Technical\", \"score\": 0.7734393}, {\"title\": \"Jie Xu - ASU Search\", \"url\": \"https://search.asu.edu/profile/4357530\", \"content\": \"Jie Xu received her B.Sc. degree in materials science from Shanghai Jiao Tong University and her Ph.D. in geoscience (specialized in geochemistry and geomicrobiology) from University of Wisconsin-Madison. Building on a multidisciplinary background (nanogeoscience and microbiology), Jie has developed a unique perspective on how things are connected from the manmade world to natural systems and vice versa. Her research group is named “NanoGeoBio”, representing a variety of scenarios under which [...] geochemical cycles, but also leads to innovative ideas for building our own sustainable future. Jie believes that this post-disciplinary thinking is essential for driving new breakthroughs in science and envisions to recruit a team with diverse backgrounds, ranging among microbiology, nanoscience, geochemistry, inorganic chemistry, biochemistry and biophysics at ASU. She is a 2021 DOE Early Career awardee and has been serving as an associate editor for American Mineralogist since 2017. The [...] manipulate the assembly of nanostructures. The basic work in Jie\\'s group has important implications for various applications, especially in nanomaterial synthesis, fuel cell, bioelectronic, and biocatalyst development other than providing a key holistic picture of how larger biogeochemical environments have evolved/continue to evolve. The talented scientists and students in Jie\\'s group have diverse backgrounds and we always welcome those who are interested in interdisciplinary research,\", \"score\": 0.741169}, {\"title\": \"Jie Xu | George Mason University\", \"url\": \"https://www.gmu.edu/profiles/jxu13\", \"content\": \"Before joining George Mason, Xu was a senior analyst in finance operations research with United Airlines. He worked on the research and development of revenue management, the airline’s loyalty program, and market demand forecasting. He also worked as a summer intern at IBM T.J. Watson Research Center on risk management for new product development portfolio investments and supply chain optimization at the IBM China Research Lab.\\\\n\\\\n### Research [...] Jie Xu’s research focuses on algorithmic research in the fields of artificial intelligence, digital twin simulation, data science, stochastic optimization, and risk analytics. Of specific interests are digital twin simulation-based optimization, Bayesian optimization, Monte Carlo tree search, optimal learning, and reinforcement learning. His applications research focuses on air transportation, electric vehicle grid integration, human digital twin, power systems, semiconductor manufacturing, and [...] transportation electrification, with a focus on resource allocation, system resilience, and testing. He was the President of INFORMS Simulation Society from July 2022 to June 2024. He currently serves as an Associate Editor for IISE Transactions, ACM Transactions on Modeling and Computer Simulation, Journal of Simulation, and Asia-Pacific Journal of Operational Research.\", \"score\": 0.7206637}, {\"title\": \"Jie Xu - ECE, UF\", \"url\": \"https://www.ece.ufl.edu/people/faculty/jie-xu/\", \"content\": \"close search\\\\nLogo\\\\nSchool Logo Link\\\\nsearch\\\\nsearch\\\\n\\\\n# Jie Xu\\\\n\\\\n##### Associate Professor\\\\n\\\\n## Contact\\\\n\\\\nEmail: jie.xu@ufl.edu\\\\n\\\\nPhone: 352-392-0010\\\\n\\\\nMailing Address: 5000 Malachowsky Hall, 1889 Museum Rd, Gainesville FL 32611\\\\n\\\\n## Office Location\\\\n\\\\nMALA 4125\\\\n\\\\n [Map ]\\\\n\\\\n## Primary Research Area\\\\n\\\\nComputer Engineering\\\\n\\\\n## Research Interests\\\\n\\\\nEdge computing, wireless communications and networking, distributed learning and optimization, federated learning, reinforcement learning\\\\n\\\\n## About\\\\n\\\\nHomepage\", \"score\": 0.7055624}]', name='tavily_search_results_json', id='9c57f185-99c7-481f-86d3-f84ea22cc6cc', tool_call_id='call_bJsHFtb3Pxq1uZchcwKmwCqM', artifact={'query': 'Jie Xu', 'follow_up_questions': None, 'answer': None, 'images': [], 'results': [{'url': 'https://news.miami.edu/coe/stories/2021/05/professor-jie-xu-receives-prestigious-nsf-career-award.html', 'title': 'Professor, Jie Xu, Receives Prestigious NSF CAREER Award', 'content': 'Jie Xu, an assistant professor in the College of Engineering’s Department of Electrical and Computer Engineering, received the Faculty Early Career Development (CAREER) Award from the National Science Foundation (NSF) for his project “CAREER: Wireless InferNets: Enabling Collaborative Machine Learning Inference on the Network Path.” [...] “The College of Engineering (CoE) is implementing a set of strategic thrusts, and Dr. Jie Xu will help advance the Data Sciences and Engineering effort in CoE and also help support the University’s efforts,” said Pratim Biswas, dean of the CoE. “He joins a list of junior faculty in CoE who have won the CAREER and PECASE Awards, and the support from these are helping advance the overall research mission of CoE.” [...] Xu’s research focuses on edge computing, network security, as well as machine learning and artificial intelligence for computer communication networks.', 'score': 0.81204927, 'raw_content': None}, {'url': 'https://www.comsoc.org/jie-xu', 'title': 'Jie Xu | IEEE Communications Society', 'content': 'Jie Xu (Senior Member, IEEE) received the B.E. and Ph.D. degrees from the University of Science and Technology of China in 2007 and 2012, respectively. From 2012 to 2014, he was a Research Fellow with the Department of Electrical and Computer Engineering, National University of Singapore. From 2015 to 2016, he was a Post-Doctoral Research Fellow with the Engineering Systems and Design Pillar, Singapore University of Technology and Design. From 2016 to 2019, he was a Professor with the School of [...] Information Engineering, Guangdong University of Technology, China. He is currently an Associate Professor (Tenured) with the School of Science and Engineering, The Chinese University of Hong Kong, Shenzhen, China. His research interests include wireless communications, wireless information and power transfer, UAV communications, edge computing and intelligence, and integrated sensing and communication (ISAC). He was a recipient of the 2017 IEEE Signal Processing Society Young Author Best Paper [...] Award, the IEEE/CIC ICCC 2019 Best Paper Award, the 2019 IEEE Communications Society Asia-Pacific Outstanding Young Researcher Award, and the 2019 Wireless Communications Technical Committee Outstanding Young Researcher Award. He is the Symposium Co-Chair of the IEEE GLOBECOM 2019 Wireless Communications Symposium, the workshop co-chair of several IEEE ICC and GLOBECOM workshops, the Tutorial Co-Chair of the IEEE/CIC ICCC 2019, the Vice Chair of the IEEE Wireless Communications Technical', 'score': 0.7734393, 'raw_content': None}, {'url': 'https://search.asu.edu/profile/4357530', 'title': 'Jie Xu - ASU Search', 'content': \"Jie Xu received her B.Sc. degree in materials science from Shanghai Jiao Tong University and her Ph.D. in geoscience (specialized in geochemistry and geomicrobiology) from University of Wisconsin-Madison. Building on a multidisciplinary background (nanogeoscience and microbiology), Jie has developed a unique perspective on how things are connected from the manmade world to natural systems and vice versa. Her research group is named “NanoGeoBio”, representing a variety of scenarios under which [...] geochemical cycles, but also leads to innovative ideas for building our own sustainable future. Jie believes that this post-disciplinary thinking is essential for driving new breakthroughs in science and envisions to recruit a team with diverse backgrounds, ranging among microbiology, nanoscience, geochemistry, inorganic chemistry, biochemistry and biophysics at ASU. She is a 2021 DOE Early Career awardee and has been serving as an associate editor for American Mineralogist since 2017. The [...] manipulate the assembly of nanostructures. The basic work in Jie's group has important implications for various applications, especially in nanomaterial synthesis, fuel cell, bioelectronic, and biocatalyst development other than providing a key holistic picture of how larger biogeochemical environments have evolved/continue to evolve. The talented scientists and students in Jie's group have diverse backgrounds and we always welcome those who are interested in interdisciplinary research,\", 'score': 0.741169, 'raw_content': None}, {'url': 'https://www.gmu.edu/profiles/jxu13', 'title': 'Jie Xu | George Mason University', 'content': 'Before joining George Mason, Xu was a senior analyst in finance operations research with United Airlines. He worked on the research and development of revenue management, the airline’s loyalty program, and market demand forecasting. He also worked as a summer intern at IBM T.J. Watson Research Center on risk management for new product development portfolio investments and supply chain optimization at the IBM China Research Lab.\\n\\n### Research [...] Jie Xu’s research focuses on algorithmic research in the fields of artificial intelligence, digital twin simulation, data science, stochastic optimization, and risk analytics. Of specific interests are digital twin simulation-based optimization, Bayesian optimization, Monte Carlo tree search, optimal learning, and reinforcement learning. His applications research focuses on air transportation, electric vehicle grid integration, human digital twin, power systems, semiconductor manufacturing, and [...] transportation electrification, with a focus on resource allocation, system resilience, and testing. He was the President of INFORMS Simulation Society from July 2022 to June 2024. He currently serves as an Associate Editor for IISE Transactions, ACM Transactions on Modeling and Computer Simulation, Journal of Simulation, and Asia-Pacific Journal of Operational Research.', 'score': 0.7206637, 'raw_content': None}, {'url': 'https://www.ece.ufl.edu/people/faculty/jie-xu/', 'title': 'Jie Xu - ECE, UF', 'content': 'close search\\nLogo\\nSchool Logo Link\\nsearch\\nsearch\\n\\n# Jie Xu\\n\\n##### Associate Professor\\n\\n## Contact\\n\\nEmail: jie.xu@ufl.edu\\n\\nPhone: 352-392-0010\\n\\nMailing Address: 5000 Malachowsky Hall, 1889 Museum Rd, Gainesville FL 32611\\n\\n## Office Location\\n\\nMALA 4125\\n\\n [Map ]\\n\\n## Primary Research Area\\n\\nComputer Engineering\\n\\n## Research Interests\\n\\nEdge computing, wireless communications and networking, distributed learning and optimization, federated learning, reinforcement learning\\n\\n## About\\n\\nHomepage', 'score': 0.7055624, 'raw_content': None}], 'response_time': 1.68, 'request_id': '92ad6c67-9602-47b0-a057-11cd8c3779c3'}), ToolMessage(content='[{\"title\": \"Guofang Li - Language & Literacy Education - UBC LLED\", \"url\": \"https://lled.educ.ubc.ca/guofang-li/\", \"content\": \"Dr. Guofang Li is Professor and Tier 1 Canada Research Chair in Transnational and Global Perspectives of Language and Literacy Education of Children and Youth at the University of British Columbia. Her research examines the language and literacy development of multilingual children and youth in transnational and immigrant contexts. She focuses on bilingualism, biliteracy, digital literacies, technology-supported language instruction, and equity-oriented teacher education through longitudinal [...] AERA Early Career Award (2010), Division G Early Career Award (2008), and Second Language Research SIG Mid-Career Award (2016). She has also received the Edward Fry Book Award from the Literacy Research Association twice (2013, 2006) and the International Citation of Merit from the International Literacy Association in 2025. In 2023 and 2024, she was ranked among the world’s top 2% most-cited researchers in education and the social sciences by Stanford University and Elsevier. [...] and cross-cultural studies. Dr. Li has published widely in both English and Chinese, with numerous books, journal articles, and book chapters. Her scholarship has been shared broadly through keynote and invited presentations at academic, professional, and policy venues around the world. Her work has received national and international recognition from leading scholarly organizations. She was named a Fellow of the American Educational Research Association (AERA) in 2025 and is a recipient of the\", \"score\": 0.92091084}, {\"title\": \"Guofang Li - Wikipedia\", \"url\": \"https://en.wikipedia.org/wiki/Guofang_Li\", \"content\": \"Jump to content\\\\n\\\\n# Guofang Li\\\\n\\\\nAdd links\\\\n\\\\nFrom Wikipedia, the free encyclopedia\\\\n\\\\nGuofang Li is a professor of education at the University of British Columbia (UBC) in Vancouver, British Columbia, Canada. She holds the Canada Research Chair in Transnational/Global Perspectives of Language and Literacy Education of Children. Li is the author of over 100 journal articles and over a dozen books on topics related to literacy, teaching, and diversity and equity issues.\\\\n\\\\n## Early life and education [...] Li was an assistant professor at Buffalo State College, a State University of New York campus, from 2001 through 2006. She joined the faculty in the Department of Teacher Education at Michigan State University in 2006. In 2016, she was announced as a new Canada Research Chair in Transnational/Global Perspectives of Language and Literacy Education of Children at the UBC\\'s Faculty of Education.\\\\n\\\\n## Selected works\\\\n\\\\n[edit]\\\\n\\\\n### Books\\\\n\\\\n[edit] [...] [edit]\\\\n\\\\nLi was born and raised in rural China. She completed an undergraduate degree at Hubei University and a M.A. degree in applied linguistics at Wuhan University. She earned a PhD in curriculum studies from the University of Saskatchewan in 2000.\\\\n\\\\n## Career\\\\n\\\\n[edit]\", \"score\": 0.90791017}, {\"title\": \"Guofeng Li | IEEE Xplore Author Details\", \"url\": \"https://ieeexplore.ieee.org/author/37598708900\", \"content\": \"Biography. Guofeng Li (Member, IEEE) received the M.S. degree in nuclear physics from the Northeast Normal University, Changchun, China, in 1993, and the Ph\", \"score\": 0.78670514}, {\"title\": \"Dr. Guofang Li - Faculty of Education\", \"url\": \"https://educ.ubc.ca/dr-guofang-li/\", \"content\": \"Dr. Guofang Li is establishing innovative ways to bridge the gap between the cultural resources and linguistic knowledge from students’ home lives and teachers’ and schools’ literacy efforts. Li’s findings will increase educators’ understanding of specific cultural practices, as well as the importance of culturally relevant approaches to educating immigrant and minority students. Her research will also address the need to examine current language and educational policies and practices. [...] EDUC\\\\n\\\\n## Dr. Guofang Li\\\\n\\\\nCanada Research Chair in Transnational/Global Perspectives on Language and Literacy Education of Children and Youth\\\\n\\\\nProfessor, Department of Language and Literacy Education [...] Her program of research aims to improve the life success of immigrant and minority students by addressing the cultural, linguistic, instructional, and structural barriers in their literacy learning and academic achievement, in both school and at home. Her research identifies the literacy resources and practices that exist in immigrant families, as these are critical to students’ successful transition between school and home.\", \"score\": 0.7451949}, {\"title\": \"131 CU Boulder faculty members honored at convocation\", \"url\": \"https://www.colorado.edu/today/2025/09/24/131-cu-boulder-faculty-members-honored-convocation\", \"content\": \"Katherine Laura Bos Alexander (Asian Languages and Civilizations)\\\\n Natasha Bosanac (Aerospace Engineering Sciences)\\\\n Carson J. Bruns (Mechanical Engineering)\\\\n Jeremy Calder (Linguistics)\\\\n Melissa Hart Cantrell (University Libraries)\\\\n Guofeng Cao (Geography)\\\\n Edward Boyi Chuong (Molecular, Cellular and Developmental Biology)\\\\n Brianne Caitlin Cohen (Art and Art History)\\\\n Heather A. Demarest (Philosophy)\\\\n Laura Kay Devendorf (Information Science) [...] ## Faculty promoted to full professor [...] Jason A. Dexter (Astrophysical and Planetary Sciences)\\\\n Emily Holliday Dommermuth (University Libraries)\\\\n Emily Anne Gallagher (Business)\\\\n Ashton Lewis Hawk (Business)\\\\n Hannah Haynie (Linguistics)\\\\n Shu-Wei Huang (Electrical, Computer and Energy Engineering)\\\\n Maryam Jamshidi (Law)\\\\n Hilary B. Kalisman (History)\\\\n Marina Kassianidou (Art and Art History)\\\\n Brian Keegan (Information Science)\\\\n Isabel Koster (Classics)\\\\n Morteza Mehdi Lahijanian (Aerospace Engineering Sciences)\", \"score\": 0.15308042}]', name='tavily_search_results_json', id='029f907c-6401-4272-9f48-9ee4ac4fc6a4', tool_call_id='call_LC7jkjoVIEBcQE8AGczj9cIE', artifact={'query': 'Guofeng Li', 'follow_up_questions': None, 'answer': None, 'images': [], 'results': [{'url': 'https://lled.educ.ubc.ca/guofang-li/', 'title': 'Guofang Li - Language & Literacy Education - UBC LLED', 'content': 'Dr. Guofang Li is Professor and Tier 1 Canada Research Chair in Transnational and Global Perspectives of Language and Literacy Education of Children and Youth at the University of British Columbia. Her research examines the language and literacy development of multilingual children and youth in transnational and immigrant contexts. She focuses on bilingualism, biliteracy, digital literacies, technology-supported language instruction, and equity-oriented teacher education through longitudinal [...] AERA Early Career Award (2010), Division G Early Career Award (2008), and Second Language Research SIG Mid-Career Award (2016). She has also received the Edward Fry Book Award from the Literacy Research Association twice (2013, 2006) and the International Citation of Merit from the International Literacy Association in 2025. In 2023 and 2024, she was ranked among the world’s top 2% most-cited researchers in education and the social sciences by Stanford University and Elsevier. [...] and cross-cultural studies. Dr. Li has published widely in both English and Chinese, with numerous books, journal articles, and book chapters. Her scholarship has been shared broadly through keynote and invited presentations at academic, professional, and policy venues around the world. Her work has received national and international recognition from leading scholarly organizations. She was named a Fellow of the American Educational Research Association (AERA) in 2025 and is a recipient of the', 'score': 0.92091084, 'raw_content': None}, {'url': 'https://en.wikipedia.org/wiki/Guofang_Li', 'title': 'Guofang Li - Wikipedia', 'content': \"Jump to content\\n\\n# Guofang Li\\n\\nAdd links\\n\\nFrom Wikipedia, the free encyclopedia\\n\\nGuofang Li is a professor of education at the University of British Columbia (UBC) in Vancouver, British Columbia, Canada. She holds the Canada Research Chair in Transnational/Global Perspectives of Language and Literacy Education of Children. Li is the author of over 100 journal articles and over a dozen books on topics related to literacy, teaching, and diversity and equity issues.\\n\\n## Early life and education [...] Li was an assistant professor at Buffalo State College, a State University of New York campus, from 2001 through 2006. She joined the faculty in the Department of Teacher Education at Michigan State University in 2006. In 2016, she was announced as a new Canada Research Chair in Transnational/Global Perspectives of Language and Literacy Education of Children at the UBC's Faculty of Education.\\n\\n## Selected works\\n\\n[edit]\\n\\n### Books\\n\\n[edit] [...] [edit]\\n\\nLi was born and raised in rural China. She completed an undergraduate degree at Hubei University and a M.A. degree in applied linguistics at Wuhan University. She earned a PhD in curriculum studies from the University of Saskatchewan in 2000.\\n\\n## Career\\n\\n[edit]\", 'score': 0.90791017, 'raw_content': None}, {'url': 'https://ieeexplore.ieee.org/author/37598708900', 'title': 'Guofeng Li | IEEE Xplore Author Details', 'content': 'Biography. Guofeng Li (Member, IEEE) received the M.S. degree in nuclear physics from the Northeast Normal University, Changchun, China, in 1993, and the Ph', 'score': 0.78670514, 'raw_content': None}, {'url': 'https://educ.ubc.ca/dr-guofang-li/', 'title': 'Dr. Guofang Li - Faculty of Education', 'content': 'Dr. Guofang Li is establishing innovative ways to bridge the gap between the cultural resources and linguistic knowledge from students’ home lives and teachers’ and schools’ literacy efforts. Li’s findings will increase educators’ understanding of specific cultural practices, as well as the importance of culturally relevant approaches to educating immigrant and minority students. Her research will also address the need to examine current language and educational policies and practices. [...] EDUC\\n\\n## Dr. Guofang Li\\n\\nCanada Research Chair in Transnational/Global Perspectives on Language and Literacy Education of Children and Youth\\n\\nProfessor, Department of Language and Literacy Education [...] Her program of research aims to improve the life success of immigrant and minority students by addressing the cultural, linguistic, instructional, and structural barriers in their literacy learning and academic achievement, in both school and at home. Her research identifies the literacy resources and practices that exist in immigrant families, as these are critical to students’ successful transition between school and home.', 'score': 0.7451949, 'raw_content': None}, {'url': 'https://www.colorado.edu/today/2025/09/24/131-cu-boulder-faculty-members-honored-convocation', 'title': '131 CU Boulder faculty members honored at convocation', 'content': 'Katherine Laura Bos Alexander (Asian Languages and Civilizations)\\n Natasha Bosanac (Aerospace Engineering Sciences)\\n Carson J. Bruns (Mechanical Engineering)\\n Jeremy Calder (Linguistics)\\n Melissa Hart Cantrell (University Libraries)\\n Guofeng Cao (Geography)\\n Edward Boyi Chuong (Molecular, Cellular and Developmental Biology)\\n Brianne Caitlin Cohen (Art and Art History)\\n Heather A. Demarest (Philosophy)\\n Laura Kay Devendorf (Information Science) [...] ## Faculty promoted to full professor [...] Jason A. Dexter (Astrophysical and Planetary Sciences)\\n Emily Holliday Dommermuth (University Libraries)\\n Emily Anne Gallagher (Business)\\n Ashton Lewis Hawk (Business)\\n Hannah Haynie (Linguistics)\\n Shu-Wei Huang (Electrical, Computer and Energy Engineering)\\n Maryam Jamshidi (Law)\\n Hilary B. Kalisman (History)\\n Marina Kassianidou (Art and Art History)\\n Brian Keegan (Information Science)\\n Isabel Koster (Classics)\\n Morteza Mehdi Lahijanian (Aerospace Engineering Sciences)', 'score': 0.15308042, 'raw_content': None}], 'response_time': 1.29, 'request_id': 'e0710926-3036-4c2d-8cae-5ec910eeb5a5'}), ToolMessage(content='[{\"title\": \"Pu Xiaorong-UESTC SCSE\", \"url\": \"https://www.en.scse.uestc.edu.cn/info/1085/1915.htm\", \"content\": \"Biography. Educational Experiences. B. S. Computer Software, Southwest Normal University, 1988-1992. M. S. in Cognitive psychology, Southwest Normal\", \"score\": 0.5513086}, {\"title\": \"Nurses\\' Merit Awards - NUHS | National University Health System\", \"url\": \"https://www.nuhs.edu.sg/about-nuhs/awards-and-achievements/nurses-merit-awards\", \"content\": \"Assistant Nurse Clinician Amran bin Amir\\\\nNurse Clinician Pu Xiaorong\\\\nAssistant Nurse Clinician Maznah Binte Marmin\\\\nNurse Educator Siti Zainah\\\\nNurse Clinician Tang Min Yee\\\\nSenior Nurse Manager Arvinder Kaur\\\\n\\\\nAlexandra Hospital (AH) & National University Polyclinics (NUP)\\\\n\\\\nSenior Nurse Manager Marie Tsen\\\\nNurse Manager Seah Hui Min\\\\nNurse Clinician Fatimah Bte Endut\\\\n\\\\nNational University Cancer Institute, Singapore (NCIS) & National University Heart Centre, Singapore (NUHCS) [...] NUS Faculty of Dentistry\\\\nNUS Saw Swee Hock School of Public Health\\\\nBack to Top [...] Ng Yi Li  \\\\nAssistant Nurse Clinician, National University Hospital\\\\n\\\\nJasline Teo Chay Ying  \\\\nNurse Manager, National University Hospital\\\\n\\\\nChoong Mang Shya  \\\\nNurse Manager, National University Hospital\\\\n\\\\nCaroline Lim Yuh Yng  \\\\nAssistant Nurse Clinician, National University Hospital\\\\n\\\\nZhao Xiaohong  \\\\nNurse Clinician, National University Cancer Institute Singapore\\\\n\\\\nZhou Li  \\\\nAssistant Nurse Clinician, National University Heart Centre Singapore\", \"score\": 0.4654124}, {\"title\": \"[PDF] Brief biographies of four chinese pioneers in the field - MDPI\", \"url\": \"https://mdpi-res.com/data/biography.pdf\", \"content\": \"work was completed on May 1st of 1978 and was published in High Energy Physics and Nuclear Physics (predecessor of Chinese Physics C) in 1979. The method developed in this work was further extended to other high-energy reactions, known as the quark production rule, and is still in use today. [...] started his life in Shanghai and contributed all his passion to teaching and research in the Department of Physics at Fudan University for more than half-century. He told us that on his ﬁrst night in Shanghai, he wandered alone in the stadium on a bright mid-autumn night, starving and pondering about his possible future at Fudan. [...] cosmological background radiation, the open universe, Dirac’s cosmological model, and large-number assumption. Later, his studies embarked on topics about black holes, cosmology, and astrophysics, which appeared primarily in eminent international journals.\", \"score\": 0.24015966}, {\"title\": \"[PDF] Deep Clustering: A Comprehensive Survey - arXiv\", \"url\": \"https://arxiv.org/pdf/2210.04142\", \"content\": \"/R17 591 0 R /R19 593 0 R /R21 598 0 R /R23 590 0 R /R25 592 0 R /R27 594 0 R /R29 595 0 R /R31 599 0 R /R9 596 0 R >> /ProcSet [ /PDF /Text ] /Properties << /R5 588 0 R >> >> >> stream x\\x9c\\xadXÉ®5Ýß¯èe@<Çv¹<\\x88!$DO ± ý\\x82°\\x8eøsN\\x95\\x87vwß¼A\\x89²È»§]Çå\\x9aíw\\x8b5n±ò¯ýÿúîòüë?\\\\\\\\_ÿ{÷ËÛ\\x7f\\x9e¿å«¯\\\\\\\\_\\\\\\\\\\x9e¿ÊË¯\\x7f\\\\\\\\_Þ]dÅ ÇÅå\\x97¿~Y¾ÿ|y«äßúWÊ.\\x9a\\x92¦H\\x86°èòæó\\x8b5\\x81\\\\\\\\ ØÅøhSðM@\\x97Z^\\x9c¥lxñ%\\x9blÝ\\x92|1Ñú!}.6B\\x98Ù\\' òGð%¡Ë%ykrr\\x8bK\\x89\\x8cKËÝ\\x86X lëÅ9CBtiRë\\x89g½ü&j¶U±qû!s]å7îÒ¸»\\x94 m7rÜ4Ú\\x90¡c9 \\x83yHµÝ×\\x93>ëå ¬\\x94ö\\x88©Ä\\x9cå\\x8fX\\x8a\\x87\\x9dM±\\x9eB\\x80\\x85Þ]\\\\\\\\uTûïõÝòÕ-ü[ÀOÝ¾¹Ô(p ¼Pùv\\x8ei¹½»<{ÿÙíïXì \\x87\\x87«°:\\x99ÌË [...] xÚÍ<]sÜ6\\x92ïþº7ªNÃ�Ào¥®\\x9cµ\\x93u\\\\\\\\åÍÅÞÝK9¾\\\\\\\\j\\x86\\x92¸\\x9e!gINß¯¿nt\\x83I\\x8c$;Þ½{Ñ\\x80\\x8d&�ýÝ \\x89\\x8bÛ qñÝ\\x93oÞ<ùê[\\x99\\x99\\x8bìÍÍ\\x85IE,E~\\x91\\x99<Ö @»\\x8b·\\x91º|÷æû\\'\\x82\\\\\\\\_�ì\\\\\\\\]±Aü\\x8d\\x91\\x89}a#ó8\\x91\\x8a^ØîOýPu}|¹QY½¹«°a¢Cy$HWõ§ý@íº§Î®:¸j\\x86jGêágþêÛ¦+Ò$Åe\\x96ÅRË\\x8b$62§éþ\\x9b°¤ôÐ626¸,ígF\\x9bV\\x9fÅE\\x91ÃGÙn^ìë\\x96\\x963Ð¢Óh(û÷=¯¨!ð[U\\x9c\\\\\\\\ \\x98Eó7·Gx!É\\xadÛ¶Ê®zjß\\x90\\x85ÅÍCÈ¿#$ü\\x91\\x84÷¼ª\\x8eÔêëæv\\\\\\\\_m~\\xad«ËÄDÈÛ ]O\\\\\\\\_\\x9a\\x8b83¸ø(\\x91Ðøß®÷\\xad\\x885`\\x89iþÀP\\\\\\\\Î3ípþ+4\\x86P©7\\x86ä1´\\x87\\x93Æ©NÎ¿ÎOÇ\\x89Ê?ëø6I\\x92DOW§XÀ§©ÿ4éÖ$2.e·\\'Ë³ \\'\\x99¶ÿuu¨7ýéXu¿Ö=Rwã\\x99Ü¿ý\\x99\\x89E\\x96óö«/¹ý\\x9bDE\\x7f¸ÜÈ4\\x8b\\x9e\\xadLD¬òäËFñ¸Ã(f\\x87ñ\\x87õa¨8K}á\\x8d¦ÃÐb<\\x8c\\x91V?ÜU]\\x9851q\\x9e\\x8eÜùl5\\x93I¥Æ\\x8fC)bY\\x8eÏ¬mú¡+ëÆç¡ºú·\\x98ù7[³£ [...] &üó¿þ\\x99èö×/ÿ ¸\\\\\"(Fendstream endobj 387 0 obj << /Type /Metadata /Subtype /XML /Filter /FlateDecode /Length 569 >> stream x\\x9cíWA\\x8aÛ0ÝçB]dÑÚ\\x92\\x95É\\x84{\\x86!a(\\x94\\x94Ð¦[ER2&¶åÊ qæ=\\x9c¢-ô6í²W¨dg\\x91÷ñÛ-ï\\x97üaËÇ¢\\x7f}Õ KZ¦y\\\\\\\\ e\\x9ad-#È\\x84ZIjÇ.\\x8d ¨ fÁW�gs0QZ\\x82\\x91xc Fc\\x9f¯F|È\\x827\\x80`B¾@Á\\x85\\x87\\x87\\x94:\\x82ã¯z ÔbM?Lo\\x8fj6\\x8aà½19Eh¿ßûû\\x81¯ôãña\\x82ñ,+\\x99a¥\\x97¯EÍ1\\x95×qnb\\x95³\\x95Ú\\x99\\x9eSªÉo¸ó\\x9dN\\\\\\\\fÁ\\x91Ld\\\\\\\\3S ÀP\\x9f\\x8buÙÌÈ ¿Z\\x9f«¹\\x8a\\x85NàvQþ\\x8c.YnÁø\\x9cû¯ÔÏÌ\\x82ÓµÒ)³\\x8d°> stream xÚÍ\\x9bmsÔFÇßï§\\x98w!\\x95B;ÏWTª Æ`À9¦Båò®Ì\\\\\\\\¬%\\x97¤5\\x98O\\x7fÿÖÎ.\\x96 \\x92ã¬rW5£\\x9dQÏO==Ý=ÒXÁ8\\x93F2¡JÅ¤ (5Ó\\x82JÃ\\x8c¡Ò2¨Ý1¯5JÏBðLZÜ\\'4X\\x8d\\x8açi-RüPqhr²µ£\\x840aPu¸YÓÍô£ö\\x82Iï\\x99°¨T¤\", \"score\": 0.05644935}, {\"title\": \"A self-healing composite solid electrolyte with dynamic three ...\", \"url\": \"https://www.sciencedirect.com/science/article/abs/pii/S0021979724021842\", \"content\": \"Skip to main contentSkip to article\\\\n\\\\nSign in\\\\n\\\\n Access through your organization\\\\n Purchase PDF\\\\n\\\\nWe use cookies that are necessary to make our site work. We may also use additional cookies to analyze, improve, and personalize our content and your digital experience. For more information, see ourCookie Policy\\\\n\\\\n## Cookie Preference Center [...] You may choose not to allow some types of cookies. However, blocking some types may impact your experience of our site and the services we are able to offer. See the different category headings below to find out more or change your settings.\\\\n  \\\\n  \\\\nYou may also be able to exercise your privacy choices as described in our Privacy Policy [...] We use cookies which are necessary to make our site work. We may also use additional cookies to analyse, improve and personalise our content and your digital experience. For more information, see our Cookie Policy and the list of Google Ad-Tech Vendors.\", \"score\": 0.03330229}]', name='tavily_search_results_json', id='30562d01-b8a5-4bad-b85e-ffc0f0e5f4fa', tool_call_id='call_qKlNfdnXE1bh2vkdEfRMQtYL', artifact={'query': 'Xiaorong Pu', 'follow_up_questions': None, 'answer': None, 'images': [], 'results': [{'url': 'https://www.en.scse.uestc.edu.cn/info/1085/1915.htm', 'title': 'Pu Xiaorong-UESTC SCSE', 'content': 'Biography. Educational Experiences. B. S. Computer Software, Southwest Normal University, 1988-1992. M. S. in Cognitive psychology, Southwest Normal', 'score': 0.5513086, 'raw_content': None}, {'url': 'https://www.nuhs.edu.sg/about-nuhs/awards-and-achievements/nurses-merit-awards', 'title': \"Nurses' Merit Awards - NUHS | National University Health System\", 'content': 'Assistant Nurse Clinician Amran bin Amir\\nNurse Clinician Pu Xiaorong\\nAssistant Nurse Clinician Maznah Binte Marmin\\nNurse Educator Siti Zainah\\nNurse Clinician Tang Min Yee\\nSenior Nurse Manager Arvinder Kaur\\n\\nAlexandra Hospital (AH) & National University Polyclinics (NUP)\\n\\nSenior Nurse Manager Marie Tsen\\nNurse Manager Seah Hui Min\\nNurse Clinician Fatimah Bte Endut\\n\\nNational University Cancer Institute, Singapore (NCIS) & National University Heart Centre, Singapore (NUHCS) [...] NUS Faculty of Dentistry\\nNUS Saw Swee Hock School of Public Health\\nBack to Top [...] Ng Yi Li  \\nAssistant Nurse Clinician, National University Hospital\\n\\nJasline Teo Chay Ying  \\nNurse Manager, National University Hospital\\n\\nChoong Mang Shya  \\nNurse Manager, National University Hospital\\n\\nCaroline Lim Yuh Yng  \\nAssistant Nurse Clinician, National University Hospital\\n\\nZhao Xiaohong  \\nNurse Clinician, National University Cancer Institute Singapore\\n\\nZhou Li  \\nAssistant Nurse Clinician, National University Heart Centre Singapore', 'score': 0.4654124, 'raw_content': None}, {'url': 'https://mdpi-res.com/data/biography.pdf', 'title': '[PDF] Brief biographies of four chinese pioneers in the field - MDPI', 'content': 'work was completed on May 1st of 1978 and was published in High Energy Physics and Nuclear Physics (predecessor of Chinese Physics C) in 1979. The method developed in this work was further extended to other high-energy reactions, known as the quark production rule, and is still in use today. [...] started his life in Shanghai and contributed all his passion to teaching and research in the Department of Physics at Fudan University for more than half-century. He told us that on his ﬁrst night in Shanghai, he wandered alone in the stadium on a bright mid-autumn night, starving and pondering about his possible future at Fudan. [...] cosmological background radiation, the open universe, Dirac’s cosmological model, and large-number assumption. Later, his studies embarked on topics about black holes, cosmology, and astrophysics, which appeared primarily in eminent international journals.', 'score': 0.24015966, 'raw_content': None}, {'url': 'https://arxiv.org/pdf/2210.04142', 'title': '[PDF] Deep Clustering: A Comprehensive Survey - arXiv', 'content': '/R17 591 0 R /R19 593 0 R /R21 598 0 R /R23 590 0 R /R25 592 0 R /R27 594 0 R /R29 595 0 R /R31 599 0 R /R9 596 0 R >> /ProcSet [ /PDF /Text ] /Properties << /R5 588 0 R >> >> >> stream x\\x9c\\xadXÉ®5Ýß¯èe@<Çv¹<\\x88!$DO ± ý\\x82°\\x8eøsN\\x95\\x87vwß¼A\\x89²È»§]Çå\\x9aíw\\x8b5n±ò¯ýÿúîòüë?\\\\_ÿ{÷ËÛ\\x7f\\x9e¿å«¯\\\\_\\\\\\x9e¿ÊË¯\\x7f\\\\_Þ]dÅ ÇÅå\\x97¿~Y¾ÿ|y«äßúWÊ.\\x9a\\x92¦H\\x86°èòæó\\x8b5\\x81\\\\ ØÅøhSðM@\\x97Z^\\x9c¥lxñ%\\x9blÝ\\x92|1Ñú!}.6B\\x98Ù\\' òGð%¡Ë%ykrr\\x8bK\\x89\\x8cKËÝ\\x86X lëÅ9CBtiRë\\x89g½ü&j¶U±qû!s]å7îÒ¸»\\x94 m7rÜ4Ú\\x90¡c9 \\x83yHµÝ×\\x93>ëå ¬\\x94ö\\x88©Ä\\x9cå\\x8fX\\x8a\\x87\\x9dM±\\x9eB\\x80\\x85Þ]\\\\uTûïõÝòÕ-ü[ÀOÝ¾¹Ô(p ¼Pùv\\x8ei¹½»<{ÿÙíïXì \\x87\\x87«°:\\x99ÌË [...] xÚÍ<]sÜ6\\x92ïþº7ªNÃ�Ào¥®\\x9cµ\\x93u\\\\åÍÅÞÝK9¾\\\\j\\x86\\x92¸\\x9e!gINß¯¿nt\\x83I\\x8c$;Þ½{Ñ\\x80\\x8d&�ýÝ \\x89\\x8bÛ qñÝ\\x93oÞ<ùê[\\x99\\x99\\x8bìÍÍ\\x85IE,E~\\x91\\x99<Ö @»\\x8b·\\x91º|÷æû\\'\\x82\\\\_�ì\\\\]±Aü\\x8d\\x91\\x89}a#ó8\\x91\\x8a^ØîOýPu}|¹QY½¹«°a¢Cy$HWõ§ý@íº§Î®:¸j\\x86jGêágþêÛ¦+Ò$Åe\\x96ÅRË\\x8b$62§éþ\\x9b°¤ôÐ626¸,ígF\\x9bV\\x9fÅE\\x91ÃGÙn^ìë\\x96\\x963Ð¢Óh(û÷=¯¨!ð[U\\x9c\\\\ \\x98Eó7·Gx!É\\xadÛ¶Ê®zjß\\x90\\x85ÅÍCÈ¿#$ü\\x91\\x84÷¼ª\\x8eÔêëæv\\\\_m~\\xad«ËÄDÈÛ ]O\\\\_\\x9a\\x8b83¸ø(\\x91Ðøß®÷\\xad\\x885`\\x89iþÀP\\\\Î3ípþ+4\\x86P©7\\x86ä1´\\x87\\x93Æ©NÎ¿ÎOÇ\\x89Ê?ëø6I\\x92DOW§XÀ§©ÿ4éÖ$2.e·\\'Ë³ \\'\\x99¶ÿuu¨7ýéXu¿Ö=Rwã\\x99Ü¿ý\\x99\\x89E\\x96óö«/¹ý\\x9bDE\\x7f¸ÜÈ4\\x8b\\x9e\\xadLD¬òäËFñ¸Ã(f\\x87ñ\\x87õa¨8K}á\\x8d¦ÃÐb<\\x8c\\x91V?ÜU]\\x9851q\\x9e\\x8eÜùl5\\x93I¥Æ\\x8fC)bY\\x8eÏ¬mú¡+ëÆç¡ºú·\\x98ù7[³£ [...] &üó¿þ\\x99èö×/ÿ ¸\"(Fendstream endobj 387 0 obj << /Type /Metadata /Subtype /XML /Filter /FlateDecode /Length 569 >> stream x\\x9cíWA\\x8aÛ0ÝçB]dÑÚ\\x92\\x95É\\x84{\\x86!a(\\x94\\x94Ð¦[ER2&¶åÊ qæ=\\x9c¢-ô6í²W¨dg\\x91÷ñÛ-ï\\x97üaËÇ¢\\x7f}Õ KZ¦y\\\\ e\\x9ad-#È\\x84ZIjÇ.\\x8d ¨ fÁW�gs0QZ\\x82\\x91xc Fc\\x9f¯F|È\\x827\\x80`B¾@Á\\x85\\x87\\x87\\x94:\\x82ã¯z ÔbM?Lo\\x8fj6\\x8aà½19Eh¿ßûû\\x81¯ôãña\\x82ñ,+\\x99a¥\\x97¯EÍ1\\x95×qnb\\x95³\\x95Ú\\x99\\x9eSªÉo¸ó\\x9dN\\\\fÁ\\x91Ld\\\\3S ÀP\\x9f\\x8buÙÌÈ ¿Z\\x9f«¹\\x8a\\x85NàvQþ\\x8c.YnÁø\\x9cû¯ÔÏÌ\\x82ÓµÒ)³\\x8d°> stream xÚÍ\\x9bmsÔFÇßï§\\x98w!\\x95B;ÏWTª Æ`À9¦Båò®Ì\\\\¬%\\x97¤5\\x98O\\x7fÿÖÎ.\\x96 \\x92ã¬rW5£\\x9dQÏO==Ý=ÒXÁ8\\x93F2¡JÅ¤ (5Ó\\x82JÃ\\x8c¡Ò2¨Ý1¯5JÏBðLZÜ\\'4X\\x8d\\x8açi-RüPqhr²µ£\\x840aPu¸YÓÍô£ö\\x82Iï\\x99°¨T¤', 'score': 0.05644935, 'raw_content': None}, {'url': 'https://www.sciencedirect.com/science/article/abs/pii/S0021979724021842', 'title': 'A self-healing composite solid electrolyte with dynamic three ...', 'content': 'Skip to main contentSkip to article\\n\\nSign in\\n\\n Access through your organization\\n Purchase PDF\\n\\nWe use cookies that are necessary to make our site work. We may also use additional cookies to analyze, improve, and personalize our content and your digital experience. For more information, see ourCookie Policy\\n\\n## Cookie Preference Center [...] You may choose not to allow some types of cookies. However, blocking some types may impact your experience of our site and the services we are able to offer. See the different category headings below to find out more or change your settings.\\n  \\n  \\nYou may also be able to exercise your privacy choices as described in our Privacy Policy [...] We use cookies which are necessary to make our site work. We may also use additional cookies to analyse, improve and personalise our content and your digital experience. For more information, see our Cookie Policy and the list of Google Ad-Tech Vendors.', 'score': 0.03330229, 'raw_content': None}], 'response_time': 1.67, 'request_id': '120b29db-3389-45e3-bcfc-bf6295bc3702'}), ToolMessage(content='[{\"title\": \"Philip S. Yu - Wikipedia\", \"url\": \"https://en.wikipedia.org/wiki/Philip_S._Yu\", \"content\": \"Jump to content\\\\n\\\\n# Philip S. Yu\\\\n\\\\n العربية\\\\n\\\\nEdit links\\\\n\\\\nFrom Wikipedia, the free encyclopedia\\\\n\\\\nAmerican computer scientist\\\\n\\\\nPhilip S. Yu (born c. 1952) is an American computer scientist and professor of information technology at the University of Illinois at Chicago. He holds over 300 patents, and is known for his work in the field of data mining.\\\\n\\\\n## Biography\\\\n\\\\n[edit] [...] He started his career in private enterprise, at IBM\\'s Thomas J. Watson Research Center, where he eventually became manager of the Software Tools and Techniques group. Currently he is Distinguished Professor and Wexler Chair in Information Technology at the Department of Computer Science of the University of Illinois at Chicago [...] American computer scientists\\\\n American people of Taiwanese descent\\\\n University of Illinois Chicago faculty\\\\n National Taiwan University alumni\\\\n Stanford University School of Engineering alumni\\\\n New York University Stern School of Business alumni\\\\n 1997 fellows of the Association for Computing Machinery\\\\n Fellows of the IEEE\\\\n IBM Research computer scientists\\\\n 1950s births\\\\n Living people\\\\n\\\\nHidden categories:\", \"score\": 0.93295}, {\"title\": \"Philip S. Yu\", \"url\": \"https://www.computer.org/profiles/philip-yu/\", \"content\": \"Philip S. Yu is a Professor in Computer Science at the University of Illinois at Chicago and also holds the Wexler Chair in Information Technology. Dr. Yu spent most of his career at IBM, where he was manager of the Software Tools and Techniques group at the Watson Research Center. His research interest is on big data, including data mining, data stream, database and privacy. He has published more than 720 papers in refereed journals and conferences. He holds or has applied for more than 250 US [...] Dr. Yu is a Fellow of the ACM and the IEEE.  He is the Editor-in-Chief of ACM Transactions on Knowledge Discovery from Data.  He is on the steering committee of the IEEE Conference on Data Mining and ACM Conference on Information and Knowledge Management and was a member of the IEEE Data Engineering steering committee. He was the Editor-in-Chief of IEEE Transactions on Knowledge and Data Engineering (2001–2004). He received a Research Contributions Award from IEEE Intl. Conference on Data [...] Mining (2003). He had received several IBM honors including 2 IBM Outstanding Innovation Awards, an Outstanding Technical Achievement Award, 2 Research Division Awards and the 94th plateau of Invention Achievement Awards.  He was an IBM Master Inventor. Dr. Yu received the B.S. Degree in E.E. from National Taiwan University, the M.S. and Ph.D. degrees in E.E. from Stanford University, and the M.B.A. degree from New York University.\", \"score\": 0.92794675}, {\"title\": \"Philip S. Yu: On Recommendations via Large Multi-modal Models\", \"url\": \"https://en-soe.westlake.edu.cn/NewsEvents/RecentEvents/202405/t20240520_40088.shtml\", \"content\": \"Dr. Philip S. Yuis a Distinguished Professor and the Wexler Chair in Information Technology at the Department of Computer Science, University of Illinois at Chicago. He is a Fellow of the ACM and IEEE. Dr. Yu is the recipient of ACM SIGKDD 2016 Innovation Award for his influential research and scientific contributions on mining, fusion and anonymization of big data, the IEEE Computer Society’s 2013 Technical Achievement Award for “pioneering and fundamentally innovative contributions to the [...] scalable indexing, querying, searching, mining and anonymization of big data” and the Research Contributions Award from ICDM in 2003 for his pioneering contributions to the field of data mining. Dr. Yu has published more than 1,600 referred conference and journal papers cited more than 195,000 times with an H-index of 197. He has applied for more than 300 patents. Dr. Yu was the Editor-in-Chiefs of ACM TKDD (2011-2017) and IEEE TKDE (2001-2004). [...] News & Events\\\\n\\\\nRecent Events\\\\n\\\\n7th Yungu Lectureship | Philip S. Yu: On Recommendations via Large Multi-modal Models\\\\n\\\\nTime: 16:00-17:30, Tuesday, June 11, 2024\\\\n\\\\nVenue:E10-304, Yungu Campus, Westlake University\\\\n\\\\nHost: Stan Z. Li, Chair Professor, School of Engineering, Westlake University\\\\n\\\\nLanguage: English\\\\n\\\\nSpeaker：\\\\n\\\\nProf.Philip S. Yu\\\\n\\\\nDistinguished Professor,  \\\\n University of Illinois Chicago\\\\n\\\\nBiography:\", \"score\": 0.8872928}, {\"title\": \"Philip S. Yu - Computer Science - University of Illinois Chicago\", \"url\": \"https://cs.uic.edu/profiles/philip-yu/\", \"content\": \"Philip S. Yu\\'s main research interests include big data, data mining (especially on graph/network mining), social network, privacy preserving data publishing, data stream, database systems, and Internet applications and technologies. He is a Disthinguished Professor in the Department of Computer Science at UIC and also holds the Wexler Chair in Information and Technology. Before joining UIC, he was with IBM Thomas J. Watson Research Center, where he was manager of the Software Tools and [...] Dr. Yu is a Fellow of the ACM and the IEEE. He is the recepient of ACM SIGKDD 2016 Innovation Award for his influential research and scientific contributions on mining, fusion and anonymization of big data, the IEEE Computer Society\\'s 2013 Technical Achievement Award for \\\\\"pioneering and fundamentally innovative contributions to scalable indexing, querying, searching, mining and anonymization of big data\\\\\", and the Research Contributions Award from IEEE Intl. Conference on Data Mining (ICDM) in [...] Dr. Yu is the Editor-in-Chief of ACM Transactions on Knowledge Discovery from Data. He is on the steering committee of ACM Conference on Information and Knowledge Management and was a steering committee member of the IEEE Conference on Data Mining and the IEEE Conference on Data Engineering. He was the Editor-in-Chief of IEEE Transactions on Knowledge and Data Engineering (2001-2004). He had also served as an associate editor of ACM Transactions on the Internet Technology (2000-2010) and\", \"score\": 0.79522943}, {\"title\": \"Philip S. Yu: Computer Science H-index & Awards\", \"url\": \"https://research.com/u/philip-s-yu\", \"content\": \"His studies link Argument (complex analysis) with Biochemistry. His study in Biochemistry extends to Argument (complex analysis) with its themes. His Artificial intelligence study often links to related topics such as Federated learning. Machine learning and Reinforcement learning are two areas of study in which Philip S. Yu engages in interdisciplinary work. In his study, he carries out multidisciplinary Reinforcement learning and Machine learning research. He carries out multidisciplinary [...] D-Index & MetricsBest Publications\\\\n\\\\n   Home\\\\n   Best Scientists - Computer Science\\\\n   Philip S. Yu\\\\n\\\\nImage 2: Philip S. Yu\\\\n\\\\nPhilip S. Yu\\\\n\\\\nUniversity of Illinois at Chicago\\\\n\\\\nUnited States\\\\n\\\\nImage 3: Research.com 2024 Best Scientist Award Badge\\\\n\\\\n Computer Science \\\\n\\\\nUSA\\\\n\\\\n2025\\\\n\\\\nD-Index & Metrics  D-index (Discipline H-index) only includes papers and citation values for an examined discipline in contrast to General H-index which accounts for publications across all disciplines. [...] research, doing studies in Data science and Artificial intelligence. He undertakes interdisciplinary study in the fields of Gene and Robustness (evolution) through his works. He integrates Robustness (evolution) and Gene in his studies. Philip S. Yu integrates Computer security with Exploit in his research.\", \"score\": 0.6829338}]', name='tavily_search_results_json', id='832aba9d-352e-492b-b392-226e5bc5f74d', tool_call_id='call_YU9SXi8tYNrASQz6Cq4RQfzE', artifact={'query': 'Philip S. Yu', 'follow_up_questions': None, 'answer': None, 'images': [], 'results': [{'url': 'https://en.wikipedia.org/wiki/Philip_S._Yu', 'title': 'Philip S. Yu - Wikipedia', 'content': \"Jump to content\\n\\n# Philip S. Yu\\n\\n العربية\\n\\nEdit links\\n\\nFrom Wikipedia, the free encyclopedia\\n\\nAmerican computer scientist\\n\\nPhilip S. Yu (born c. 1952) is an American computer scientist and professor of information technology at the University of Illinois at Chicago. He holds over 300 patents, and is known for his work in the field of data mining.\\n\\n## Biography\\n\\n[edit] [...] He started his career in private enterprise, at IBM's Thomas J. Watson Research Center, where he eventually became manager of the Software Tools and Techniques group. Currently he is Distinguished Professor and Wexler Chair in Information Technology at the Department of Computer Science of the University of Illinois at Chicago [...] American computer scientists\\n American people of Taiwanese descent\\n University of Illinois Chicago faculty\\n National Taiwan University alumni\\n Stanford University School of Engineering alumni\\n New York University Stern School of Business alumni\\n 1997 fellows of the Association for Computing Machinery\\n Fellows of the IEEE\\n IBM Research computer scientists\\n 1950s births\\n Living people\\n\\nHidden categories:\", 'score': 0.93295, 'raw_content': None}, {'url': 'https://www.computer.org/profiles/philip-yu/', 'title': 'Philip S. Yu', 'content': 'Philip S. Yu is a Professor in Computer Science at the University of Illinois at Chicago and also holds the Wexler Chair in Information Technology. Dr. Yu spent most of his career at IBM, where he was manager of the Software Tools and Techniques group at the Watson Research Center. His research interest is on big data, including data mining, data stream, database and privacy. He has published more than 720 papers in refereed journals and conferences. He holds or has applied for more than 250 US [...] Dr. Yu is a Fellow of the ACM and the IEEE.  He is the Editor-in-Chief of ACM Transactions on Knowledge Discovery from Data.  He is on the steering committee of the IEEE Conference on Data Mining and ACM Conference on Information and Knowledge Management and was a member of the IEEE Data Engineering steering committee. He was the Editor-in-Chief of IEEE Transactions on Knowledge and Data Engineering (2001–2004). He received a Research Contributions Award from IEEE Intl. Conference on Data [...] Mining (2003). He had received several IBM honors including 2 IBM Outstanding Innovation Awards, an Outstanding Technical Achievement Award, 2 Research Division Awards and the 94th plateau of Invention Achievement Awards.  He was an IBM Master Inventor. Dr. Yu received the B.S. Degree in E.E. from National Taiwan University, the M.S. and Ph.D. degrees in E.E. from Stanford University, and the M.B.A. degree from New York University.', 'score': 0.92794675, 'raw_content': None}, {'url': 'https://en-soe.westlake.edu.cn/NewsEvents/RecentEvents/202405/t20240520_40088.shtml', 'title': 'Philip S. Yu: On Recommendations via Large Multi-modal Models', 'content': 'Dr. Philip S. Yuis a Distinguished Professor and the Wexler Chair in Information Technology at the Department of Computer Science, University of Illinois at Chicago. He is a Fellow of the ACM and IEEE. Dr. Yu is the recipient of ACM SIGKDD 2016 Innovation Award for his influential research and scientific contributions on mining, fusion and anonymization of big data, the IEEE Computer Society’s 2013 Technical Achievement Award for “pioneering and fundamentally innovative contributions to the [...] scalable indexing, querying, searching, mining and anonymization of big data” and the Research Contributions Award from ICDM in 2003 for his pioneering contributions to the field of data mining. Dr. Yu has published more than 1,600 referred conference and journal papers cited more than 195,000 times with an H-index of 197. He has applied for more than 300 patents. Dr. Yu was the Editor-in-Chiefs of ACM TKDD (2011-2017) and IEEE TKDE (2001-2004). [...] News & Events\\n\\nRecent Events\\n\\n7th Yungu Lectureship | Philip S. Yu: On Recommendations via Large Multi-modal Models\\n\\nTime: 16:00-17:30, Tuesday, June 11, 2024\\n\\nVenue:E10-304, Yungu Campus, Westlake University\\n\\nHost: Stan Z. Li, Chair Professor, School of Engineering, Westlake University\\n\\nLanguage: English\\n\\nSpeaker：\\n\\nProf.Philip S. Yu\\n\\nDistinguished Professor,  \\n University of Illinois Chicago\\n\\nBiography:', 'score': 0.8872928, 'raw_content': None}, {'url': 'https://cs.uic.edu/profiles/philip-yu/', 'title': 'Philip S. Yu - Computer Science - University of Illinois Chicago', 'content': 'Philip S. Yu\\'s main research interests include big data, data mining (especially on graph/network mining), social network, privacy preserving data publishing, data stream, database systems, and Internet applications and technologies. He is a Disthinguished Professor in the Department of Computer Science at UIC and also holds the Wexler Chair in Information and Technology. Before joining UIC, he was with IBM Thomas J. Watson Research Center, where he was manager of the Software Tools and [...] Dr. Yu is a Fellow of the ACM and the IEEE. He is the recepient of ACM SIGKDD 2016 Innovation Award for his influential research and scientific contributions on mining, fusion and anonymization of big data, the IEEE Computer Society\\'s 2013 Technical Achievement Award for \"pioneering and fundamentally innovative contributions to scalable indexing, querying, searching, mining and anonymization of big data\", and the Research Contributions Award from IEEE Intl. Conference on Data Mining (ICDM) in [...] Dr. Yu is the Editor-in-Chief of ACM Transactions on Knowledge Discovery from Data. He is on the steering committee of ACM Conference on Information and Knowledge Management and was a steering committee member of the IEEE Conference on Data Mining and the IEEE Conference on Data Engineering. He was the Editor-in-Chief of IEEE Transactions on Knowledge and Data Engineering (2001-2004). He had also served as an associate editor of ACM Transactions on the Internet Technology (2000-2010) and', 'score': 0.79522943, 'raw_content': None}, {'url': 'https://research.com/u/philip-s-yu', 'title': 'Philip S. Yu: Computer Science H-index & Awards', 'content': 'His studies link Argument (complex analysis) with Biochemistry. His study in Biochemistry extends to Argument (complex analysis) with its themes. His Artificial intelligence study often links to related topics such as Federated learning. Machine learning and Reinforcement learning are two areas of study in which Philip S. Yu engages in interdisciplinary work. In his study, he carries out multidisciplinary Reinforcement learning and Machine learning research. He carries out multidisciplinary [...] D-Index & MetricsBest Publications\\n\\n   Home\\n   Best Scientists - Computer Science\\n   Philip S. Yu\\n\\nImage 2: Philip S. Yu\\n\\nPhilip S. Yu\\n\\nUniversity of Illinois at Chicago\\n\\nUnited States\\n\\nImage 3: Research.com 2024 Best Scientist Award Badge\\n\\n Computer Science \\n\\nUSA\\n\\n2025\\n\\nD-Index & Metrics  D-index (Discipline H-index) only includes papers and citation values for an examined discipline in contrast to General H-index which accounts for publications across all disciplines. [...] research, doing studies in Data science and Artificial intelligence. He undertakes interdisciplinary study in the fields of Gene and Robustness (evolution) through his works. He integrates Robustness (evolution) and Gene in his studies. Philip S. Yu integrates Computer security with Exploit in his research.', 'score': 0.6829338, 'raw_content': None}], 'response_time': 1.1, 'request_id': '34cfa71f-058b-4d04-8792-3a38682484a8'}), ToolMessage(content='[{\"title\": \"Lifang He - Nano | Human Interfaces (NHI) Presidential Initiative\", \"url\": \"https://nhi.lehigh.edu/lifang-he\", \"content\": \"Lifang He received the B.S. degree in Computational Mathematics from Northwest Normal University, and the Ph.D. degree in Computer Science from South China University of Technology. Before joining Lehigh\\'s faculty, she was a postdoctoral associate in the Department of Biostatistics, Epidemiology and Informatics within the Perelman School of Medicine at University of Pennsylvania, as well as the Weill Cornell Medical College of Cornell University. Her research interests include machine [...] ### Research Interests Show the content\\\\n\\\\n### Publications Show the content\\\\n\\\\nGoogle Scholar\\\\n\\\\n## Sidebar Navigation\\\\n\\\\n## User account menu\\\\n\\\\n## [...] learning/deep learning, data mining, tensor analysis and biomedical informatics.\", \"score\": 0.7803451}, {\"title\": \"Lifang He - Penncil\", \"url\": \"https://www.chenlab.wiki/lifang-he\", \"content\": \"Lifang He received the B.S. degree in information and computer science from Northwest Normal University in 2009, and the Ph.D. degree in School of Computer Science and Engineering, South China University of Technology in 2014. She is currently a postdoctoral associate in Department of Biostatistics and Epidemiology, University of Pennsylvania. Before her current position, Dr. He worked as a postdoctoral researcher in Computer Science at University of Illinois at Chicago, and in Department of [...] Healthcare Policy and Research, Weill Cornell Mediine, Cornell University. Her research interests include tensor mining, machine learning, with major applications in biomedical data and neuroscience. She is a member of the IEEE. [...] \\u200b\\\\n\\\\nGoogle scholar\\\\n\\\\nHome\\\\n\\\\nTeam\\\\n\\\\nResearch\\\\n\\\\nPublications\\\\n\\\\nSoftware\\\\n\\\\nFunding\\\\n\\\\nMore...\", \"score\": 0.752468}, {\"title\": \"Lifang He: books, biography, latest update - Amazon.com\", \"url\": \"https://www.amazon.com/Lifang-He/e/B0FMBQN35S/ref=zg_bsnr_g_5_d_sccl_18_bl/000-0000000-0000000\", \"content\": \"Lifang He has nearly 20 years of experience driving brand strategy, product marketing, and go-to-market excellence for some of the world\\'s most influential tech companies, including Apple, Amazon, and Ring. From launching iPhones globally to shaping entirely new product categories at Amazon, her career has been defined by building products and brands that scale fast and deliver results. She has earned industry recognition such as a Cannes Lions Grand Prix Award, a Fastest Growing Brands Award, [...] and a Jay Chiat Award for Strategic Excellence. She now leads a consultancy specializing in brand strategy, product innovation, and go-to-market. [...] ## Skip to\\\\n\\\\n## Keyboard shortcuts\\\\n\\\\nKindle Books\\\\n\\\\nRecently Visited\\\\n\\\\nFeatured\\\\n\\\\nTop Categories\\\\n\\\\nFiction\\\\n\\\\nNonfiction\\\\n\\\\nChildren\\'s Books\\\\n\\\\nShorts\\\\n\\\\nMore Categories\\\\n\\\\nAll Categories\\\\n\\\\nTop Categories\\\\n\\\\nFiction\\\\n\\\\nNonfiction\\\\n\\\\nChildren\\'s Books\\\\n\\\\nShorts\\\\n\\\\nMore Categories\\\\n\\\\nRecently Visited\\\\n\\\\nFeatured\\\\n\\\\nNew & Trending\\\\n\\\\nRecently Visited\\\\n\\\\nFeatured\\\\n\\\\nDeals & Rewards\\\\n\\\\nRecently Visited\\\\n\\\\nFeatured\\\\n\\\\nBest Sellers\\\\n\\\\nAcclaimed\\\\n\\\\nFrom Our Editors\\\\n\\\\nRecently Visited\\\\n\\\\nFeatured\\\\n\\\\nMemberships\\\\n\\\\nRecently Visited\\\\n\\\\nFeatured\\\\n\\\\nCommunities\", \"score\": 0.74961954}, {\"title\": \"Lifang He | P.C. Rossin College of Engineering & Applied Science\", \"url\": \"https://engineering.lehigh.edu/faculty/lifang-he\", \"content\": \"Lifang He received the B.S. degree in Computational Mathematics from Northwest Normal University, and the Ph.D. degree in Computer Science from South China University of Technology. Before joining Lehigh\\'s faculty, she was a postdoctoral associate in the Department of Biostatistics, Epidemiology and Informatics within the Perelman School of Medicine at University of Pennsylvania, as well as the Weill Cornell Medical College of Cornell University. Her research interests include machine [...] Lehigh University Shield Logo\\\\n\\\\n## Search form\\\\n\\\\n## You are here\\\\n\\\\n# Lifang He [...] learning/deep learning, data mining, tensor analysis and biomedical informatics.\", \"score\": 0.7467494}, {\"title\": \"Dr. Lifang He wins McGorman Fund Award - Huron University\", \"url\": \"https://huronu.ca/profiles/alumni/dr-lifang-he-wins-mcgorman-fund-award/\", \"content\": \"Dr. He\\'s project will fill a scholarly gap by examining the literary works written by both well-studied writers and under-examined women authors.\", \"score\": 0.5297749}]', name='tavily_search_results_json', id='faf69642-059b-4563-9286-be496fa08dd8', tool_call_id='call_XeuqJvLnEWbgL8RFx9D7zafA', artifact={'query': 'Lifang He', 'follow_up_questions': None, 'answer': None, 'images': [], 'results': [{'url': 'https://nhi.lehigh.edu/lifang-he', 'title': 'Lifang He - Nano | Human Interfaces (NHI) Presidential Initiative', 'content': \"Lifang He received the B.S. degree in Computational Mathematics from Northwest Normal University, and the Ph.D. degree in Computer Science from South China University of Technology. Before joining Lehigh's faculty, she was a postdoctoral associate in the Department of Biostatistics, Epidemiology and Informatics within the Perelman School of Medicine at University of Pennsylvania, as well as the Weill Cornell Medical College of Cornell University. Her research interests include machine [...] ### Research Interests Show the content\\n\\n### Publications Show the content\\n\\nGoogle Scholar\\n\\n## Sidebar Navigation\\n\\n## User account menu\\n\\n## [...] learning/deep learning, data mining, tensor analysis and biomedical informatics.\", 'score': 0.7803451, 'raw_content': None}, {'url': 'https://www.chenlab.wiki/lifang-he', 'title': 'Lifang He - Penncil', 'content': 'Lifang He received the B.S. degree in information and computer science from Northwest Normal University in 2009, and the Ph.D. degree in School of Computer Science and Engineering, South China University of Technology in 2014. She is currently a postdoctoral associate in Department of Biostatistics and Epidemiology, University of Pennsylvania. Before her current position, Dr. He worked as a postdoctoral researcher in Computer Science at University of Illinois at Chicago, and in Department of [...] Healthcare Policy and Research, Weill Cornell Mediine, Cornell University. Her research interests include tensor mining, machine learning, with major applications in biomedical data and neuroscience. She is a member of the IEEE. [...] \\u200b\\n\\nGoogle scholar\\n\\nHome\\n\\nTeam\\n\\nResearch\\n\\nPublications\\n\\nSoftware\\n\\nFunding\\n\\nMore...', 'score': 0.752468, 'raw_content': None}, {'url': 'https://www.amazon.com/Lifang-He/e/B0FMBQN35S/ref=zg_bsnr_g_5_d_sccl_18_bl/000-0000000-0000000', 'title': 'Lifang He: books, biography, latest update - Amazon.com', 'content': \"Lifang He has nearly 20 years of experience driving brand strategy, product marketing, and go-to-market excellence for some of the world's most influential tech companies, including Apple, Amazon, and Ring. From launching iPhones globally to shaping entirely new product categories at Amazon, her career has been defined by building products and brands that scale fast and deliver results. She has earned industry recognition such as a Cannes Lions Grand Prix Award, a Fastest Growing Brands Award, [...] and a Jay Chiat Award for Strategic Excellence. She now leads a consultancy specializing in brand strategy, product innovation, and go-to-market. [...] ## Skip to\\n\\n## Keyboard shortcuts\\n\\nKindle Books\\n\\nRecently Visited\\n\\nFeatured\\n\\nTop Categories\\n\\nFiction\\n\\nNonfiction\\n\\nChildren's Books\\n\\nShorts\\n\\nMore Categories\\n\\nAll Categories\\n\\nTop Categories\\n\\nFiction\\n\\nNonfiction\\n\\nChildren's Books\\n\\nShorts\\n\\nMore Categories\\n\\nRecently Visited\\n\\nFeatured\\n\\nNew & Trending\\n\\nRecently Visited\\n\\nFeatured\\n\\nDeals & Rewards\\n\\nRecently Visited\\n\\nFeatured\\n\\nBest Sellers\\n\\nAcclaimed\\n\\nFrom Our Editors\\n\\nRecently Visited\\n\\nFeatured\\n\\nMemberships\\n\\nRecently Visited\\n\\nFeatured\\n\\nCommunities\", 'score': 0.74961954, 'raw_content': None}, {'url': 'https://engineering.lehigh.edu/faculty/lifang-he', 'title': 'Lifang He | P.C. Rossin College of Engineering & Applied Science', 'content': \"Lifang He received the B.S. degree in Computational Mathematics from Northwest Normal University, and the Ph.D. degree in Computer Science from South China University of Technology. Before joining Lehigh's faculty, she was a postdoctoral associate in the Department of Biostatistics, Epidemiology and Informatics within the Perelman School of Medicine at University of Pennsylvania, as well as the Weill Cornell Medical College of Cornell University. Her research interests include machine [...] Lehigh University Shield Logo\\n\\n## Search form\\n\\n## You are here\\n\\n# Lifang He [...] learning/deep learning, data mining, tensor analysis and biomedical informatics.\", 'score': 0.7467494, 'raw_content': None}, {'url': 'https://huronu.ca/profiles/alumni/dr-lifang-he-wins-mcgorman-fund-award/', 'title': 'Dr. Lifang He wins McGorman Fund Award - Huron University', 'content': \"Dr. He's project will fill a scholarly gap by examining the literary works written by both well-studied writers and under-examined women authors.\", 'score': 0.5297749, 'raw_content': None}], 'response_time': 0.76, 'request_id': 'f4c0f802-5385-4228-8068-def76cafd194'})]\n",
            "\n",
            "\n",
            "\n",
            "Receiving update from node: 'action'\n",
            "Tool Used: tavily_search_results_json\n",
            "[ToolMessage(content='[{\"title\": \"\\u202aYazhou Ren (任亚洲)\\u202c - \\u202aGoogle Scholar\\u202c\", \"url\": \"https://scholar.google.com/citations?user=M7Ocw0YAAAAJ&hl=en\", \"content\": \"View all\\\\n\\\\nFollow)\\\\n\\\\nImage 21: Yazhou Ren (任亚洲)\\\\n\\\\nYazhou Ren (任亚洲)\\\\n\\\\nAssociate Professor of Computer Science, University of Electronic Science and Technology of China\\\\n\\\\nVerified email at uestc.edu.cn - Homepage\\\\n\\\\nArtificial IntelligenceMachine LearningIntelligent Healthcare\\\\n\\\\nArticles)Cited by)Public access)Co-authors) [...] Image 1: Yawen LingXiaorong PuUniversity of Electronic Science and Technology of China Verified email at uestc.edu.cn \\\\n   Image 2: Yawen LingZenglin XuFudan University Verified email at fudan.edu.cn \\\\n   Image 3: Yawen LingLifang HeAssociate Professor of Computer Science, Lehigh University Verified email at lehigh.edu \\\\n   Image 4: Yawen LingJIE XUResearch Fellow @ SUTD Verified email at sutd.edu.sg [...] Image 5: Yawen LingXiaofeng ZHUUniversity of Electronic Science and Technology of China (电子科技大学)Verified email at massey.ac.nz \\\\n   Image 6: Yawen LingGuoxian Yu(余国先)Professor, School of Software, Shandong University, Jinan, China Verified email at sdu.edu.cn \\\\n   Image 7: Yawen LingLili PanAssociate Professor, University of Electronic Science and Technology of China Verified email at uestc.edu.cn \\\\n   Image 8: Yawen LingShudong Huang (黄树东)Sichuan University Verified email at scu.edu.cn\", \"score\": 0.81875163}, {\"title\": \"Yazhou Ren | IEEE Xplore Author Details\", \"url\": \"https://ieeexplore.ieee.org/author/37086102092\", \"content\": \"Biography. Yazhou Ren (Senior Member, IEEE) received the BSc degree in information and computation science and the PhD degree in computer science from the\", \"score\": 0.7608822}, {\"title\": \"Yazhou Ren - OpenReview\", \"url\": \"https://openreview.net/profile?id=~Yazhou_Ren1\", \"content\": \"# Yazhou Ren\\\\n\\\\n### Full Professor, School of Computer Science and Engineering, University of Electronic Science and Technology of China\\\\n\\\\n### Associate Professor, School of Computer Science and Engineering, University of Electronic Science and Technology of China\\\\n\\\\n#### Names\\\\n\\\\n#### Emails\\\\n\\\\n#### Personal Links\\\\n\\\\n#### Career & Education History\\\\n\\\\n#### Advisors, Relations & Conflicts\\\\n\\\\n#### Expertise\\\\n\\\\n#### Publications [...] OpenReview is a long-term project to advance science through improved peer review with legal nonprofit status. We gratefully acknowledge the support of the OpenReview Sponsors. © 2025 OpenReview [...] #### Investigating and Mitigating the Side Effects of Noisy Views for Self-Supervised Clustering Algorithms in Practical Multi-View Scenarios)\\\\n\\\\n#### Multi-View Graph Clustering via Node-Guided Contrastive Encoding)\\\\n\\\\n#### An Effective and Secure Federated Multi-View Clustering Method with Information-Theoretic Perspective)\\\\n\\\\n#### Bridging Gaps: Federated Multi-View Clustering in Heterogeneous Hybrid Views)\\\\n\\\\n#### Homophily-Related: Adaptive Hybrid Graph Filter for Multi-View Graph Clustering)\", \"score\": 0.75442725}, {\"title\": \"Ren Yazhou-UESTC SCSE\", \"url\": \"https://www.en.scse.uestc.edu.cn/info/1085/1902.htm\", \"content\": \"09/2010~08/2014 Ph. D. student atthe School of Computer Science and Engineering, South China University of Technology.Major: Computer Applications Technology.\", \"score\": 0.69746524}, {\"title\": \"Faculty Members\", \"url\": \"https://yazhou-ren.github.io/member.html\", \"content\": \"Purity\\\\n\\\\nYazhou Ren\\\\n\\\\n### Faculty Members\\\\n\\\\nPurity\\\\n\\\\nYazhou Ren, Associate Professor\\\\n\\\\nPurity\\\\n\\\\nYazhou Ren, Associate Professor\\\\n\\\\n### Graduate Students\\\\n\\\\nJingyu Pu (普敬誉, Fall2022 -)His research interests focus on deep learning and multi-view clustering.\\\\n\\\\nYan Zheng (郑妍, Fall2022 -)Research Interests:deep learning and machine learning.\\\\n\\\\nSong Wu (吴嵩, Fall2022 -)Research Interests:deep learning and machine learning. [...] Zhimeng Yang (杨之蒙, Fall2019 - 2022)Her research interests focus on deep clustering and domain adaptation.\\\\n\\\\nYuecheng Lei (雷越城, Fall2019 - 2022)Research interests: natural language processing.\\\\n\\\\nXinyu Zhang(张新宇, Fall2020 -)Research interests: image noise reduction, super-resolution reconstruction, question answering system\\\\n\\\\nJianpeng Chen(陈建朋, Fall2020 -)Research interests：graph neural networks, graph representation learning, multi-view clustering. [...] Jinfeng Peng (彭金凤, Fall2023 -)Research interests: machine learning and deep learning.\\\\n\\\\nYuhao Li (李雨豪, Fall2023 -)deep learning and computer vision.\\\\n\\\\nHongkai Li (李虹锴, Fall2023 -)Research interests: deep learning and computer vision.\\\\n\\\\n### Alumni\\\\n\\\\nJie Xu(徐杰, Fall2019 - 2021)Jie Xu focuses on unsupervised learning, clustering, and multi-view learning. He is currently working toward the Ph.D. degree at the Centre for Future Media at the UESTC.\", \"score\": 0.47694567}]', name='tavily_search_results_json', id='382fc06b-9325-401e-bff6-ad15ac4d24a8', tool_call_id='call_i8DWdhfwgO7qdeMfXz3TPfBA', artifact={'query': 'Yazhou Ren', 'follow_up_questions': None, 'answer': None, 'images': [], 'results': [{'url': 'https://scholar.google.com/citations?user=M7Ocw0YAAAAJ&hl=en', 'title': '\\u202aYazhou Ren (任亚洲)\\u202c - \\u202aGoogle Scholar\\u202c', 'content': 'View all\\n\\nFollow)\\n\\nImage 21: Yazhou Ren (任亚洲)\\n\\nYazhou Ren (任亚洲)\\n\\nAssociate Professor of Computer Science, University of Electronic Science and Technology of China\\n\\nVerified email at uestc.edu.cn - Homepage\\n\\nArtificial IntelligenceMachine LearningIntelligent Healthcare\\n\\nArticles)Cited by)Public access)Co-authors) [...] Image 1: Yawen LingXiaorong PuUniversity of Electronic Science and Technology of China Verified email at uestc.edu.cn \\n   Image 2: Yawen LingZenglin XuFudan University Verified email at fudan.edu.cn \\n   Image 3: Yawen LingLifang HeAssociate Professor of Computer Science, Lehigh University Verified email at lehigh.edu \\n   Image 4: Yawen LingJIE XUResearch Fellow @ SUTD Verified email at sutd.edu.sg [...] Image 5: Yawen LingXiaofeng ZHUUniversity of Electronic Science and Technology of China (电子科技大学)Verified email at massey.ac.nz \\n   Image 6: Yawen LingGuoxian Yu(余国先)Professor, School of Software, Shandong University, Jinan, China Verified email at sdu.edu.cn \\n   Image 7: Yawen LingLili PanAssociate Professor, University of Electronic Science and Technology of China Verified email at uestc.edu.cn \\n   Image 8: Yawen LingShudong Huang (黄树东)Sichuan University Verified email at scu.edu.cn', 'score': 0.81875163, 'raw_content': None}, {'url': 'https://ieeexplore.ieee.org/author/37086102092', 'title': 'Yazhou Ren | IEEE Xplore Author Details', 'content': 'Biography. Yazhou Ren (Senior Member, IEEE) received the BSc degree in information and computation science and the PhD degree in computer science from the', 'score': 0.7608822, 'raw_content': None}, {'url': 'https://openreview.net/profile?id=~Yazhou_Ren1', 'title': 'Yazhou Ren - OpenReview', 'content': '# Yazhou Ren\\n\\n### Full Professor, School of Computer Science and Engineering, University of Electronic Science and Technology of China\\n\\n### Associate Professor, School of Computer Science and Engineering, University of Electronic Science and Technology of China\\n\\n#### Names\\n\\n#### Emails\\n\\n#### Personal Links\\n\\n#### Career & Education History\\n\\n#### Advisors, Relations & Conflicts\\n\\n#### Expertise\\n\\n#### Publications [...] OpenReview is a long-term project to advance science through improved peer review with legal nonprofit status. We gratefully acknowledge the support of the OpenReview Sponsors. © 2025 OpenReview [...] #### Investigating and Mitigating the Side Effects of Noisy Views for Self-Supervised Clustering Algorithms in Practical Multi-View Scenarios)\\n\\n#### Multi-View Graph Clustering via Node-Guided Contrastive Encoding)\\n\\n#### An Effective and Secure Federated Multi-View Clustering Method with Information-Theoretic Perspective)\\n\\n#### Bridging Gaps: Federated Multi-View Clustering in Heterogeneous Hybrid Views)\\n\\n#### Homophily-Related: Adaptive Hybrid Graph Filter for Multi-View Graph Clustering)', 'score': 0.75442725, 'raw_content': None}, {'url': 'https://www.en.scse.uestc.edu.cn/info/1085/1902.htm', 'title': 'Ren Yazhou-UESTC SCSE', 'content': '09/2010~08/2014 Ph. D. student atthe School of Computer Science and Engineering, South China University of Technology.Major: Computer Applications Technology.', 'score': 0.69746524, 'raw_content': None}, {'url': 'https://yazhou-ren.github.io/member.html', 'title': 'Faculty Members', 'content': 'Purity\\n\\nYazhou Ren\\n\\n### Faculty Members\\n\\nPurity\\n\\nYazhou Ren, Associate Professor\\n\\nPurity\\n\\nYazhou Ren, Associate Professor\\n\\n### Graduate Students\\n\\nJingyu Pu (普敬誉, Fall2022 -)His research interests focus on deep learning and multi-view clustering.\\n\\nYan Zheng (郑妍, Fall2022 -)Research Interests:deep learning and machine learning.\\n\\nSong Wu (吴嵩, Fall2022 -)Research Interests:deep learning and machine learning. [...] Zhimeng Yang (杨之蒙, Fall2019 - 2022)Her research interests focus on deep clustering and domain adaptation.\\n\\nYuecheng Lei (雷越城, Fall2019 - 2022)Research interests: natural language processing.\\n\\nXinyu Zhang(张新宇, Fall2020 -)Research interests: image noise reduction, super-resolution reconstruction, question answering system\\n\\nJianpeng Chen(陈建朋, Fall2020 -)Research interests：graph neural networks, graph representation learning, multi-view clustering. [...] Jinfeng Peng (彭金凤, Fall2023 -)Research interests: machine learning and deep learning.\\n\\nYuhao Li (李雨豪, Fall2023 -)deep learning and computer vision.\\n\\nHongkai Li (李虹锴, Fall2023 -)Research interests: deep learning and computer vision.\\n\\n### Alumni\\n\\nJie Xu(徐杰, Fall2019 - 2021)Jie Xu focuses on unsupervised learning, clustering, and multi-view learning. He is currently working toward the Ph.D. degree at the Centre for Future Media at the UESTC.', 'score': 0.47694567, 'raw_content': None}], 'response_time': 1.46, 'request_id': '8509774a-3a12-40a0-bef2-970e33fc511c'}), ToolMessage(content='[{\"title\": \"Jingyu Pu - Underline Science\", \"url\": \"https://underline.io/speakers/254003-jingyu-pu\", \"content\": \"Jingyu Pu received the B.S. degree in computer science and technology from Sichuan Agricultural University, China, in 2022. He is currently working toward the M.S. degree in computer science and technology with the University of Electronic Science and Technology of China, China. His research interests include Multi-View Clustering and Machine Learning.\\\\n\\\\n## Presentations\\\\n\\\\n## Adaptive Feature Imputation with Latent Graph for Deep Incomplete Multi-View Clustering | VIDEO [...] ## library\\\\n\\\\n## solutions\\\\n\\\\nprofile picture\\\\n\\\\n## Jingyu Pu\\\\n\\\\nUniversity of Electronic Science and Technology of China\\\\n\\\\nclustering\\\\n\\\\nmulti-view learning\\\\n\\\\n## 1\\\\n\\\\npresentations\\\\n\\\\n## 18\\\\n\\\\nnumber of views\\\\n\\\\n## SHORT BIO [...] Jingyu Pu and 7 other authors\\\\n\\\\n## Stay up to date with the latest Underline news!\\\\n\\\\n## PRESENTATIONS\\\\n\\\\n## CONFERENCES\\\\n\\\\n## COMPANY\\\\n\\\\n## RESOURCES\\\\n\\\\n© 2025 Underline - All rights reserved\", \"score\": 0.70799106}, {\"title\": \"Jing Pu, Ph.D. - UNM Health Sciences Center\", \"url\": \"https://hsc.unm.edu/directory/pu-jing.html\", \"content\": \"Dr. Pu received a B.S. degree in Bioengineering (2005) from Beijing Institute of Technology. She earned her Ph.D. degree (2011) from Institute of Biophysics, Chinese Academy of Sciences. Following her Ph.D. degree she completed a 5-year postdoctoral training in the NIH and 3-year Research Fellow working in the same laboratory.\\\\n\\\\n## Personal Statement [...] Logo Alt\\\\nclose-btn\\\\n\\\\n## Mobile Menu\\\\n\\\\n# Jing Pu, Ph.D.\\\\n\\\\nAssociate Professor\\\\n\\\\nSOM - Molecular Genetics and Microbiology, CC - Cellular & Molecular Oncology, SOM - Comprehensive Cancer Center\\\\n\\\\nJing  Pu, Ph.D.\\\\n\\\\n## Biography [...] I am a curious researcher, looking for the molecular mechanism of organelle dynamics in cells. Since I was fascinated by cells when I saw them under a microscope in my college study, I have been studying cells everyday, because the answers for how life is going and how diseases happen are hidden behind the tiny living structures. Our group uses the techniques in molecular cell biology and biochemistry to study cell activities at molecular level. Current focus is organelle interplays in lipid\", \"score\": 0.47051823}, {\"title\": \"Noble Aspirations - Wikipedia\", \"url\": \"https://en.wikipedia.org/wiki/Noble_Aspirations\", \"content\": \"Zhang Xiaofan (Li Yifeng), and childhood friend Lin Jingyu (Cheng Yi \\\\\"Cheng Yi (actor)\\\\\")), are the sole survivors of a village massacre. The two are accepted into the Qing Yun sect, where they learn the ways of the Immortal Sword. Although he is hardworking and determined, Xiaofan struggles to catch up to his peers due to his slow wit. One day, he acquires a \\\\\"dementor sword\\\\\" by chance when he was training in the mountains. [...] and left Yu Du, and came under the Ghost King. After she met Lin Jingyu, she fell in love with him, and thereafter secretly assisted him and his friends to escape from the Ghost King. | [...] During the martial arts competition held within Qing Yun sect, Xiaofan enters the Top 4. Together with Lu Xueqi (Yang Zi \\\\\"Yang Zi (actress)\\\\\")), Lin Jingyu and Zeng Shushu (Qin Junjie), he heads to the Bat Cave in Mt Kongsan to investigate the trails of the demonic sect. There, Xiaofan encounters danger and pivotal circumstances make him grow and mature. Along the journey, he meets Bi Yao (Zhao Liying), daughter of the Ghost King. Their relationship slowly grows and takes a meaningful turn\", \"score\": 0.3180513}, {\"title\": \"Tsinghua Science and Technology | SciOpen\", \"url\": \"https://www.sciopen.com/journal/1007-0214\", \"content\": \"Image 10 Dynamic Ensemble Learning: A Multidimensional Abilities Modeling Perspective Yunhao Sha, Qi Liu, Linan Yue, Weibo Gao, Kai Zhang, Jingyu Peng 25 August 2025\\\\n\\\\nImage 11 EIoT: Embodied Intelligence of Things Yunhao Liu, Xu Wang, Yunhuai Liu, Kebin Liu, Shuai Tong, Jinliang Yuan, Li Liu 25 August 2025\\\\n\\\\nImage 12 Grayscale-Assisted RGB Image Conversion from Near-Infrared Images Yunyi Gao, Qiankun Liu, Lin Gu, Ying Fu 29 April 2025 [...] Chao Wang, Jingjing Yu, Zhi Pei, [...],Qidi Wang, Chunlei Hong<< Fewer\\\\n\\\\nPublished: 30 December 2024 2025, 30(3): 1270-1282\\\\n\\\\nImage 47Open Access\\\\n\\\\nCamera, LiDAR, and IMU Based Multi-Sensor Fusion SLAM: A Survey\\\\n\\\\nJun Zhu, Hongyi Li, Tao Zhang \\\\n\\\\nPublished: 22 September 2023 2024, 29(2): 415-429\\\\n\\\\nImage 48Open Access\\\\n\\\\nEnhanced IDS with Deep Learning for IoT-Based Smart Cities Security\\\\n\\\\nChaimae Hazman, Azidine Guezzaz, Said Benkirane, Mourade Azrour\\\\n\\\\nPublished: 09 February 2024 2024, 29(4): 929-947 [...] Image 31Open Access\\\\n\\\\nDifferential Evolution with Joint Adaptation of Mutation Strategies and Control Parameters via Distributed Proximal Policy Optimization\\\\n\\\\nWenjie Ding, Mengtao Qian, Chao Lu, [...],Jin Yi, Huayan Pu, Jun Luo<< Fewer\\\\n\\\\nPublished: 25 August 2025 2026, 31(1): 101-124\\\\n\\\\nImage 32Open Access\\\\n\\\\nEvolution Strategies-Guided Deep Reinforcement Learning for Dynamic Hybrid Flow-Shop Scheduling Problem\\\\n\\\\nLin Luo, Xuesong Yan, Qinghua Wu, Victor S. Sheng\", \"score\": 0.23014928}, {\"title\": \"Student Achievements | NTU Singapore\", \"url\": \"https://www.ntu.edu.sg/education/undergraduate-research-experience-on-campus-(ureca)/student-achievements\", \"content\": \"| RANK | STUDENT | SUPERVISOR |\\\\n --- \\\\n| Category -ARTS, HUMANITIES  AND BUSINESS | | |\\\\n| 1st | Elaine Mok Wai Man | Alexander Robertson Coupe |\\\\n| 2nd | Muamina Khudsia Binte Prem Navas | Christopher Peter Trigg |\\\\n| Category -NATURAL AND PHYSICAL SCIENCES | | |\\\\n| 1st | Dana Yam | Kelly Andersen |\\\\n| 2nd | Dong Luojie | Wang Jingyu |\\\\n| 2nd | Poon Hock Jin | Kelly Andersen |\\\\n| 4th | Cheong Kit Siang Samuel | Eleanor Slade |\\\\n| Category -CIVIL, CHEMICAL AND MATERIAL ENGINEERING | | | [...] | Category - Engineering | | |\\\\n| 1st | Ding Ming | Chan Wai Lee |\\\\n| 2nd | Lee Yi Wei | Yeong Wai Yee |\\\\n| 3rd | Yeoh Yu Xuan | Chan Wai Lee |\\\\n| Category - Physical, Mathematical And Biological Sciences | | |\\\\n| 1st | Zoey Chua Jia Yu | Sze Siu Kwan |\\\\n| 2nd | Zeng Ziling | Pu Kanyi |\\\\n| 3rd | Zachary Lim Zhi Cong | Yang Yifan |\\\\n| Category - Biomedical And Medicine | | |\\\\n| 1st | Tu Mengyu | Hiroshi Makino |\\\\n| 2nd | Gaytri Gupta | Barron Anna |\\\\n| 3rd | Chau Pearlwe | Yan Yaw Kai | [...] | 5th | Eveline Ekklesia | Wang Jing-Yuan |\\\\n| Category - Electrical and Electronic | | |\\\\n| 1st | Koustuban Ravi | Sheel Aditya |\\\\n| 2nd | Vu Quang Vinh | Goh Wang Ling |\\\\n| 3rd | Zhang Chen | Tan Ooi Kiang |\\\\n| 4th | Dong Bin | Fan Weijun |\\\\n| Category - Information Technology and Computer Science | | |\\\\n| 1st | Kanika Jain | Tay Joc Cing |\\\\n| 2nd | Xu Kaijian | Zhang Jun |\\\\n| 3rd | Chua Zin Yan | Vitali Zagorodnov |\\\\n| 4th | Dang Thanh Xuan | Tang Xueyan |\\\\n| Category - Mechanical and Aerospace | | |\", \"score\": 0.20929222}]', name='tavily_search_results_json', id='b3715600-291d-469a-876a-51720c22e5b3', tool_call_id='call_F77o5vkxxJS01CVCD18iYC5F', artifact={'query': 'Jingyu Pu', 'follow_up_questions': None, 'answer': None, 'images': [], 'results': [{'url': 'https://underline.io/speakers/254003-jingyu-pu', 'title': 'Jingyu Pu - Underline Science', 'content': 'Jingyu Pu received the B.S. degree in computer science and technology from Sichuan Agricultural University, China, in 2022. He is currently working toward the M.S. degree in computer science and technology with the University of Electronic Science and Technology of China, China. His research interests include Multi-View Clustering and Machine Learning.\\n\\n## Presentations\\n\\n## Adaptive Feature Imputation with Latent Graph for Deep Incomplete Multi-View Clustering | VIDEO [...] ## library\\n\\n## solutions\\n\\nprofile picture\\n\\n## Jingyu Pu\\n\\nUniversity of Electronic Science and Technology of China\\n\\nclustering\\n\\nmulti-view learning\\n\\n## 1\\n\\npresentations\\n\\n## 18\\n\\nnumber of views\\n\\n## SHORT BIO [...] Jingyu Pu and 7 other authors\\n\\n## Stay up to date with the latest Underline news!\\n\\n## PRESENTATIONS\\n\\n## CONFERENCES\\n\\n## COMPANY\\n\\n## RESOURCES\\n\\n© 2025 Underline - All rights reserved', 'score': 0.70799106, 'raw_content': None}, {'url': 'https://hsc.unm.edu/directory/pu-jing.html', 'title': 'Jing Pu, Ph.D. - UNM Health Sciences Center', 'content': 'Dr. Pu received a B.S. degree in Bioengineering (2005) from Beijing Institute of Technology. She earned her Ph.D. degree (2011) from Institute of Biophysics, Chinese Academy of Sciences. Following her Ph.D. degree she completed a 5-year postdoctoral training in the NIH and 3-year Research Fellow working in the same laboratory.\\n\\n## Personal Statement [...] Logo Alt\\nclose-btn\\n\\n## Mobile Menu\\n\\n# Jing Pu, Ph.D.\\n\\nAssociate Professor\\n\\nSOM - Molecular Genetics and Microbiology, CC - Cellular & Molecular Oncology, SOM - Comprehensive Cancer Center\\n\\nJing  Pu, Ph.D.\\n\\n## Biography [...] I am a curious researcher, looking for the molecular mechanism of organelle dynamics in cells. Since I was fascinated by cells when I saw them under a microscope in my college study, I have been studying cells everyday, because the answers for how life is going and how diseases happen are hidden behind the tiny living structures. Our group uses the techniques in molecular cell biology and biochemistry to study cell activities at molecular level. Current focus is organelle interplays in lipid', 'score': 0.47051823, 'raw_content': None}, {'url': 'https://en.wikipedia.org/wiki/Noble_Aspirations', 'title': 'Noble Aspirations - Wikipedia', 'content': 'Zhang Xiaofan (Li Yifeng), and childhood friend Lin Jingyu (Cheng Yi \"Cheng Yi (actor)\")), are the sole survivors of a village massacre. The two are accepted into the Qing Yun sect, where they learn the ways of the Immortal Sword. Although he is hardworking and determined, Xiaofan struggles to catch up to his peers due to his slow wit. One day, he acquires a \"dementor sword\" by chance when he was training in the mountains. [...] and left Yu Du, and came under the Ghost King. After she met Lin Jingyu, she fell in love with him, and thereafter secretly assisted him and his friends to escape from the Ghost King. | [...] During the martial arts competition held within Qing Yun sect, Xiaofan enters the Top 4. Together with Lu Xueqi (Yang Zi \"Yang Zi (actress)\")), Lin Jingyu and Zeng Shushu (Qin Junjie), he heads to the Bat Cave in Mt Kongsan to investigate the trails of the demonic sect. There, Xiaofan encounters danger and pivotal circumstances make him grow and mature. Along the journey, he meets Bi Yao (Zhao Liying), daughter of the Ghost King. Their relationship slowly grows and takes a meaningful turn', 'score': 0.3180513, 'raw_content': None}, {'url': 'https://www.sciopen.com/journal/1007-0214', 'title': 'Tsinghua Science and Technology | SciOpen', 'content': 'Image 10 Dynamic Ensemble Learning: A Multidimensional Abilities Modeling Perspective Yunhao Sha, Qi Liu, Linan Yue, Weibo Gao, Kai Zhang, Jingyu Peng 25 August 2025\\n\\nImage 11 EIoT: Embodied Intelligence of Things Yunhao Liu, Xu Wang, Yunhuai Liu, Kebin Liu, Shuai Tong, Jinliang Yuan, Li Liu 25 August 2025\\n\\nImage 12 Grayscale-Assisted RGB Image Conversion from Near-Infrared Images Yunyi Gao, Qiankun Liu, Lin Gu, Ying Fu 29 April 2025 [...] Chao Wang, Jingjing Yu, Zhi Pei, [...],Qidi Wang, Chunlei Hong<< Fewer\\n\\nPublished: 30 December 2024 2025, 30(3): 1270-1282\\n\\nImage 47Open Access\\n\\nCamera, LiDAR, and IMU Based Multi-Sensor Fusion SLAM: A Survey\\n\\nJun Zhu, Hongyi Li, Tao Zhang \\n\\nPublished: 22 September 2023 2024, 29(2): 415-429\\n\\nImage 48Open Access\\n\\nEnhanced IDS with Deep Learning for IoT-Based Smart Cities Security\\n\\nChaimae Hazman, Azidine Guezzaz, Said Benkirane, Mourade Azrour\\n\\nPublished: 09 February 2024 2024, 29(4): 929-947 [...] Image 31Open Access\\n\\nDifferential Evolution with Joint Adaptation of Mutation Strategies and Control Parameters via Distributed Proximal Policy Optimization\\n\\nWenjie Ding, Mengtao Qian, Chao Lu, [...],Jin Yi, Huayan Pu, Jun Luo<< Fewer\\n\\nPublished: 25 August 2025 2026, 31(1): 101-124\\n\\nImage 32Open Access\\n\\nEvolution Strategies-Guided Deep Reinforcement Learning for Dynamic Hybrid Flow-Shop Scheduling Problem\\n\\nLin Luo, Xuesong Yan, Qinghua Wu, Victor S. Sheng', 'score': 0.23014928, 'raw_content': None}, {'url': 'https://www.ntu.edu.sg/education/undergraduate-research-experience-on-campus-(ureca)/student-achievements', 'title': 'Student Achievements | NTU Singapore', 'content': '| RANK | STUDENT | SUPERVISOR |\\n --- \\n| Category -ARTS, HUMANITIES  AND BUSINESS | | |\\n| 1st | Elaine Mok Wai Man | Alexander Robertson Coupe |\\n| 2nd | Muamina Khudsia Binte Prem Navas | Christopher Peter Trigg |\\n| Category -NATURAL AND PHYSICAL SCIENCES | | |\\n| 1st | Dana Yam | Kelly Andersen |\\n| 2nd | Dong Luojie | Wang Jingyu |\\n| 2nd | Poon Hock Jin | Kelly Andersen |\\n| 4th | Cheong Kit Siang Samuel | Eleanor Slade |\\n| Category -CIVIL, CHEMICAL AND MATERIAL ENGINEERING | | | [...] | Category - Engineering | | |\\n| 1st | Ding Ming | Chan Wai Lee |\\n| 2nd | Lee Yi Wei | Yeong Wai Yee |\\n| 3rd | Yeoh Yu Xuan | Chan Wai Lee |\\n| Category - Physical, Mathematical And Biological Sciences | | |\\n| 1st | Zoey Chua Jia Yu | Sze Siu Kwan |\\n| 2nd | Zeng Ziling | Pu Kanyi |\\n| 3rd | Zachary Lim Zhi Cong | Yang Yifan |\\n| Category - Biomedical And Medicine | | |\\n| 1st | Tu Mengyu | Hiroshi Makino |\\n| 2nd | Gaytri Gupta | Barron Anna |\\n| 3rd | Chau Pearlwe | Yan Yaw Kai | [...] | 5th | Eveline Ekklesia | Wang Jing-Yuan |\\n| Category - Electrical and Electronic | | |\\n| 1st | Koustuban Ravi | Sheel Aditya |\\n| 2nd | Vu Quang Vinh | Goh Wang Ling |\\n| 3rd | Zhang Chen | Tan Ooi Kiang |\\n| 4th | Dong Bin | Fan Weijun |\\n| Category - Information Technology and Computer Science | | |\\n| 1st | Kanika Jain | Tay Joc Cing |\\n| 2nd | Xu Kaijian | Zhang Jun |\\n| 3rd | Chua Zin Yan | Vitali Zagorodnov |\\n| 4th | Dang Thanh Xuan | Tang Xueyan |\\n| Category - Mechanical and Aerospace | | |', 'score': 0.20929222, 'raw_content': None}], 'response_time': 1.07, 'request_id': '367e31c1-0320-4e7d-99f3-c039d4b6bd37'}), ToolMessage(content='[{\"title\": \"Zhiming Yang Professor (Associate) Beijing at University of Science ...\", \"url\": \"https://www.researchgate.net/profile/Zhiming-Yang-5\", \"content\": \"Zhiming Yang is an associate professor at the School of Economics and Management, University of Science and Technology Beijing (USTB).\", \"score\": 0.90452427}, {\"title\": \"Zhiming Yang\", \"url\": \"https://www.nccu.edu/employee/zyang\", \"content\": \"Open Search\\\\n\\\\nSearch the Directory\\\\n\\\\n## Breadcrumb\\\\n\\\\n# Zhiming Yang\\\\n\\\\nZhiming Yang\\\\n\\\\nDr. Zhiming Yang received a bachelor\\'s degree in environmental chemistry in China before coming to U.S. He earned his master\\'s degree in environmental science at Ohio State University (2000) and his PhD degree in environmental science at Oklahoma State University (2005). Currently, he is an associate professor with a research focus on applications of geospatial technology to environmental science. [...] His research has been funded by NASA and NSF in the past years. He and Dr. Harris Williams collaborated with Delaware State University (DSU) and finished one NASA project entitled “Preparing Science Educators with Climate Change Literacy through Problem-Based Teaching and Learning ($188,952) between 2012–2014. The aim of the project was to train pre-service STEM teachers to have climate change literacy through problem-based teaching and learning activities such as curriculum integration, field [...] Two graduate students and six undergraduate students were actively involved in each step of this project, from data collection to data analysis. They were trained to design experiments, operate instruments, process satellite imagery and write research reports. As a result, one graduate student and two undergraduate students won travel awards and were invited to attend the “National Emerging Researchers Conference” held by NSF. Through extensive research, a new AOD retrieval approach that\", \"score\": 0.7783298}, {\"title\": \"Zhiming YANG | Professor and Deputy Director of Institute ...\", \"url\": \"https://www.researchgate.net/profile/Zhiming-Yang-9\", \"content\": \"Awards & Achievements(2). Award · Jan 2020. SEG 2020 Regional Vice President Lecturer. Award · Dec 2019. Second Prize of National Natural Science Award.\", \"score\": 0.6320719}, {\"title\": \"Zhimeng (Grace) Yang - Honours Biochemistry Co-op Student at ...\", \"url\": \"https://ca.linkedin.com/in/zhimeng-grace-yang-60a212b6\", \"content\": \"Honours Bachelor of Science candidate from McMaster University with a specialization in Biochemistry and Biomedical sciences. Have experience in dry and wet\", \"score\": 0.58976424}, {\"title\": \"Yang Meng\", \"url\": \"https://yangmeng96.github.io/\", \"content\": \"Yang Meng is currently pursuing a Ph.D. in Statistics at the University of California, Irvine, expected to complete by 2027, co-advised by Dr. Stephan Mandt and Dr. Babak Shahbaba. With three years of full-time professional experience in Data Science, he brings a wealth of practical knowledge to his academic pursuits. Prior to his doctoral studies, Yang earned his M.A. in Statistics from Columbia University in 2020, advised by Dr. Tian Zheng, following his B.S. in Statistics from Zhejiang [...] # Research Interests\\\\n\\\\nHis research focuses on artificial intelligence, supported by Chan-Zuckerberg Initiative.\\\\n\\\\nMultimodal Learning: latent representation analysis, multimodal variational autoencoders, interpretable machine learning\\\\n\\\\nGenerative Models: particularly flow matching models, diffusion-VAE hybrids, normalizing flows, and protein language generation models\\\\n\\\\nAI for Science: applying AI to single-cell biology, neuroscience, and public health [...] Yang Meng (孟扬)\\\\n\\\\n### Yang Meng (孟扬)\\\\n\\\\n# Biography\", \"score\": 0.51866865}]', name='tavily_search_results_json', id='49a8600d-78c2-4e49-b440-58702cafeed1', tool_call_id='call_scirJ7cT46dHuoRg9KHHylbN', artifact={'query': 'Zhimeng Yang', 'follow_up_questions': None, 'answer': None, 'images': [], 'results': [{'url': 'https://www.researchgate.net/profile/Zhiming-Yang-5', 'title': 'Zhiming Yang Professor (Associate) Beijing at University of Science ...', 'content': 'Zhiming Yang is an associate professor at the School of Economics and Management, University of Science and Technology Beijing (USTB).', 'score': 0.90452427, 'raw_content': None}, {'url': 'https://www.nccu.edu/employee/zyang', 'title': 'Zhiming Yang', 'content': \"Open Search\\n\\nSearch the Directory\\n\\n## Breadcrumb\\n\\n# Zhiming Yang\\n\\nZhiming Yang\\n\\nDr. Zhiming Yang received a bachelor's degree in environmental chemistry in China before coming to U.S. He earned his master's degree in environmental science at Ohio State University (2000) and his PhD degree in environmental science at Oklahoma State University (2005). Currently, he is an associate professor with a research focus on applications of geospatial technology to environmental science. [...] His research has been funded by NASA and NSF in the past years. He and Dr. Harris Williams collaborated with Delaware State University (DSU) and finished one NASA project entitled “Preparing Science Educators with Climate Change Literacy through Problem-Based Teaching and Learning ($188,952) between 2012–2014. The aim of the project was to train pre-service STEM teachers to have climate change literacy through problem-based teaching and learning activities such as curriculum integration, field [...] Two graduate students and six undergraduate students were actively involved in each step of this project, from data collection to data analysis. They were trained to design experiments, operate instruments, process satellite imagery and write research reports. As a result, one graduate student and two undergraduate students won travel awards and were invited to attend the “National Emerging Researchers Conference” held by NSF. Through extensive research, a new AOD retrieval approach that\", 'score': 0.7783298, 'raw_content': None}, {'url': 'https://www.researchgate.net/profile/Zhiming-Yang-9', 'title': 'Zhiming YANG | Professor and Deputy Director of Institute ...', 'content': 'Awards & Achievements(2). Award · Jan 2020. SEG 2020 Regional Vice President Lecturer. Award · Dec 2019. Second Prize of National Natural Science Award.', 'score': 0.6320719, 'raw_content': None}, {'url': 'https://ca.linkedin.com/in/zhimeng-grace-yang-60a212b6', 'title': 'Zhimeng (Grace) Yang - Honours Biochemistry Co-op Student at ...', 'content': 'Honours Bachelor of Science candidate from McMaster University with a specialization in Biochemistry and Biomedical sciences. Have experience in dry and wet', 'score': 0.58976424, 'raw_content': None}, {'url': 'https://yangmeng96.github.io/', 'title': 'Yang Meng', 'content': 'Yang Meng is currently pursuing a Ph.D. in Statistics at the University of California, Irvine, expected to complete by 2027, co-advised by Dr. Stephan Mandt and Dr. Babak Shahbaba. With three years of full-time professional experience in Data Science, he brings a wealth of practical knowledge to his academic pursuits. Prior to his doctoral studies, Yang earned his M.A. in Statistics from Columbia University in 2020, advised by Dr. Tian Zheng, following his B.S. in Statistics from Zhejiang [...] # Research Interests\\n\\nHis research focuses on artificial intelligence, supported by Chan-Zuckerberg Initiative.\\n\\nMultimodal Learning: latent representation analysis, multimodal variational autoencoders, interpretable machine learning\\n\\nGenerative Models: particularly flow matching models, diffusion-VAE hybrids, normalizing flows, and protein language generation models\\n\\nAI for Science: applying AI to single-cell biology, neuroscience, and public health [...] Yang Meng (孟扬)\\n\\n### Yang Meng (孟扬)\\n\\n# Biography', 'score': 0.51866865, 'raw_content': None}], 'response_time': 1.24, 'request_id': 'ade99431-f1d8-436c-afe1-315b0da05184'}), ToolMessage(content='[{\"title\": \"Professor, Jie Xu, Receives Prestigious NSF CAREER Award\", \"url\": \"https://news.miami.edu/coe/stories/2021/05/professor-jie-xu-receives-prestigious-nsf-career-award.html\", \"content\": \"Jie Xu, an assistant professor in the College of Engineering’s Department of Electrical and Computer Engineering, received the Faculty Early Career Development (CAREER) Award from the National Science Foundation (NSF) for his project “CAREER: Wireless InferNets: Enabling Collaborative Machine Learning Inference on the Network Path.” [...] “The College of Engineering (CoE) is implementing a set of strategic thrusts, and Dr. Jie Xu will help advance the Data Sciences and Engineering effort in CoE and also help support the University’s efforts,” said Pratim Biswas, dean of the CoE. “He joins a list of junior faculty in CoE who have won the CAREER and PECASE Awards, and the support from these are helping advance the overall research mission of CoE.” [...] Xu’s research focuses on edge computing, network security, as well as machine learning and artificial intelligence for computer communication networks.\", \"score\": 0.81204927}, {\"title\": \"Jie Xu | IEEE Communications Society\", \"url\": \"https://www.comsoc.org/jie-xu\", \"content\": \"Jie Xu (Senior Member, IEEE) received the B.E. and Ph.D. degrees from the University of Science and Technology of China in 2007 and 2012, respectively. From 2012 to 2014, he was a Research Fellow with the Department of Electrical and Computer Engineering, National University of Singapore. From 2015 to 2016, he was a Post-Doctoral Research Fellow with the Engineering Systems and Design Pillar, Singapore University of Technology and Design. From 2016 to 2019, he was a Professor with the School of [...] Information Engineering, Guangdong University of Technology, China. He is currently an Associate Professor (Tenured) with the School of Science and Engineering, The Chinese University of Hong Kong, Shenzhen, China. His research interests include wireless communications, wireless information and power transfer, UAV communications, edge computing and intelligence, and integrated sensing and communication (ISAC). He was a recipient of the 2017 IEEE Signal Processing Society Young Author Best Paper [...] Award, the IEEE/CIC ICCC 2019 Best Paper Award, the 2019 IEEE Communications Society Asia-Pacific Outstanding Young Researcher Award, and the 2019 Wireless Communications Technical Committee Outstanding Young Researcher Award. He is the Symposium Co-Chair of the IEEE GLOBECOM 2019 Wireless Communications Symposium, the workshop co-chair of several IEEE ICC and GLOBECOM workshops, the Tutorial Co-Chair of the IEEE/CIC ICCC 2019, the Vice Chair of the IEEE Wireless Communications Technical\", \"score\": 0.7734393}, {\"title\": \"Jie Xu - ASU Search\", \"url\": \"https://search.asu.edu/profile/4357530\", \"content\": \"Jie Xu received her B.Sc. degree in materials science from Shanghai Jiao Tong University and her Ph.D. in geoscience (specialized in geochemistry and geomicrobiology) from University of Wisconsin-Madison. Building on a multidisciplinary background (nanogeoscience and microbiology), Jie has developed a unique perspective on how things are connected from the manmade world to natural systems and vice versa. Her research group is named “NanoGeoBio”, representing a variety of scenarios under which [...] geochemical cycles, but also leads to innovative ideas for building our own sustainable future. Jie believes that this post-disciplinary thinking is essential for driving new breakthroughs in science and envisions to recruit a team with diverse backgrounds, ranging among microbiology, nanoscience, geochemistry, inorganic chemistry, biochemistry and biophysics at ASU. She is a 2021 DOE Early Career awardee and has been serving as an associate editor for American Mineralogist since 2017. The [...] manipulate the assembly of nanostructures. The basic work in Jie\\'s group has important implications for various applications, especially in nanomaterial synthesis, fuel cell, bioelectronic, and biocatalyst development other than providing a key holistic picture of how larger biogeochemical environments have evolved/continue to evolve. The talented scientists and students in Jie\\'s group have diverse backgrounds and we always welcome those who are interested in interdisciplinary research,\", \"score\": 0.741169}, {\"title\": \"Jie Xu | George Mason University\", \"url\": \"https://www.gmu.edu/profiles/jxu13\", \"content\": \"Before joining George Mason, Xu was a senior analyst in finance operations research with United Airlines. He worked on the research and development of revenue management, the airline’s loyalty program, and market demand forecasting. He also worked as a summer intern at IBM T.J. Watson Research Center on risk management for new product development portfolio investments and supply chain optimization at the IBM China Research Lab.\\\\n\\\\n### Research [...] Jie Xu’s research focuses on algorithmic research in the fields of artificial intelligence, digital twin simulation, data science, stochastic optimization, and risk analytics. Of specific interests are digital twin simulation-based optimization, Bayesian optimization, Monte Carlo tree search, optimal learning, and reinforcement learning. His applications research focuses on air transportation, electric vehicle grid integration, human digital twin, power systems, semiconductor manufacturing, and [...] transportation electrification, with a focus on resource allocation, system resilience, and testing. He was the President of INFORMS Simulation Society from July 2022 to June 2024. He currently serves as an Associate Editor for IISE Transactions, ACM Transactions on Modeling and Computer Simulation, Journal of Simulation, and Asia-Pacific Journal of Operational Research.\", \"score\": 0.7206637}, {\"title\": \"Jie Xu - ECE, UF\", \"url\": \"https://www.ece.ufl.edu/people/faculty/jie-xu/\", \"content\": \"close search\\\\nLogo\\\\nSchool Logo Link\\\\nsearch\\\\nsearch\\\\n\\\\n# Jie Xu\\\\n\\\\n##### Associate Professor\\\\n\\\\n## Contact\\\\n\\\\nEmail: jie.xu@ufl.edu\\\\n\\\\nPhone: 352-392-0010\\\\n\\\\nMailing Address: 5000 Malachowsky Hall, 1889 Museum Rd, Gainesville FL 32611\\\\n\\\\n## Office Location\\\\n\\\\nMALA 4125\\\\n\\\\n [Map ]\\\\n\\\\n## Primary Research Area\\\\n\\\\nComputer Engineering\\\\n\\\\n## Research Interests\\\\n\\\\nEdge computing, wireless communications and networking, distributed learning and optimization, federated learning, reinforcement learning\\\\n\\\\n## About\\\\n\\\\nHomepage\", \"score\": 0.7055624}]', name='tavily_search_results_json', id='9c57f185-99c7-481f-86d3-f84ea22cc6cc', tool_call_id='call_bJsHFtb3Pxq1uZchcwKmwCqM', artifact={'query': 'Jie Xu', 'follow_up_questions': None, 'answer': None, 'images': [], 'results': [{'url': 'https://news.miami.edu/coe/stories/2021/05/professor-jie-xu-receives-prestigious-nsf-career-award.html', 'title': 'Professor, Jie Xu, Receives Prestigious NSF CAREER Award', 'content': 'Jie Xu, an assistant professor in the College of Engineering’s Department of Electrical and Computer Engineering, received the Faculty Early Career Development (CAREER) Award from the National Science Foundation (NSF) for his project “CAREER: Wireless InferNets: Enabling Collaborative Machine Learning Inference on the Network Path.” [...] “The College of Engineering (CoE) is implementing a set of strategic thrusts, and Dr. Jie Xu will help advance the Data Sciences and Engineering effort in CoE and also help support the University’s efforts,” said Pratim Biswas, dean of the CoE. “He joins a list of junior faculty in CoE who have won the CAREER and PECASE Awards, and the support from these are helping advance the overall research mission of CoE.” [...] Xu’s research focuses on edge computing, network security, as well as machine learning and artificial intelligence for computer communication networks.', 'score': 0.81204927, 'raw_content': None}, {'url': 'https://www.comsoc.org/jie-xu', 'title': 'Jie Xu | IEEE Communications Society', 'content': 'Jie Xu (Senior Member, IEEE) received the B.E. and Ph.D. degrees from the University of Science and Technology of China in 2007 and 2012, respectively. From 2012 to 2014, he was a Research Fellow with the Department of Electrical and Computer Engineering, National University of Singapore. From 2015 to 2016, he was a Post-Doctoral Research Fellow with the Engineering Systems and Design Pillar, Singapore University of Technology and Design. From 2016 to 2019, he was a Professor with the School of [...] Information Engineering, Guangdong University of Technology, China. He is currently an Associate Professor (Tenured) with the School of Science and Engineering, The Chinese University of Hong Kong, Shenzhen, China. His research interests include wireless communications, wireless information and power transfer, UAV communications, edge computing and intelligence, and integrated sensing and communication (ISAC). He was a recipient of the 2017 IEEE Signal Processing Society Young Author Best Paper [...] Award, the IEEE/CIC ICCC 2019 Best Paper Award, the 2019 IEEE Communications Society Asia-Pacific Outstanding Young Researcher Award, and the 2019 Wireless Communications Technical Committee Outstanding Young Researcher Award. He is the Symposium Co-Chair of the IEEE GLOBECOM 2019 Wireless Communications Symposium, the workshop co-chair of several IEEE ICC and GLOBECOM workshops, the Tutorial Co-Chair of the IEEE/CIC ICCC 2019, the Vice Chair of the IEEE Wireless Communications Technical', 'score': 0.7734393, 'raw_content': None}, {'url': 'https://search.asu.edu/profile/4357530', 'title': 'Jie Xu - ASU Search', 'content': \"Jie Xu received her B.Sc. degree in materials science from Shanghai Jiao Tong University and her Ph.D. in geoscience (specialized in geochemistry and geomicrobiology) from University of Wisconsin-Madison. Building on a multidisciplinary background (nanogeoscience and microbiology), Jie has developed a unique perspective on how things are connected from the manmade world to natural systems and vice versa. Her research group is named “NanoGeoBio”, representing a variety of scenarios under which [...] geochemical cycles, but also leads to innovative ideas for building our own sustainable future. Jie believes that this post-disciplinary thinking is essential for driving new breakthroughs in science and envisions to recruit a team with diverse backgrounds, ranging among microbiology, nanoscience, geochemistry, inorganic chemistry, biochemistry and biophysics at ASU. She is a 2021 DOE Early Career awardee and has been serving as an associate editor for American Mineralogist since 2017. The [...] manipulate the assembly of nanostructures. The basic work in Jie's group has important implications for various applications, especially in nanomaterial synthesis, fuel cell, bioelectronic, and biocatalyst development other than providing a key holistic picture of how larger biogeochemical environments have evolved/continue to evolve. The talented scientists and students in Jie's group have diverse backgrounds and we always welcome those who are interested in interdisciplinary research,\", 'score': 0.741169, 'raw_content': None}, {'url': 'https://www.gmu.edu/profiles/jxu13', 'title': 'Jie Xu | George Mason University', 'content': 'Before joining George Mason, Xu was a senior analyst in finance operations research with United Airlines. He worked on the research and development of revenue management, the airline’s loyalty program, and market demand forecasting. He also worked as a summer intern at IBM T.J. Watson Research Center on risk management for new product development portfolio investments and supply chain optimization at the IBM China Research Lab.\\n\\n### Research [...] Jie Xu’s research focuses on algorithmic research in the fields of artificial intelligence, digital twin simulation, data science, stochastic optimization, and risk analytics. Of specific interests are digital twin simulation-based optimization, Bayesian optimization, Monte Carlo tree search, optimal learning, and reinforcement learning. His applications research focuses on air transportation, electric vehicle grid integration, human digital twin, power systems, semiconductor manufacturing, and [...] transportation electrification, with a focus on resource allocation, system resilience, and testing. He was the President of INFORMS Simulation Society from July 2022 to June 2024. He currently serves as an Associate Editor for IISE Transactions, ACM Transactions on Modeling and Computer Simulation, Journal of Simulation, and Asia-Pacific Journal of Operational Research.', 'score': 0.7206637, 'raw_content': None}, {'url': 'https://www.ece.ufl.edu/people/faculty/jie-xu/', 'title': 'Jie Xu - ECE, UF', 'content': 'close search\\nLogo\\nSchool Logo Link\\nsearch\\nsearch\\n\\n# Jie Xu\\n\\n##### Associate Professor\\n\\n## Contact\\n\\nEmail: jie.xu@ufl.edu\\n\\nPhone: 352-392-0010\\n\\nMailing Address: 5000 Malachowsky Hall, 1889 Museum Rd, Gainesville FL 32611\\n\\n## Office Location\\n\\nMALA 4125\\n\\n [Map ]\\n\\n## Primary Research Area\\n\\nComputer Engineering\\n\\n## Research Interests\\n\\nEdge computing, wireless communications and networking, distributed learning and optimization, federated learning, reinforcement learning\\n\\n## About\\n\\nHomepage', 'score': 0.7055624, 'raw_content': None}], 'response_time': 1.68, 'request_id': '92ad6c67-9602-47b0-a057-11cd8c3779c3'}), ToolMessage(content='[{\"title\": \"Guofang Li - Language & Literacy Education - UBC LLED\", \"url\": \"https://lled.educ.ubc.ca/guofang-li/\", \"content\": \"Dr. Guofang Li is Professor and Tier 1 Canada Research Chair in Transnational and Global Perspectives of Language and Literacy Education of Children and Youth at the University of British Columbia. Her research examines the language and literacy development of multilingual children and youth in transnational and immigrant contexts. She focuses on bilingualism, biliteracy, digital literacies, technology-supported language instruction, and equity-oriented teacher education through longitudinal [...] AERA Early Career Award (2010), Division G Early Career Award (2008), and Second Language Research SIG Mid-Career Award (2016). She has also received the Edward Fry Book Award from the Literacy Research Association twice (2013, 2006) and the International Citation of Merit from the International Literacy Association in 2025. In 2023 and 2024, she was ranked among the world’s top 2% most-cited researchers in education and the social sciences by Stanford University and Elsevier. [...] and cross-cultural studies. Dr. Li has published widely in both English and Chinese, with numerous books, journal articles, and book chapters. Her scholarship has been shared broadly through keynote and invited presentations at academic, professional, and policy venues around the world. Her work has received national and international recognition from leading scholarly organizations. She was named a Fellow of the American Educational Research Association (AERA) in 2025 and is a recipient of the\", \"score\": 0.92091084}, {\"title\": \"Guofang Li - Wikipedia\", \"url\": \"https://en.wikipedia.org/wiki/Guofang_Li\", \"content\": \"Jump to content\\\\n\\\\n# Guofang Li\\\\n\\\\nAdd links\\\\n\\\\nFrom Wikipedia, the free encyclopedia\\\\n\\\\nGuofang Li is a professor of education at the University of British Columbia (UBC) in Vancouver, British Columbia, Canada. She holds the Canada Research Chair in Transnational/Global Perspectives of Language and Literacy Education of Children. Li is the author of over 100 journal articles and over a dozen books on topics related to literacy, teaching, and diversity and equity issues.\\\\n\\\\n## Early life and education [...] Li was an assistant professor at Buffalo State College, a State University of New York campus, from 2001 through 2006. She joined the faculty in the Department of Teacher Education at Michigan State University in 2006. In 2016, she was announced as a new Canada Research Chair in Transnational/Global Perspectives of Language and Literacy Education of Children at the UBC\\'s Faculty of Education.\\\\n\\\\n## Selected works\\\\n\\\\n[edit]\\\\n\\\\n### Books\\\\n\\\\n[edit] [...] [edit]\\\\n\\\\nLi was born and raised in rural China. She completed an undergraduate degree at Hubei University and a M.A. degree in applied linguistics at Wuhan University. She earned a PhD in curriculum studies from the University of Saskatchewan in 2000.\\\\n\\\\n## Career\\\\n\\\\n[edit]\", \"score\": 0.90791017}, {\"title\": \"Guofeng Li | IEEE Xplore Author Details\", \"url\": \"https://ieeexplore.ieee.org/author/37598708900\", \"content\": \"Biography. Guofeng Li (Member, IEEE) received the M.S. degree in nuclear physics from the Northeast Normal University, Changchun, China, in 1993, and the Ph\", \"score\": 0.78670514}, {\"title\": \"Dr. Guofang Li - Faculty of Education\", \"url\": \"https://educ.ubc.ca/dr-guofang-li/\", \"content\": \"Dr. Guofang Li is establishing innovative ways to bridge the gap between the cultural resources and linguistic knowledge from students’ home lives and teachers’ and schools’ literacy efforts. Li’s findings will increase educators’ understanding of specific cultural practices, as well as the importance of culturally relevant approaches to educating immigrant and minority students. Her research will also address the need to examine current language and educational policies and practices. [...] EDUC\\\\n\\\\n## Dr. Guofang Li\\\\n\\\\nCanada Research Chair in Transnational/Global Perspectives on Language and Literacy Education of Children and Youth\\\\n\\\\nProfessor, Department of Language and Literacy Education [...] Her program of research aims to improve the life success of immigrant and minority students by addressing the cultural, linguistic, instructional, and structural barriers in their literacy learning and academic achievement, in both school and at home. Her research identifies the literacy resources and practices that exist in immigrant families, as these are critical to students’ successful transition between school and home.\", \"score\": 0.7451949}, {\"title\": \"131 CU Boulder faculty members honored at convocation\", \"url\": \"https://www.colorado.edu/today/2025/09/24/131-cu-boulder-faculty-members-honored-convocation\", \"content\": \"Katherine Laura Bos Alexander (Asian Languages and Civilizations)\\\\n Natasha Bosanac (Aerospace Engineering Sciences)\\\\n Carson J. Bruns (Mechanical Engineering)\\\\n Jeremy Calder (Linguistics)\\\\n Melissa Hart Cantrell (University Libraries)\\\\n Guofeng Cao (Geography)\\\\n Edward Boyi Chuong (Molecular, Cellular and Developmental Biology)\\\\n Brianne Caitlin Cohen (Art and Art History)\\\\n Heather A. Demarest (Philosophy)\\\\n Laura Kay Devendorf (Information Science) [...] ## Faculty promoted to full professor [...] Jason A. Dexter (Astrophysical and Planetary Sciences)\\\\n Emily Holliday Dommermuth (University Libraries)\\\\n Emily Anne Gallagher (Business)\\\\n Ashton Lewis Hawk (Business)\\\\n Hannah Haynie (Linguistics)\\\\n Shu-Wei Huang (Electrical, Computer and Energy Engineering)\\\\n Maryam Jamshidi (Law)\\\\n Hilary B. Kalisman (History)\\\\n Marina Kassianidou (Art and Art History)\\\\n Brian Keegan (Information Science)\\\\n Isabel Koster (Classics)\\\\n Morteza Mehdi Lahijanian (Aerospace Engineering Sciences)\", \"score\": 0.15308042}]', name='tavily_search_results_json', id='029f907c-6401-4272-9f48-9ee4ac4fc6a4', tool_call_id='call_LC7jkjoVIEBcQE8AGczj9cIE', artifact={'query': 'Guofeng Li', 'follow_up_questions': None, 'answer': None, 'images': [], 'results': [{'url': 'https://lled.educ.ubc.ca/guofang-li/', 'title': 'Guofang Li - Language & Literacy Education - UBC LLED', 'content': 'Dr. Guofang Li is Professor and Tier 1 Canada Research Chair in Transnational and Global Perspectives of Language and Literacy Education of Children and Youth at the University of British Columbia. Her research examines the language and literacy development of multilingual children and youth in transnational and immigrant contexts. She focuses on bilingualism, biliteracy, digital literacies, technology-supported language instruction, and equity-oriented teacher education through longitudinal [...] AERA Early Career Award (2010), Division G Early Career Award (2008), and Second Language Research SIG Mid-Career Award (2016). She has also received the Edward Fry Book Award from the Literacy Research Association twice (2013, 2006) and the International Citation of Merit from the International Literacy Association in 2025. In 2023 and 2024, she was ranked among the world’s top 2% most-cited researchers in education and the social sciences by Stanford University and Elsevier. [...] and cross-cultural studies. Dr. Li has published widely in both English and Chinese, with numerous books, journal articles, and book chapters. Her scholarship has been shared broadly through keynote and invited presentations at academic, professional, and policy venues around the world. Her work has received national and international recognition from leading scholarly organizations. She was named a Fellow of the American Educational Research Association (AERA) in 2025 and is a recipient of the', 'score': 0.92091084, 'raw_content': None}, {'url': 'https://en.wikipedia.org/wiki/Guofang_Li', 'title': 'Guofang Li - Wikipedia', 'content': \"Jump to content\\n\\n# Guofang Li\\n\\nAdd links\\n\\nFrom Wikipedia, the free encyclopedia\\n\\nGuofang Li is a professor of education at the University of British Columbia (UBC) in Vancouver, British Columbia, Canada. She holds the Canada Research Chair in Transnational/Global Perspectives of Language and Literacy Education of Children. Li is the author of over 100 journal articles and over a dozen books on topics related to literacy, teaching, and diversity and equity issues.\\n\\n## Early life and education [...] Li was an assistant professor at Buffalo State College, a State University of New York campus, from 2001 through 2006. She joined the faculty in the Department of Teacher Education at Michigan State University in 2006. In 2016, she was announced as a new Canada Research Chair in Transnational/Global Perspectives of Language and Literacy Education of Children at the UBC's Faculty of Education.\\n\\n## Selected works\\n\\n[edit]\\n\\n### Books\\n\\n[edit] [...] [edit]\\n\\nLi was born and raised in rural China. She completed an undergraduate degree at Hubei University and a M.A. degree in applied linguistics at Wuhan University. She earned a PhD in curriculum studies from the University of Saskatchewan in 2000.\\n\\n## Career\\n\\n[edit]\", 'score': 0.90791017, 'raw_content': None}, {'url': 'https://ieeexplore.ieee.org/author/37598708900', 'title': 'Guofeng Li | IEEE Xplore Author Details', 'content': 'Biography. Guofeng Li (Member, IEEE) received the M.S. degree in nuclear physics from the Northeast Normal University, Changchun, China, in 1993, and the Ph', 'score': 0.78670514, 'raw_content': None}, {'url': 'https://educ.ubc.ca/dr-guofang-li/', 'title': 'Dr. Guofang Li - Faculty of Education', 'content': 'Dr. Guofang Li is establishing innovative ways to bridge the gap between the cultural resources and linguistic knowledge from students’ home lives and teachers’ and schools’ literacy efforts. Li’s findings will increase educators’ understanding of specific cultural practices, as well as the importance of culturally relevant approaches to educating immigrant and minority students. Her research will also address the need to examine current language and educational policies and practices. [...] EDUC\\n\\n## Dr. Guofang Li\\n\\nCanada Research Chair in Transnational/Global Perspectives on Language and Literacy Education of Children and Youth\\n\\nProfessor, Department of Language and Literacy Education [...] Her program of research aims to improve the life success of immigrant and minority students by addressing the cultural, linguistic, instructional, and structural barriers in their literacy learning and academic achievement, in both school and at home. Her research identifies the literacy resources and practices that exist in immigrant families, as these are critical to students’ successful transition between school and home.', 'score': 0.7451949, 'raw_content': None}, {'url': 'https://www.colorado.edu/today/2025/09/24/131-cu-boulder-faculty-members-honored-convocation', 'title': '131 CU Boulder faculty members honored at convocation', 'content': 'Katherine Laura Bos Alexander (Asian Languages and Civilizations)\\n Natasha Bosanac (Aerospace Engineering Sciences)\\n Carson J. Bruns (Mechanical Engineering)\\n Jeremy Calder (Linguistics)\\n Melissa Hart Cantrell (University Libraries)\\n Guofeng Cao (Geography)\\n Edward Boyi Chuong (Molecular, Cellular and Developmental Biology)\\n Brianne Caitlin Cohen (Art and Art History)\\n Heather A. Demarest (Philosophy)\\n Laura Kay Devendorf (Information Science) [...] ## Faculty promoted to full professor [...] Jason A. Dexter (Astrophysical and Planetary Sciences)\\n Emily Holliday Dommermuth (University Libraries)\\n Emily Anne Gallagher (Business)\\n Ashton Lewis Hawk (Business)\\n Hannah Haynie (Linguistics)\\n Shu-Wei Huang (Electrical, Computer and Energy Engineering)\\n Maryam Jamshidi (Law)\\n Hilary B. Kalisman (History)\\n Marina Kassianidou (Art and Art History)\\n Brian Keegan (Information Science)\\n Isabel Koster (Classics)\\n Morteza Mehdi Lahijanian (Aerospace Engineering Sciences)', 'score': 0.15308042, 'raw_content': None}], 'response_time': 1.29, 'request_id': 'e0710926-3036-4c2d-8cae-5ec910eeb5a5'}), ToolMessage(content='[{\"title\": \"Pu Xiaorong-UESTC SCSE\", \"url\": \"https://www.en.scse.uestc.edu.cn/info/1085/1915.htm\", \"content\": \"Biography. Educational Experiences. B. S. Computer Software, Southwest Normal University, 1988-1992. M. S. in Cognitive psychology, Southwest Normal\", \"score\": 0.5513086}, {\"title\": \"Nurses\\' Merit Awards - NUHS | National University Health System\", \"url\": \"https://www.nuhs.edu.sg/about-nuhs/awards-and-achievements/nurses-merit-awards\", \"content\": \"Assistant Nurse Clinician Amran bin Amir\\\\nNurse Clinician Pu Xiaorong\\\\nAssistant Nurse Clinician Maznah Binte Marmin\\\\nNurse Educator Siti Zainah\\\\nNurse Clinician Tang Min Yee\\\\nSenior Nurse Manager Arvinder Kaur\\\\n\\\\nAlexandra Hospital (AH) & National University Polyclinics (NUP)\\\\n\\\\nSenior Nurse Manager Marie Tsen\\\\nNurse Manager Seah Hui Min\\\\nNurse Clinician Fatimah Bte Endut\\\\n\\\\nNational University Cancer Institute, Singapore (NCIS) & National University Heart Centre, Singapore (NUHCS) [...] NUS Faculty of Dentistry\\\\nNUS Saw Swee Hock School of Public Health\\\\nBack to Top [...] Ng Yi Li  \\\\nAssistant Nurse Clinician, National University Hospital\\\\n\\\\nJasline Teo Chay Ying  \\\\nNurse Manager, National University Hospital\\\\n\\\\nChoong Mang Shya  \\\\nNurse Manager, National University Hospital\\\\n\\\\nCaroline Lim Yuh Yng  \\\\nAssistant Nurse Clinician, National University Hospital\\\\n\\\\nZhao Xiaohong  \\\\nNurse Clinician, National University Cancer Institute Singapore\\\\n\\\\nZhou Li  \\\\nAssistant Nurse Clinician, National University Heart Centre Singapore\", \"score\": 0.4654124}, {\"title\": \"[PDF] Brief biographies of four chinese pioneers in the field - MDPI\", \"url\": \"https://mdpi-res.com/data/biography.pdf\", \"content\": \"work was completed on May 1st of 1978 and was published in High Energy Physics and Nuclear Physics (predecessor of Chinese Physics C) in 1979. The method developed in this work was further extended to other high-energy reactions, known as the quark production rule, and is still in use today. [...] started his life in Shanghai and contributed all his passion to teaching and research in the Department of Physics at Fudan University for more than half-century. He told us that on his ﬁrst night in Shanghai, he wandered alone in the stadium on a bright mid-autumn night, starving and pondering about his possible future at Fudan. [...] cosmological background radiation, the open universe, Dirac’s cosmological model, and large-number assumption. Later, his studies embarked on topics about black holes, cosmology, and astrophysics, which appeared primarily in eminent international journals.\", \"score\": 0.24015966}, {\"title\": \"[PDF] Deep Clustering: A Comprehensive Survey - arXiv\", \"url\": \"https://arxiv.org/pdf/2210.04142\", \"content\": \"/R17 591 0 R /R19 593 0 R /R21 598 0 R /R23 590 0 R /R25 592 0 R /R27 594 0 R /R29 595 0 R /R31 599 0 R /R9 596 0 R >> /ProcSet [ /PDF /Text ] /Properties << /R5 588 0 R >> >> >> stream x\\x9c\\xadXÉ®5Ýß¯èe@<Çv¹<\\x88!$DO ± ý\\x82°\\x8eøsN\\x95\\x87vwß¼A\\x89²È»§]Çå\\x9aíw\\x8b5n±ò¯ýÿúîòüë?\\\\\\\\_ÿ{÷ËÛ\\x7f\\x9e¿å«¯\\\\\\\\_\\\\\\\\\\x9e¿ÊË¯\\x7f\\\\\\\\_Þ]dÅ ÇÅå\\x97¿~Y¾ÿ|y«äßúWÊ.\\x9a\\x92¦H\\x86°èòæó\\x8b5\\x81\\\\\\\\ ØÅøhSðM@\\x97Z^\\x9c¥lxñ%\\x9blÝ\\x92|1Ñú!}.6B\\x98Ù\\' òGð%¡Ë%ykrr\\x8bK\\x89\\x8cKËÝ\\x86X lëÅ9CBtiRë\\x89g½ü&j¶U±qû!s]å7îÒ¸»\\x94 m7rÜ4Ú\\x90¡c9 \\x83yHµÝ×\\x93>ëå ¬\\x94ö\\x88©Ä\\x9cå\\x8fX\\x8a\\x87\\x9dM±\\x9eB\\x80\\x85Þ]\\\\\\\\uTûïõÝòÕ-ü[ÀOÝ¾¹Ô(p ¼Pùv\\x8ei¹½»<{ÿÙíïXì \\x87\\x87«°:\\x99ÌË [...] xÚÍ<]sÜ6\\x92ïþº7ªNÃ�Ào¥®\\x9cµ\\x93u\\\\\\\\åÍÅÞÝK9¾\\\\\\\\j\\x86\\x92¸\\x9e!gINß¯¿nt\\x83I\\x8c$;Þ½{Ñ\\x80\\x8d&�ýÝ \\x89\\x8bÛ qñÝ\\x93oÞ<ùê[\\x99\\x99\\x8bìÍÍ\\x85IE,E~\\x91\\x99<Ö @»\\x8b·\\x91º|÷æû\\'\\x82\\\\\\\\_�ì\\\\\\\\]±Aü\\x8d\\x91\\x89}a#ó8\\x91\\x8a^ØîOýPu}|¹QY½¹«°a¢Cy$HWõ§ý@íº§Î®:¸j\\x86jGêágþêÛ¦+Ò$Åe\\x96ÅRË\\x8b$62§éþ\\x9b°¤ôÐ626¸,ígF\\x9bV\\x9fÅE\\x91ÃGÙn^ìë\\x96\\x963Ð¢Óh(û÷=¯¨!ð[U\\x9c\\\\\\\\ \\x98Eó7·Gx!É\\xadÛ¶Ê®zjß\\x90\\x85ÅÍCÈ¿#$ü\\x91\\x84÷¼ª\\x8eÔêëæv\\\\\\\\_m~\\xad«ËÄDÈÛ ]O\\\\\\\\_\\x9a\\x8b83¸ø(\\x91Ðøß®÷\\xad\\x885`\\x89iþÀP\\\\\\\\Î3ípþ+4\\x86P©7\\x86ä1´\\x87\\x93Æ©NÎ¿ÎOÇ\\x89Ê?ëø6I\\x92DOW§XÀ§©ÿ4éÖ$2.e·\\'Ë³ \\'\\x99¶ÿuu¨7ýéXu¿Ö=Rwã\\x99Ü¿ý\\x99\\x89E\\x96óö«/¹ý\\x9bDE\\x7f¸ÜÈ4\\x8b\\x9e\\xadLD¬òäËFñ¸Ã(f\\x87ñ\\x87õa¨8K}á\\x8d¦ÃÐb<\\x8c\\x91V?ÜU]\\x9851q\\x9e\\x8eÜùl5\\x93I¥Æ\\x8fC)bY\\x8eÏ¬mú¡+ëÆç¡ºú·\\x98ù7[³£ [...] &üó¿þ\\x99èö×/ÿ ¸\\\\\"(Fendstream endobj 387 0 obj << /Type /Metadata /Subtype /XML /Filter /FlateDecode /Length 569 >> stream x\\x9cíWA\\x8aÛ0ÝçB]dÑÚ\\x92\\x95É\\x84{\\x86!a(\\x94\\x94Ð¦[ER2&¶åÊ qæ=\\x9c¢-ô6í²W¨dg\\x91÷ñÛ-ï\\x97üaËÇ¢\\x7f}Õ KZ¦y\\\\\\\\ e\\x9ad-#È\\x84ZIjÇ.\\x8d ¨ fÁW�gs0QZ\\x82\\x91xc Fc\\x9f¯F|È\\x827\\x80`B¾@Á\\x85\\x87\\x87\\x94:\\x82ã¯z ÔbM?Lo\\x8fj6\\x8aà½19Eh¿ßûû\\x81¯ôãña\\x82ñ,+\\x99a¥\\x97¯EÍ1\\x95×qnb\\x95³\\x95Ú\\x99\\x9eSªÉo¸ó\\x9dN\\\\\\\\fÁ\\x91Ld\\\\\\\\3S ÀP\\x9f\\x8buÙÌÈ ¿Z\\x9f«¹\\x8a\\x85NàvQþ\\x8c.YnÁø\\x9cû¯ÔÏÌ\\x82ÓµÒ)³\\x8d°> stream xÚÍ\\x9bmsÔFÇßï§\\x98w!\\x95B;ÏWTª Æ`À9¦Båò®Ì\\\\\\\\¬%\\x97¤5\\x98O\\x7fÿÖÎ.\\x96 \\x92ã¬rW5£\\x9dQÏO==Ý=ÒXÁ8\\x93F2¡JÅ¤ (5Ó\\x82JÃ\\x8c¡Ò2¨Ý1¯5JÏBðLZÜ\\'4X\\x8d\\x8açi-RüPqhr²µ£\\x840aPu¸YÓÍô£ö\\x82Iï\\x99°¨T¤\", \"score\": 0.05644935}, {\"title\": \"A self-healing composite solid electrolyte with dynamic three ...\", \"url\": \"https://www.sciencedirect.com/science/article/abs/pii/S0021979724021842\", \"content\": \"Skip to main contentSkip to article\\\\n\\\\nSign in\\\\n\\\\n Access through your organization\\\\n Purchase PDF\\\\n\\\\nWe use cookies that are necessary to make our site work. We may also use additional cookies to analyze, improve, and personalize our content and your digital experience. For more information, see ourCookie Policy\\\\n\\\\n## Cookie Preference Center [...] You may choose not to allow some types of cookies. However, blocking some types may impact your experience of our site and the services we are able to offer. See the different category headings below to find out more or change your settings.\\\\n  \\\\n  \\\\nYou may also be able to exercise your privacy choices as described in our Privacy Policy [...] We use cookies which are necessary to make our site work. We may also use additional cookies to analyse, improve and personalise our content and your digital experience. For more information, see our Cookie Policy and the list of Google Ad-Tech Vendors.\", \"score\": 0.03330229}]', name='tavily_search_results_json', id='30562d01-b8a5-4bad-b85e-ffc0f0e5f4fa', tool_call_id='call_qKlNfdnXE1bh2vkdEfRMQtYL', artifact={'query': 'Xiaorong Pu', 'follow_up_questions': None, 'answer': None, 'images': [], 'results': [{'url': 'https://www.en.scse.uestc.edu.cn/info/1085/1915.htm', 'title': 'Pu Xiaorong-UESTC SCSE', 'content': 'Biography. Educational Experiences. B. S. Computer Software, Southwest Normal University, 1988-1992. M. S. in Cognitive psychology, Southwest Normal', 'score': 0.5513086, 'raw_content': None}, {'url': 'https://www.nuhs.edu.sg/about-nuhs/awards-and-achievements/nurses-merit-awards', 'title': \"Nurses' Merit Awards - NUHS | National University Health System\", 'content': 'Assistant Nurse Clinician Amran bin Amir\\nNurse Clinician Pu Xiaorong\\nAssistant Nurse Clinician Maznah Binte Marmin\\nNurse Educator Siti Zainah\\nNurse Clinician Tang Min Yee\\nSenior Nurse Manager Arvinder Kaur\\n\\nAlexandra Hospital (AH) & National University Polyclinics (NUP)\\n\\nSenior Nurse Manager Marie Tsen\\nNurse Manager Seah Hui Min\\nNurse Clinician Fatimah Bte Endut\\n\\nNational University Cancer Institute, Singapore (NCIS) & National University Heart Centre, Singapore (NUHCS) [...] NUS Faculty of Dentistry\\nNUS Saw Swee Hock School of Public Health\\nBack to Top [...] Ng Yi Li  \\nAssistant Nurse Clinician, National University Hospital\\n\\nJasline Teo Chay Ying  \\nNurse Manager, National University Hospital\\n\\nChoong Mang Shya  \\nNurse Manager, National University Hospital\\n\\nCaroline Lim Yuh Yng  \\nAssistant Nurse Clinician, National University Hospital\\n\\nZhao Xiaohong  \\nNurse Clinician, National University Cancer Institute Singapore\\n\\nZhou Li  \\nAssistant Nurse Clinician, National University Heart Centre Singapore', 'score': 0.4654124, 'raw_content': None}, {'url': 'https://mdpi-res.com/data/biography.pdf', 'title': '[PDF] Brief biographies of four chinese pioneers in the field - MDPI', 'content': 'work was completed on May 1st of 1978 and was published in High Energy Physics and Nuclear Physics (predecessor of Chinese Physics C) in 1979. The method developed in this work was further extended to other high-energy reactions, known as the quark production rule, and is still in use today. [...] started his life in Shanghai and contributed all his passion to teaching and research in the Department of Physics at Fudan University for more than half-century. He told us that on his ﬁrst night in Shanghai, he wandered alone in the stadium on a bright mid-autumn night, starving and pondering about his possible future at Fudan. [...] cosmological background radiation, the open universe, Dirac’s cosmological model, and large-number assumption. Later, his studies embarked on topics about black holes, cosmology, and astrophysics, which appeared primarily in eminent international journals.', 'score': 0.24015966, 'raw_content': None}, {'url': 'https://arxiv.org/pdf/2210.04142', 'title': '[PDF] Deep Clustering: A Comprehensive Survey - arXiv', 'content': '/R17 591 0 R /R19 593 0 R /R21 598 0 R /R23 590 0 R /R25 592 0 R /R27 594 0 R /R29 595 0 R /R31 599 0 R /R9 596 0 R >> /ProcSet [ /PDF /Text ] /Properties << /R5 588 0 R >> >> >> stream x\\x9c\\xadXÉ®5Ýß¯èe@<Çv¹<\\x88!$DO ± ý\\x82°\\x8eøsN\\x95\\x87vwß¼A\\x89²È»§]Çå\\x9aíw\\x8b5n±ò¯ýÿúîòüë?\\\\_ÿ{÷ËÛ\\x7f\\x9e¿å«¯\\\\_\\\\\\x9e¿ÊË¯\\x7f\\\\_Þ]dÅ ÇÅå\\x97¿~Y¾ÿ|y«äßúWÊ.\\x9a\\x92¦H\\x86°èòæó\\x8b5\\x81\\\\ ØÅøhSðM@\\x97Z^\\x9c¥lxñ%\\x9blÝ\\x92|1Ñú!}.6B\\x98Ù\\' òGð%¡Ë%ykrr\\x8bK\\x89\\x8cKËÝ\\x86X lëÅ9CBtiRë\\x89g½ü&j¶U±qû!s]å7îÒ¸»\\x94 m7rÜ4Ú\\x90¡c9 \\x83yHµÝ×\\x93>ëå ¬\\x94ö\\x88©Ä\\x9cå\\x8fX\\x8a\\x87\\x9dM±\\x9eB\\x80\\x85Þ]\\\\uTûïõÝòÕ-ü[ÀOÝ¾¹Ô(p ¼Pùv\\x8ei¹½»<{ÿÙíïXì \\x87\\x87«°:\\x99ÌË [...] xÚÍ<]sÜ6\\x92ïþº7ªNÃ�Ào¥®\\x9cµ\\x93u\\\\åÍÅÞÝK9¾\\\\j\\x86\\x92¸\\x9e!gINß¯¿nt\\x83I\\x8c$;Þ½{Ñ\\x80\\x8d&�ýÝ \\x89\\x8bÛ qñÝ\\x93oÞ<ùê[\\x99\\x99\\x8bìÍÍ\\x85IE,E~\\x91\\x99<Ö @»\\x8b·\\x91º|÷æû\\'\\x82\\\\_�ì\\\\]±Aü\\x8d\\x91\\x89}a#ó8\\x91\\x8a^ØîOýPu}|¹QY½¹«°a¢Cy$HWõ§ý@íº§Î®:¸j\\x86jGêágþêÛ¦+Ò$Åe\\x96ÅRË\\x8b$62§éþ\\x9b°¤ôÐ626¸,ígF\\x9bV\\x9fÅE\\x91ÃGÙn^ìë\\x96\\x963Ð¢Óh(û÷=¯¨!ð[U\\x9c\\\\ \\x98Eó7·Gx!É\\xadÛ¶Ê®zjß\\x90\\x85ÅÍCÈ¿#$ü\\x91\\x84÷¼ª\\x8eÔêëæv\\\\_m~\\xad«ËÄDÈÛ ]O\\\\_\\x9a\\x8b83¸ø(\\x91Ðøß®÷\\xad\\x885`\\x89iþÀP\\\\Î3ípþ+4\\x86P©7\\x86ä1´\\x87\\x93Æ©NÎ¿ÎOÇ\\x89Ê?ëø6I\\x92DOW§XÀ§©ÿ4éÖ$2.e·\\'Ë³ \\'\\x99¶ÿuu¨7ýéXu¿Ö=Rwã\\x99Ü¿ý\\x99\\x89E\\x96óö«/¹ý\\x9bDE\\x7f¸ÜÈ4\\x8b\\x9e\\xadLD¬òäËFñ¸Ã(f\\x87ñ\\x87õa¨8K}á\\x8d¦ÃÐb<\\x8c\\x91V?ÜU]\\x9851q\\x9e\\x8eÜùl5\\x93I¥Æ\\x8fC)bY\\x8eÏ¬mú¡+ëÆç¡ºú·\\x98ù7[³£ [...] &üó¿þ\\x99èö×/ÿ ¸\"(Fendstream endobj 387 0 obj << /Type /Metadata /Subtype /XML /Filter /FlateDecode /Length 569 >> stream x\\x9cíWA\\x8aÛ0ÝçB]dÑÚ\\x92\\x95É\\x84{\\x86!a(\\x94\\x94Ð¦[ER2&¶åÊ qæ=\\x9c¢-ô6í²W¨dg\\x91÷ñÛ-ï\\x97üaËÇ¢\\x7f}Õ KZ¦y\\\\ e\\x9ad-#È\\x84ZIjÇ.\\x8d ¨ fÁW�gs0QZ\\x82\\x91xc Fc\\x9f¯F|È\\x827\\x80`B¾@Á\\x85\\x87\\x87\\x94:\\x82ã¯z ÔbM?Lo\\x8fj6\\x8aà½19Eh¿ßûû\\x81¯ôãña\\x82ñ,+\\x99a¥\\x97¯EÍ1\\x95×qnb\\x95³\\x95Ú\\x99\\x9eSªÉo¸ó\\x9dN\\\\fÁ\\x91Ld\\\\3S ÀP\\x9f\\x8buÙÌÈ ¿Z\\x9f«¹\\x8a\\x85NàvQþ\\x8c.YnÁø\\x9cû¯ÔÏÌ\\x82ÓµÒ)³\\x8d°> stream xÚÍ\\x9bmsÔFÇßï§\\x98w!\\x95B;ÏWTª Æ`À9¦Båò®Ì\\\\¬%\\x97¤5\\x98O\\x7fÿÖÎ.\\x96 \\x92ã¬rW5£\\x9dQÏO==Ý=ÒXÁ8\\x93F2¡JÅ¤ (5Ó\\x82JÃ\\x8c¡Ò2¨Ý1¯5JÏBðLZÜ\\'4X\\x8d\\x8açi-RüPqhr²µ£\\x840aPu¸YÓÍô£ö\\x82Iï\\x99°¨T¤', 'score': 0.05644935, 'raw_content': None}, {'url': 'https://www.sciencedirect.com/science/article/abs/pii/S0021979724021842', 'title': 'A self-healing composite solid electrolyte with dynamic three ...', 'content': 'Skip to main contentSkip to article\\n\\nSign in\\n\\n Access through your organization\\n Purchase PDF\\n\\nWe use cookies that are necessary to make our site work. We may also use additional cookies to analyze, improve, and personalize our content and your digital experience. For more information, see ourCookie Policy\\n\\n## Cookie Preference Center [...] You may choose not to allow some types of cookies. However, blocking some types may impact your experience of our site and the services we are able to offer. See the different category headings below to find out more or change your settings.\\n  \\n  \\nYou may also be able to exercise your privacy choices as described in our Privacy Policy [...] We use cookies which are necessary to make our site work. We may also use additional cookies to analyse, improve and personalise our content and your digital experience. For more information, see our Cookie Policy and the list of Google Ad-Tech Vendors.', 'score': 0.03330229, 'raw_content': None}], 'response_time': 1.67, 'request_id': '120b29db-3389-45e3-bcfc-bf6295bc3702'}), ToolMessage(content='[{\"title\": \"Philip S. Yu - Wikipedia\", \"url\": \"https://en.wikipedia.org/wiki/Philip_S._Yu\", \"content\": \"Jump to content\\\\n\\\\n# Philip S. Yu\\\\n\\\\n العربية\\\\n\\\\nEdit links\\\\n\\\\nFrom Wikipedia, the free encyclopedia\\\\n\\\\nAmerican computer scientist\\\\n\\\\nPhilip S. Yu (born c. 1952) is an American computer scientist and professor of information technology at the University of Illinois at Chicago. He holds over 300 patents, and is known for his work in the field of data mining.\\\\n\\\\n## Biography\\\\n\\\\n[edit] [...] He started his career in private enterprise, at IBM\\'s Thomas J. Watson Research Center, where he eventually became manager of the Software Tools and Techniques group. Currently he is Distinguished Professor and Wexler Chair in Information Technology at the Department of Computer Science of the University of Illinois at Chicago [...] American computer scientists\\\\n American people of Taiwanese descent\\\\n University of Illinois Chicago faculty\\\\n National Taiwan University alumni\\\\n Stanford University School of Engineering alumni\\\\n New York University Stern School of Business alumni\\\\n 1997 fellows of the Association for Computing Machinery\\\\n Fellows of the IEEE\\\\n IBM Research computer scientists\\\\n 1950s births\\\\n Living people\\\\n\\\\nHidden categories:\", \"score\": 0.93295}, {\"title\": \"Philip S. Yu\", \"url\": \"https://www.computer.org/profiles/philip-yu/\", \"content\": \"Philip S. Yu is a Professor in Computer Science at the University of Illinois at Chicago and also holds the Wexler Chair in Information Technology. Dr. Yu spent most of his career at IBM, where he was manager of the Software Tools and Techniques group at the Watson Research Center. His research interest is on big data, including data mining, data stream, database and privacy. He has published more than 720 papers in refereed journals and conferences. He holds or has applied for more than 250 US [...] Dr. Yu is a Fellow of the ACM and the IEEE.  He is the Editor-in-Chief of ACM Transactions on Knowledge Discovery from Data.  He is on the steering committee of the IEEE Conference on Data Mining and ACM Conference on Information and Knowledge Management and was a member of the IEEE Data Engineering steering committee. He was the Editor-in-Chief of IEEE Transactions on Knowledge and Data Engineering (2001–2004). He received a Research Contributions Award from IEEE Intl. Conference on Data [...] Mining (2003). He had received several IBM honors including 2 IBM Outstanding Innovation Awards, an Outstanding Technical Achievement Award, 2 Research Division Awards and the 94th plateau of Invention Achievement Awards.  He was an IBM Master Inventor. Dr. Yu received the B.S. Degree in E.E. from National Taiwan University, the M.S. and Ph.D. degrees in E.E. from Stanford University, and the M.B.A. degree from New York University.\", \"score\": 0.92794675}, {\"title\": \"Philip S. Yu: On Recommendations via Large Multi-modal Models\", \"url\": \"https://en-soe.westlake.edu.cn/NewsEvents/RecentEvents/202405/t20240520_40088.shtml\", \"content\": \"Dr. Philip S. Yuis a Distinguished Professor and the Wexler Chair in Information Technology at the Department of Computer Science, University of Illinois at Chicago. He is a Fellow of the ACM and IEEE. Dr. Yu is the recipient of ACM SIGKDD 2016 Innovation Award for his influential research and scientific contributions on mining, fusion and anonymization of big data, the IEEE Computer Society’s 2013 Technical Achievement Award for “pioneering and fundamentally innovative contributions to the [...] scalable indexing, querying, searching, mining and anonymization of big data” and the Research Contributions Award from ICDM in 2003 for his pioneering contributions to the field of data mining. Dr. Yu has published more than 1,600 referred conference and journal papers cited more than 195,000 times with an H-index of 197. He has applied for more than 300 patents. Dr. Yu was the Editor-in-Chiefs of ACM TKDD (2011-2017) and IEEE TKDE (2001-2004). [...] News & Events\\\\n\\\\nRecent Events\\\\n\\\\n7th Yungu Lectureship | Philip S. Yu: On Recommendations via Large Multi-modal Models\\\\n\\\\nTime: 16:00-17:30, Tuesday, June 11, 2024\\\\n\\\\nVenue:E10-304, Yungu Campus, Westlake University\\\\n\\\\nHost: Stan Z. Li, Chair Professor, School of Engineering, Westlake University\\\\n\\\\nLanguage: English\\\\n\\\\nSpeaker：\\\\n\\\\nProf.Philip S. Yu\\\\n\\\\nDistinguished Professor,  \\\\n University of Illinois Chicago\\\\n\\\\nBiography:\", \"score\": 0.8872928}, {\"title\": \"Philip S. Yu - Computer Science - University of Illinois Chicago\", \"url\": \"https://cs.uic.edu/profiles/philip-yu/\", \"content\": \"Philip S. Yu\\'s main research interests include big data, data mining (especially on graph/network mining), social network, privacy preserving data publishing, data stream, database systems, and Internet applications and technologies. He is a Disthinguished Professor in the Department of Computer Science at UIC and also holds the Wexler Chair in Information and Technology. Before joining UIC, he was with IBM Thomas J. Watson Research Center, where he was manager of the Software Tools and [...] Dr. Yu is a Fellow of the ACM and the IEEE. He is the recepient of ACM SIGKDD 2016 Innovation Award for his influential research and scientific contributions on mining, fusion and anonymization of big data, the IEEE Computer Society\\'s 2013 Technical Achievement Award for \\\\\"pioneering and fundamentally innovative contributions to scalable indexing, querying, searching, mining and anonymization of big data\\\\\", and the Research Contributions Award from IEEE Intl. Conference on Data Mining (ICDM) in [...] Dr. Yu is the Editor-in-Chief of ACM Transactions on Knowledge Discovery from Data. He is on the steering committee of ACM Conference on Information and Knowledge Management and was a steering committee member of the IEEE Conference on Data Mining and the IEEE Conference on Data Engineering. He was the Editor-in-Chief of IEEE Transactions on Knowledge and Data Engineering (2001-2004). He had also served as an associate editor of ACM Transactions on the Internet Technology (2000-2010) and\", \"score\": 0.79522943}, {\"title\": \"Philip S. Yu: Computer Science H-index & Awards\", \"url\": \"https://research.com/u/philip-s-yu\", \"content\": \"His studies link Argument (complex analysis) with Biochemistry. His study in Biochemistry extends to Argument (complex analysis) with its themes. His Artificial intelligence study often links to related topics such as Federated learning. Machine learning and Reinforcement learning are two areas of study in which Philip S. Yu engages in interdisciplinary work. In his study, he carries out multidisciplinary Reinforcement learning and Machine learning research. He carries out multidisciplinary [...] D-Index & MetricsBest Publications\\\\n\\\\n   Home\\\\n   Best Scientists - Computer Science\\\\n   Philip S. Yu\\\\n\\\\nImage 2: Philip S. Yu\\\\n\\\\nPhilip S. Yu\\\\n\\\\nUniversity of Illinois at Chicago\\\\n\\\\nUnited States\\\\n\\\\nImage 3: Research.com 2024 Best Scientist Award Badge\\\\n\\\\n Computer Science \\\\n\\\\nUSA\\\\n\\\\n2025\\\\n\\\\nD-Index & Metrics  D-index (Discipline H-index) only includes papers and citation values for an examined discipline in contrast to General H-index which accounts for publications across all disciplines. [...] research, doing studies in Data science and Artificial intelligence. He undertakes interdisciplinary study in the fields of Gene and Robustness (evolution) through his works. He integrates Robustness (evolution) and Gene in his studies. Philip S. Yu integrates Computer security with Exploit in his research.\", \"score\": 0.6829338}]', name='tavily_search_results_json', id='832aba9d-352e-492b-b392-226e5bc5f74d', tool_call_id='call_YU9SXi8tYNrASQz6Cq4RQfzE', artifact={'query': 'Philip S. Yu', 'follow_up_questions': None, 'answer': None, 'images': [], 'results': [{'url': 'https://en.wikipedia.org/wiki/Philip_S._Yu', 'title': 'Philip S. Yu - Wikipedia', 'content': \"Jump to content\\n\\n# Philip S. Yu\\n\\n العربية\\n\\nEdit links\\n\\nFrom Wikipedia, the free encyclopedia\\n\\nAmerican computer scientist\\n\\nPhilip S. Yu (born c. 1952) is an American computer scientist and professor of information technology at the University of Illinois at Chicago. He holds over 300 patents, and is known for his work in the field of data mining.\\n\\n## Biography\\n\\n[edit] [...] He started his career in private enterprise, at IBM's Thomas J. Watson Research Center, where he eventually became manager of the Software Tools and Techniques group. Currently he is Distinguished Professor and Wexler Chair in Information Technology at the Department of Computer Science of the University of Illinois at Chicago [...] American computer scientists\\n American people of Taiwanese descent\\n University of Illinois Chicago faculty\\n National Taiwan University alumni\\n Stanford University School of Engineering alumni\\n New York University Stern School of Business alumni\\n 1997 fellows of the Association for Computing Machinery\\n Fellows of the IEEE\\n IBM Research computer scientists\\n 1950s births\\n Living people\\n\\nHidden categories:\", 'score': 0.93295, 'raw_content': None}, {'url': 'https://www.computer.org/profiles/philip-yu/', 'title': 'Philip S. Yu', 'content': 'Philip S. Yu is a Professor in Computer Science at the University of Illinois at Chicago and also holds the Wexler Chair in Information Technology. Dr. Yu spent most of his career at IBM, where he was manager of the Software Tools and Techniques group at the Watson Research Center. His research interest is on big data, including data mining, data stream, database and privacy. He has published more than 720 papers in refereed journals and conferences. He holds or has applied for more than 250 US [...] Dr. Yu is a Fellow of the ACM and the IEEE.  He is the Editor-in-Chief of ACM Transactions on Knowledge Discovery from Data.  He is on the steering committee of the IEEE Conference on Data Mining and ACM Conference on Information and Knowledge Management and was a member of the IEEE Data Engineering steering committee. He was the Editor-in-Chief of IEEE Transactions on Knowledge and Data Engineering (2001–2004). He received a Research Contributions Award from IEEE Intl. Conference on Data [...] Mining (2003). He had received several IBM honors including 2 IBM Outstanding Innovation Awards, an Outstanding Technical Achievement Award, 2 Research Division Awards and the 94th plateau of Invention Achievement Awards.  He was an IBM Master Inventor. Dr. Yu received the B.S. Degree in E.E. from National Taiwan University, the M.S. and Ph.D. degrees in E.E. from Stanford University, and the M.B.A. degree from New York University.', 'score': 0.92794675, 'raw_content': None}, {'url': 'https://en-soe.westlake.edu.cn/NewsEvents/RecentEvents/202405/t20240520_40088.shtml', 'title': 'Philip S. Yu: On Recommendations via Large Multi-modal Models', 'content': 'Dr. Philip S. Yuis a Distinguished Professor and the Wexler Chair in Information Technology at the Department of Computer Science, University of Illinois at Chicago. He is a Fellow of the ACM and IEEE. Dr. Yu is the recipient of ACM SIGKDD 2016 Innovation Award for his influential research and scientific contributions on mining, fusion and anonymization of big data, the IEEE Computer Society’s 2013 Technical Achievement Award for “pioneering and fundamentally innovative contributions to the [...] scalable indexing, querying, searching, mining and anonymization of big data” and the Research Contributions Award from ICDM in 2003 for his pioneering contributions to the field of data mining. Dr. Yu has published more than 1,600 referred conference and journal papers cited more than 195,000 times with an H-index of 197. He has applied for more than 300 patents. Dr. Yu was the Editor-in-Chiefs of ACM TKDD (2011-2017) and IEEE TKDE (2001-2004). [...] News & Events\\n\\nRecent Events\\n\\n7th Yungu Lectureship | Philip S. Yu: On Recommendations via Large Multi-modal Models\\n\\nTime: 16:00-17:30, Tuesday, June 11, 2024\\n\\nVenue:E10-304, Yungu Campus, Westlake University\\n\\nHost: Stan Z. Li, Chair Professor, School of Engineering, Westlake University\\n\\nLanguage: English\\n\\nSpeaker：\\n\\nProf.Philip S. Yu\\n\\nDistinguished Professor,  \\n University of Illinois Chicago\\n\\nBiography:', 'score': 0.8872928, 'raw_content': None}, {'url': 'https://cs.uic.edu/profiles/philip-yu/', 'title': 'Philip S. Yu - Computer Science - University of Illinois Chicago', 'content': 'Philip S. Yu\\'s main research interests include big data, data mining (especially on graph/network mining), social network, privacy preserving data publishing, data stream, database systems, and Internet applications and technologies. He is a Disthinguished Professor in the Department of Computer Science at UIC and also holds the Wexler Chair in Information and Technology. Before joining UIC, he was with IBM Thomas J. Watson Research Center, where he was manager of the Software Tools and [...] Dr. Yu is a Fellow of the ACM and the IEEE. He is the recepient of ACM SIGKDD 2016 Innovation Award for his influential research and scientific contributions on mining, fusion and anonymization of big data, the IEEE Computer Society\\'s 2013 Technical Achievement Award for \"pioneering and fundamentally innovative contributions to scalable indexing, querying, searching, mining and anonymization of big data\", and the Research Contributions Award from IEEE Intl. Conference on Data Mining (ICDM) in [...] Dr. Yu is the Editor-in-Chief of ACM Transactions on Knowledge Discovery from Data. He is on the steering committee of ACM Conference on Information and Knowledge Management and was a steering committee member of the IEEE Conference on Data Mining and the IEEE Conference on Data Engineering. He was the Editor-in-Chief of IEEE Transactions on Knowledge and Data Engineering (2001-2004). He had also served as an associate editor of ACM Transactions on the Internet Technology (2000-2010) and', 'score': 0.79522943, 'raw_content': None}, {'url': 'https://research.com/u/philip-s-yu', 'title': 'Philip S. Yu: Computer Science H-index & Awards', 'content': 'His studies link Argument (complex analysis) with Biochemistry. His study in Biochemistry extends to Argument (complex analysis) with its themes. His Artificial intelligence study often links to related topics such as Federated learning. Machine learning and Reinforcement learning are two areas of study in which Philip S. Yu engages in interdisciplinary work. In his study, he carries out multidisciplinary Reinforcement learning and Machine learning research. He carries out multidisciplinary [...] D-Index & MetricsBest Publications\\n\\n   Home\\n   Best Scientists - Computer Science\\n   Philip S. Yu\\n\\nImage 2: Philip S. Yu\\n\\nPhilip S. Yu\\n\\nUniversity of Illinois at Chicago\\n\\nUnited States\\n\\nImage 3: Research.com 2024 Best Scientist Award Badge\\n\\n Computer Science \\n\\nUSA\\n\\n2025\\n\\nD-Index & Metrics  D-index (Discipline H-index) only includes papers and citation values for an examined discipline in contrast to General H-index which accounts for publications across all disciplines. [...] research, doing studies in Data science and Artificial intelligence. He undertakes interdisciplinary study in the fields of Gene and Robustness (evolution) through his works. He integrates Robustness (evolution) and Gene in his studies. Philip S. Yu integrates Computer security with Exploit in his research.', 'score': 0.6829338, 'raw_content': None}], 'response_time': 1.1, 'request_id': '34cfa71f-058b-4d04-8792-3a38682484a8'}), ToolMessage(content='[{\"title\": \"Lifang He - Nano | Human Interfaces (NHI) Presidential Initiative\", \"url\": \"https://nhi.lehigh.edu/lifang-he\", \"content\": \"Lifang He received the B.S. degree in Computational Mathematics from Northwest Normal University, and the Ph.D. degree in Computer Science from South China University of Technology. Before joining Lehigh\\'s faculty, she was a postdoctoral associate in the Department of Biostatistics, Epidemiology and Informatics within the Perelman School of Medicine at University of Pennsylvania, as well as the Weill Cornell Medical College of Cornell University. Her research interests include machine [...] ### Research Interests Show the content\\\\n\\\\n### Publications Show the content\\\\n\\\\nGoogle Scholar\\\\n\\\\n## Sidebar Navigation\\\\n\\\\n## User account menu\\\\n\\\\n## [...] learning/deep learning, data mining, tensor analysis and biomedical informatics.\", \"score\": 0.7803451}, {\"title\": \"Lifang He - Penncil\", \"url\": \"https://www.chenlab.wiki/lifang-he\", \"content\": \"Lifang He received the B.S. degree in information and computer science from Northwest Normal University in 2009, and the Ph.D. degree in School of Computer Science and Engineering, South China University of Technology in 2014. She is currently a postdoctoral associate in Department of Biostatistics and Epidemiology, University of Pennsylvania. Before her current position, Dr. He worked as a postdoctoral researcher in Computer Science at University of Illinois at Chicago, and in Department of [...] Healthcare Policy and Research, Weill Cornell Mediine, Cornell University. Her research interests include tensor mining, machine learning, with major applications in biomedical data and neuroscience. She is a member of the IEEE. [...] \\u200b\\\\n\\\\nGoogle scholar\\\\n\\\\nHome\\\\n\\\\nTeam\\\\n\\\\nResearch\\\\n\\\\nPublications\\\\n\\\\nSoftware\\\\n\\\\nFunding\\\\n\\\\nMore...\", \"score\": 0.752468}, {\"title\": \"Lifang He: books, biography, latest update - Amazon.com\", \"url\": \"https://www.amazon.com/Lifang-He/e/B0FMBQN35S/ref=zg_bsnr_g_5_d_sccl_18_bl/000-0000000-0000000\", \"content\": \"Lifang He has nearly 20 years of experience driving brand strategy, product marketing, and go-to-market excellence for some of the world\\'s most influential tech companies, including Apple, Amazon, and Ring. From launching iPhones globally to shaping entirely new product categories at Amazon, her career has been defined by building products and brands that scale fast and deliver results. She has earned industry recognition such as a Cannes Lions Grand Prix Award, a Fastest Growing Brands Award, [...] and a Jay Chiat Award for Strategic Excellence. She now leads a consultancy specializing in brand strategy, product innovation, and go-to-market. [...] ## Skip to\\\\n\\\\n## Keyboard shortcuts\\\\n\\\\nKindle Books\\\\n\\\\nRecently Visited\\\\n\\\\nFeatured\\\\n\\\\nTop Categories\\\\n\\\\nFiction\\\\n\\\\nNonfiction\\\\n\\\\nChildren\\'s Books\\\\n\\\\nShorts\\\\n\\\\nMore Categories\\\\n\\\\nAll Categories\\\\n\\\\nTop Categories\\\\n\\\\nFiction\\\\n\\\\nNonfiction\\\\n\\\\nChildren\\'s Books\\\\n\\\\nShorts\\\\n\\\\nMore Categories\\\\n\\\\nRecently Visited\\\\n\\\\nFeatured\\\\n\\\\nNew & Trending\\\\n\\\\nRecently Visited\\\\n\\\\nFeatured\\\\n\\\\nDeals & Rewards\\\\n\\\\nRecently Visited\\\\n\\\\nFeatured\\\\n\\\\nBest Sellers\\\\n\\\\nAcclaimed\\\\n\\\\nFrom Our Editors\\\\n\\\\nRecently Visited\\\\n\\\\nFeatured\\\\n\\\\nMemberships\\\\n\\\\nRecently Visited\\\\n\\\\nFeatured\\\\n\\\\nCommunities\", \"score\": 0.74961954}, {\"title\": \"Lifang He | P.C. Rossin College of Engineering & Applied Science\", \"url\": \"https://engineering.lehigh.edu/faculty/lifang-he\", \"content\": \"Lifang He received the B.S. degree in Computational Mathematics from Northwest Normal University, and the Ph.D. degree in Computer Science from South China University of Technology. Before joining Lehigh\\'s faculty, she was a postdoctoral associate in the Department of Biostatistics, Epidemiology and Informatics within the Perelman School of Medicine at University of Pennsylvania, as well as the Weill Cornell Medical College of Cornell University. Her research interests include machine [...] Lehigh University Shield Logo\\\\n\\\\n## Search form\\\\n\\\\n## You are here\\\\n\\\\n# Lifang He [...] learning/deep learning, data mining, tensor analysis and biomedical informatics.\", \"score\": 0.7467494}, {\"title\": \"Dr. Lifang He wins McGorman Fund Award - Huron University\", \"url\": \"https://huronu.ca/profiles/alumni/dr-lifang-he-wins-mcgorman-fund-award/\", \"content\": \"Dr. He\\'s project will fill a scholarly gap by examining the literary works written by both well-studied writers and under-examined women authors.\", \"score\": 0.5297749}]', name='tavily_search_results_json', id='faf69642-059b-4563-9286-be496fa08dd8', tool_call_id='call_XeuqJvLnEWbgL8RFx9D7zafA', artifact={'query': 'Lifang He', 'follow_up_questions': None, 'answer': None, 'images': [], 'results': [{'url': 'https://nhi.lehigh.edu/lifang-he', 'title': 'Lifang He - Nano | Human Interfaces (NHI) Presidential Initiative', 'content': \"Lifang He received the B.S. degree in Computational Mathematics from Northwest Normal University, and the Ph.D. degree in Computer Science from South China University of Technology. Before joining Lehigh's faculty, she was a postdoctoral associate in the Department of Biostatistics, Epidemiology and Informatics within the Perelman School of Medicine at University of Pennsylvania, as well as the Weill Cornell Medical College of Cornell University. Her research interests include machine [...] ### Research Interests Show the content\\n\\n### Publications Show the content\\n\\nGoogle Scholar\\n\\n## Sidebar Navigation\\n\\n## User account menu\\n\\n## [...] learning/deep learning, data mining, tensor analysis and biomedical informatics.\", 'score': 0.7803451, 'raw_content': None}, {'url': 'https://www.chenlab.wiki/lifang-he', 'title': 'Lifang He - Penncil', 'content': 'Lifang He received the B.S. degree in information and computer science from Northwest Normal University in 2009, and the Ph.D. degree in School of Computer Science and Engineering, South China University of Technology in 2014. She is currently a postdoctoral associate in Department of Biostatistics and Epidemiology, University of Pennsylvania. Before her current position, Dr. He worked as a postdoctoral researcher in Computer Science at University of Illinois at Chicago, and in Department of [...] Healthcare Policy and Research, Weill Cornell Mediine, Cornell University. Her research interests include tensor mining, machine learning, with major applications in biomedical data and neuroscience. She is a member of the IEEE. [...] \\u200b\\n\\nGoogle scholar\\n\\nHome\\n\\nTeam\\n\\nResearch\\n\\nPublications\\n\\nSoftware\\n\\nFunding\\n\\nMore...', 'score': 0.752468, 'raw_content': None}, {'url': 'https://www.amazon.com/Lifang-He/e/B0FMBQN35S/ref=zg_bsnr_g_5_d_sccl_18_bl/000-0000000-0000000', 'title': 'Lifang He: books, biography, latest update - Amazon.com', 'content': \"Lifang He has nearly 20 years of experience driving brand strategy, product marketing, and go-to-market excellence for some of the world's most influential tech companies, including Apple, Amazon, and Ring. From launching iPhones globally to shaping entirely new product categories at Amazon, her career has been defined by building products and brands that scale fast and deliver results. She has earned industry recognition such as a Cannes Lions Grand Prix Award, a Fastest Growing Brands Award, [...] and a Jay Chiat Award for Strategic Excellence. She now leads a consultancy specializing in brand strategy, product innovation, and go-to-market. [...] ## Skip to\\n\\n## Keyboard shortcuts\\n\\nKindle Books\\n\\nRecently Visited\\n\\nFeatured\\n\\nTop Categories\\n\\nFiction\\n\\nNonfiction\\n\\nChildren's Books\\n\\nShorts\\n\\nMore Categories\\n\\nAll Categories\\n\\nTop Categories\\n\\nFiction\\n\\nNonfiction\\n\\nChildren's Books\\n\\nShorts\\n\\nMore Categories\\n\\nRecently Visited\\n\\nFeatured\\n\\nNew & Trending\\n\\nRecently Visited\\n\\nFeatured\\n\\nDeals & Rewards\\n\\nRecently Visited\\n\\nFeatured\\n\\nBest Sellers\\n\\nAcclaimed\\n\\nFrom Our Editors\\n\\nRecently Visited\\n\\nFeatured\\n\\nMemberships\\n\\nRecently Visited\\n\\nFeatured\\n\\nCommunities\", 'score': 0.74961954, 'raw_content': None}, {'url': 'https://engineering.lehigh.edu/faculty/lifang-he', 'title': 'Lifang He | P.C. Rossin College of Engineering & Applied Science', 'content': \"Lifang He received the B.S. degree in Computational Mathematics from Northwest Normal University, and the Ph.D. degree in Computer Science from South China University of Technology. Before joining Lehigh's faculty, she was a postdoctoral associate in the Department of Biostatistics, Epidemiology and Informatics within the Perelman School of Medicine at University of Pennsylvania, as well as the Weill Cornell Medical College of Cornell University. Her research interests include machine [...] Lehigh University Shield Logo\\n\\n## Search form\\n\\n## You are here\\n\\n# Lifang He [...] learning/deep learning, data mining, tensor analysis and biomedical informatics.\", 'score': 0.7467494, 'raw_content': None}, {'url': 'https://huronu.ca/profiles/alumni/dr-lifang-he-wins-mcgorman-fund-award/', 'title': 'Dr. Lifang He wins McGorman Fund Award - Huron University', 'content': \"Dr. He's project will fill a scholarly gap by examining the literary works written by both well-studied writers and under-examined women authors.\", 'score': 0.5297749, 'raw_content': None}], 'response_time': 0.76, 'request_id': 'f4c0f802-5385-4228-8068-def76cafd194'})]\n",
            "\n",
            "\n",
            "\n",
            "Receiving update from node: 'agent'\n",
            "[AIMessage(content='The paper titled **\"Deep Clustering: A Comprehensive Survey\"** was authored by the following individuals:\\n\\n1. **Yazhou Ren**\\n   - Current Position: Associate Professor of Computer Science at the University of Electronic Science and Technology of China.\\n   - [Google Scholar Profile](https://scholar.google.com/citations?user=M7Ocw0YAAAAJ&hl=en)\\n\\n2. **Jingyu Pu**\\n   - Current Position: Graduate student pursuing an M.S. degree in Computer Science at the University of Electronic Science and Technology of China.\\n   - [Underline Science Profile](https://underline.io/speakers/254003-jingyu-pu)\\n\\n3. **Zhimeng Yang**\\n   - Current Position: Associate Professor at the School of Economics and Management, University of Science and Technology Beijing.\\n   - [ResearchGate Profile](https://www.researchgate.net/profile/Zhiming-Yang-5)\\n\\n4. **Jie Xu**\\n   - Current Position: Associate Professor at the School of Science and Engineering, The Chinese University of Hong Kong, Shenzhen.\\n   - [University Profile](https://www.ece.ufl.edu/people/faculty/jie-xu/)\\n\\n5. **Guofeng Li**\\n   - Current Position: Professor and Tier 1 Canada Research Chair at the University of British Columbia.\\n   - [UBC Profile](https://lled.educ.ubc.ca/guofang-li/)\\n\\n6. **Xiaorong Pu**\\n   - Current Position: Faculty member at the University of Electronic Science and Technology of China.\\n   - [UESTC Profile](https://www.en.scse.uestc.edu.cn/info/1085/1915.htm)\\n\\n7. **Philip S. Yu**\\n   - Current Position: Distinguished Professor and Wexler Chair in Information Technology at the University of Illinois at Chicago.\\n   - [Wikipedia Profile](https://en.wikipedia.org/wiki/Philip_S._Yu)\\n\\n8. **Lifang He**\\n   - Current Position: Faculty member at Lehigh University.\\n   - [Lehigh University Profile](https://engineering.lehigh.edu/faculty/lifang-he)\\n\\nIf you need more information about any specific author or their work, feel free to ask!', additional_kwargs={'refusal': None}, response_metadata={'token_usage': {'completion_tokens': 460, 'prompt_tokens': 14514, 'total_tokens': 14974, 'completion_tokens_details': {'accepted_prediction_tokens': 0, 'audio_tokens': 0, 'reasoning_tokens': 0, 'rejected_prediction_tokens': 0}, 'prompt_tokens_details': {'audio_tokens': 0, 'cached_tokens': 14464}}, 'model_name': 'gpt-4o-mini-2024-07-18', 'system_fingerprint': 'fp_560af6e559', 'id': 'chatcmpl-CJpHmtqCm2DeSoXev7drKMlnEb2lA', 'service_tier': 'default', 'finish_reason': 'stop', 'logprobs': None}, id='run--d71cfb4e-5b44-4c50-ae70-4aa2aae438f5-0', usage_metadata={'input_tokens': 14514, 'output_tokens': 460, 'total_tokens': 14974, 'input_token_details': {'audio': 0, 'cache_read': 14464}, 'output_token_details': {'audio': 0, 'reasoning': 0}})]\n",
            "\n",
            "\n",
            "\n",
            "Receiving update from node: 'agent'\n",
            "[AIMessage(content='The paper titled **\"Deep Clustering: A Comprehensive Survey\"** was authored by the following individuals:\\n\\n1. **Yazhou Ren**\\n   - Current Position: Associate Professor of Computer Science at the University of Electronic Science and Technology of China.\\n   - [Google Scholar Profile](https://scholar.google.com/citations?user=M7Ocw0YAAAAJ&hl=en)\\n\\n2. **Jingyu Pu**\\n   - Current Position: Graduate student pursuing an M.S. degree in Computer Science at the University of Electronic Science and Technology of China.\\n   - [Underline Science Profile](https://underline.io/speakers/254003-jingyu-pu)\\n\\n3. **Zhimeng Yang**\\n   - Current Position: Associate Professor at the School of Economics and Management, University of Science and Technology Beijing.\\n   - [ResearchGate Profile](https://www.researchgate.net/profile/Zhiming-Yang-5)\\n\\n4. **Jie Xu**\\n   - Current Position: Associate Professor at the School of Science and Engineering, The Chinese University of Hong Kong, Shenzhen.\\n   - [University Profile](https://www.ece.ufl.edu/people/faculty/jie-xu/)\\n\\n5. **Guofeng Li**\\n   - Current Position: Professor and Tier 1 Canada Research Chair at the University of British Columbia.\\n   - [UBC Profile](https://lled.educ.ubc.ca/guofang-li/)\\n\\n6. **Xiaorong Pu**\\n   - Current Position: Faculty member at the University of Electronic Science and Technology of China.\\n   - [UESTC Profile](https://www.en.scse.uestc.edu.cn/info/1085/1915.htm)\\n\\n7. **Philip S. Yu**\\n   - Current Position: Distinguished Professor and Wexler Chair in Information Technology at the University of Illinois at Chicago.\\n   - [Wikipedia Profile](https://en.wikipedia.org/wiki/Philip_S._Yu)\\n\\n8. **Lifang He**\\n   - Current Position: Faculty member at Lehigh University.\\n   - [Lehigh University Profile](https://engineering.lehigh.edu/faculty/lifang-he)\\n\\nIf you need more information about any specific author or their work, feel free to ask!', additional_kwargs={'refusal': None}, response_metadata={'token_usage': {'completion_tokens': 460, 'prompt_tokens': 14514, 'total_tokens': 14974, 'completion_tokens_details': {'accepted_prediction_tokens': 0, 'audio_tokens': 0, 'reasoning_tokens': 0, 'rejected_prediction_tokens': 0}, 'prompt_tokens_details': {'audio_tokens': 0, 'cached_tokens': 14464}}, 'model_name': 'gpt-4o-mini-2024-07-18', 'system_fingerprint': 'fp_560af6e559', 'id': 'chatcmpl-CJpHmtqCm2DeSoXev7drKMlnEb2lA', 'service_tier': 'default', 'finish_reason': 'stop', 'logprobs': None}, id='run--d71cfb4e-5b44-4c50-ae70-4aa2aae438f5-0', usage_metadata={'input_tokens': 14514, 'output_tokens': 460, 'total_tokens': 14974, 'input_token_details': {'audio': 0, 'cache_read': 14464}, 'output_token_details': {'audio': 0, 'reasoning': 0}})]\n",
            "\n",
            "\n",
            "\n"
          ]
        }
      ],
      "source": [
        "inputs = {\"messages\" : [HumanMessage(content=\"Search Arxiv for the A Comprehensive Survey of Deep Research paper, then search each of the authors to find out where they work now using Tavily!\")]}\n",
        "\n",
        "async for chunk in simple_agent_graph.astream(inputs, stream_mode=\"updates\"):\n",
        "    for node, values in chunk.items():\n",
        "        print(f\"Receiving update from node: '{node}'\")\n",
        "        if node == \"action\":\n",
        "          print(f\"Tool Used: {values['messages'][0].name}\")\n",
        "        print(values[\"messages\"])\n",
        "\n",
        "        print(\"\\n\\n\")"
      ]
    },
    {
      "cell_type": "markdown",
      "metadata": {
        "id": "CXzDlZVz1Hnf"
      },
      "source": [
        "#### 🏗️ Activity #2:\n",
        "\n",
        "Please write out the steps the agent took to arrive at the correct answer."
      ]
    },
    {
      "cell_type": "markdown",
      "metadata": {},
      "source": [
        "# 🤝 Breakout Room #2"
      ]
    },
    {
      "cell_type": "markdown",
      "metadata": {
        "id": "v7c8-Uyarh1v"
      },
      "source": [
        "## Part 1: LangSmith Evaluator"
      ]
    },
    {
      "cell_type": "markdown",
      "metadata": {
        "id": "pV3XeFOT1Sar"
      },
      "source": [
        "### Pre-processing for LangSmith"
      ]
    },
    {
      "cell_type": "markdown",
      "metadata": {
        "id": "wruQCuzewUuO"
      },
      "source": [
        "To do a little bit more preprocessing, let's wrap our LangGraph agent in a simple chain."
      ]
    },
    {
      "cell_type": "code",
      "execution_count": 45,
      "metadata": {
        "colab": {
          "base_uri": "https://localhost:8080/",
          "height": 105
        },
        "id": "orYxBZXSxJjZ",
        "outputId": "76be837b-6424-4516-8f63-07fbd8c25bf5"
      },
      "outputs": [
        {
          "data": {
            "text/plain": [
              "{'answer': 'Deep research refers to an in-depth investigation or study of a particular subject, topic, or field. It involves a comprehensive analysis that goes beyond surface-level understanding, often incorporating various methodologies, data sources, and theoretical frameworks. Deep research is characterized by:\\n\\n1. **Thorough Literature Review**: Examining existing research, theories, and findings related to the topic to build a solid foundation.\\n\\n2. **Data Collection**: Gathering qualitative and quantitative data through experiments, surveys, interviews, or other methods.\\n\\n3. **Critical Analysis**: Evaluating and interpreting the data to draw meaningful conclusions, identify patterns, and understand implications.\\n\\n4. **Interdisciplinary Approach**: Often, deep research may involve integrating knowledge from different fields to provide a more holistic understanding.\\n\\n5. **Publication and Dissemination**: Sharing findings through academic papers, reports, or presentations to contribute to the broader knowledge base.\\n\\nDeep research is commonly conducted in academic settings, think tanks, and industries where complex problems require detailed exploration and innovative solutions.'}"
            ]
          },
          "execution_count": 45,
          "metadata": {},
          "output_type": "execute_result"
        }
      ],
      "source": [
        "def convert_inputs(input_object):\n",
        "  return {\"messages\" : [HumanMessage(content=input_object[\"text\"])]}\n",
        "\n",
        "def parse_output(input_state):\n",
        "  return {\"answer\" : input_state[\"messages\"][-1].content}\n",
        "\n",
        "agent_chain_with_formatting = convert_inputs | simple_agent_graph | parse_output\n",
        "\n",
        "agent_chain_with_formatting.invoke({\"text\" : \"What is Deep Research?\"})"
      ]
    },
    {
      "cell_type": "markdown",
      "metadata": {
        "id": "f9UkCIqkpyZu"
      },
      "source": [
        "### Task 1: Creating An Evaluation Dataset\n",
        "\n",
        "Just as we saw last week, we'll want to create a dataset to test our Agent's ability to answer questions.\n",
        "\n",
        "In order to do this - we'll want to provide some questions and some answers. Let's look at how we can create such a dataset below.\n",
        "\n",
        "```python\n",
        "questions = [\n",
        "    {\n",
        "        \"inputs\" : {\"text\" : \"Who were the main authors on the 'A Comprehensive Survey of Deep Research: Systems, Methodologies, and Applications' paper?\"},\n",
        "        \"outputs\" : {\"must_mention\" : [\"Peng\", \"Xu\"]}   \n",
        "    },\n",
        "    ...,\n",
        "    {\n",
        "        \"inputs\" : {\"text\" : \"Where do the authors of the 'A Comprehensive Survey of Deep Research: Systems, Methodologies, and Applications' work now?\"},\n",
        "        \"outputs\" : {\"must_mention\" : [\"Zhejiang\", \"Liberty Mutual\"]}\n",
        "    }\n",
        "]\n",
        "```"
      ]
    },
    {
      "cell_type": "markdown",
      "metadata": {
        "id": "VfMXF2KAsQxs"
      },
      "source": [
        "#### 🏗️ Activity #3:\n",
        "\n",
        "Please create a dataset in the above format with at least 5 questions that pertain to the cohort use-case (more information [here](https://www.notion.so/Session-4-RAG-with-LangGraph-OSS-Local-Models-Eval-w-LangSmith-26acd547af3d80838d5beba464d7e701#26acd547af3d81d08809c9c82a462bdd)), or the use-case you're hoping to tackle in your Demo Day project."
      ]
    },
    {
      "cell_type": "code",
      "execution_count": 46,
      "metadata": {
        "id": "CbagRuJop83E"
      },
      "outputs": [],
      "source": [
        "questions = [\n",
        "    {\n",
        "        \"inputs\": {\"text\": \"What are the latest developments in AI-powered code generation?\"},\n",
        "        \"outputs\": {\"must_mention\": [\"LLM\", \"code\"]}\n",
        "    },\n",
        "    {\n",
        "        \"inputs\": {\"text\": \"How are software engineers using AI to improve their productivity?\"},\n",
        "        \"outputs\": {\"must_mention\": [\"productivity\", \"AI\", \"engineering\"]}\n",
        "    },\n",
        "    {\n",
        "        \"inputs\": {\"text\": \"What are the best practices for implementing RAG systems in production?\"},\n",
        "        \"outputs\": {\"must_mention\": [\"RAG\", \"production\", \"retrieval\"]}\n",
        "    },\n",
        "    {\n",
        "        \"inputs\": {\"text\": \"What research papers have been published about LangGraph and agent architectures?\"},\n",
        "        \"outputs\": {\"must_mention\": [\"LangGraph\", \"agent\"]}\n",
        "    },\n",
        "    {\n",
        "        \"inputs\": {\"text\": \"How are modern AI systems being evaluated for safety and reliability?\"},\n",
        "        \"outputs\": {\"must_mention\": [\"evaluation\", \"safety\", \"AI\"]}\n",
        "    },\n",
        "    {\n",
        "        \"inputs\": {\"text\": \"What are the current trends in machine learning model architectures?\"},\n",
        "        \"outputs\": {\"must_mention\": [\"machine learning\", \"architecture\", \"model\"]}\n",
        "    }\n",
        "]"
      ]
    },
    {
      "cell_type": "markdown",
      "metadata": {
        "id": "z7QVFuAmsh7L"
      },
      "source": [
        "Now we can add our dataset to our LangSmith project using the following code which we saw last Thursday!"
      ]
    },
    {
      "cell_type": "code",
      "execution_count": 47,
      "metadata": {
        "id": "RLfrZrgSsn85"
      },
      "outputs": [
        {
          "data": {
            "text/plain": [
              "{'example_ids': ['45c44fd0-1ae8-4bd6-8e9e-c5238d16b122',\n",
              "  '49fcb12d-5a97-4b41-820c-20047470eff3',\n",
              "  '727616dc-f7d6-45cf-9d07-59491b6a653c',\n",
              "  'f3ae823a-2c4f-468f-85c8-d1c1cddf9554',\n",
              "  '7b564c0e-2ed0-4fb7-96d6-3c6fd83cf0a9',\n",
              "  'f7172623-f628-4721-9c74-0d47ddf2f07f'],\n",
              " 'count': 6}"
            ]
          },
          "execution_count": 47,
          "metadata": {},
          "output_type": "execute_result"
        }
      ],
      "source": [
        "from langsmith import Client\n",
        "\n",
        "client = Client()\n",
        "\n",
        "dataset_name = f\"Simple Search Agent - Evaluation Dataset - {uuid4().hex[0:8]}\"\n",
        "\n",
        "dataset = client.create_dataset(\n",
        "    dataset_name=dataset_name,\n",
        "    description=\"Questions about the cohort use-case to evaluate the Simple Search Agent.\"\n",
        ")\n",
        "\n",
        "client.create_examples(\n",
        "    dataset_id=dataset.id,\n",
        "    examples=questions\n",
        ")"
      ]
    },
    {
      "cell_type": "markdown",
      "metadata": {
        "id": "-lRTXUrTtP9Y"
      },
      "source": [
        "### Task 2: Adding Evaluators\n",
        "\n",
        "Let's use the OpenEvals library to product an evaluator that we can then pass into LangSmith!\n",
        "\n",
        "> NOTE: Examine the `CORRECTNESS_PROMPT` below!"
      ]
    },
    {
      "cell_type": "code",
      "execution_count": 48,
      "metadata": {},
      "outputs": [
        {
          "name": "stdout",
          "output_type": "stream",
          "text": [
            "You are an expert data labeler evaluating model outputs for correctness. Your task is to assign a score based on the following rubric:\n",
            "\n",
            "<Rubric>\n",
            "  A correct answer:\n",
            "  - Provides accurate and complete information\n",
            "  - Contains no factual errors\n",
            "  - Addresses all parts of the question\n",
            "  - Is logically consistent\n",
            "  - Uses precise and accurate terminology\n",
            "\n",
            "  When scoring, you should penalize:\n",
            "  - Factual errors or inaccuracies\n",
            "  - Incomplete or partial answers\n",
            "  - Misleading or ambiguous statements\n",
            "  - Incorrect terminology\n",
            "  - Logical inconsistencies\n",
            "  - Missing key information\n",
            "</Rubric>\n",
            "\n",
            "<Instructions>\n",
            "  - Carefully read the input and output\n",
            "  - Check for factual accuracy and completeness\n",
            "  - Focus on correctness of information rather than style or verbosity\n",
            "</Instructions>\n",
            "\n",
            "<Reminder>\n",
            "  The goal is to evaluate factual correctness and completeness of the response.\n",
            "</Reminder>\n",
            "\n",
            "<input>\n",
            "{inputs}\n",
            "</input>\n",
            "\n",
            "<output>\n",
            "{outputs}\n",
            "</output>\n",
            "\n",
            "Use the reference outputs below to help you evaluate the correctness of the response:\n",
            "\n",
            "<reference_outputs>\n",
            "{reference_outputs}\n",
            "</reference_outputs>\n",
            "\n"
          ]
        }
      ],
      "source": [
        "from openevals.prompts import CORRECTNESS_PROMPT\n",
        "print(CORRECTNESS_PROMPT)"
      ]
    },
    {
      "cell_type": "code",
      "execution_count": 49,
      "metadata": {
        "id": "QrAUXMFftlAY"
      },
      "outputs": [],
      "source": [
        "from openevals.llm import create_llm_as_judge\n",
        "\n",
        "correctness_evaluator = create_llm_as_judge(\n",
        "        prompt=CORRECTNESS_PROMPT,\n",
        "        model=\"openai:o3-mini\", # very impactful to the final score\n",
        "        feedback_key=\"correctness\",\n",
        "    )"
      ]
    },
    {
      "cell_type": "markdown",
      "metadata": {},
      "source": [
        "Let's also create a custom Evaluator for our created dataset above - we do this by first making a simple Python function!"
      ]
    },
    {
      "cell_type": "code",
      "execution_count": 50,
      "metadata": {},
      "outputs": [],
      "source": [
        "def must_mention(inputs: dict, outputs: dict, reference_outputs: dict) -> float:\n",
        "  # determine if the phrases in the reference_outputs are in the outputs\n",
        "  required = reference_outputs.get(\"must_mention\") or []\n",
        "  score = all(phrase in outputs[\"answer\"] for phrase in required)\n",
        "  return score"
      ]
    },
    {
      "cell_type": "markdown",
      "metadata": {
        "id": "PNtHORUh0jZY"
      },
      "source": [
        "#### ❓ Question #4:\n",
        "\n",
        "What are some ways you could improve this metric as-is?\n",
        "\n",
        "> NOTE: Alternatively you can suggest where gaps exist in this method."
      ]
    },
    {
      "cell_type": "markdown",
      "metadata": {
        "id": "r1RJr349zhv7"
      },
      "source": [
        "Task 3: Evaluating\n",
        "\n",
        "All that is left to do is evaluate our agent's response!"
      ]
    },
    {
      "cell_type": "code",
      "execution_count": 51,
      "metadata": {
        "colab": {
          "base_uri": "https://localhost:8080/",
          "height": 118,
          "referenced_widgets": [
            "efcf57067cf743d8b4ce059a61cbe02e",
            "53e33aae3b97490c82aec7bbb0d6ebba",
            "ad84e0e971d3455db2efe7dd0d1f803e",
            "72adef9b70dd48198b7322b6c5b113cf",
            "8a61d045ffd44ac58f3f13eb10044836",
            "041e22a9b5514e36bd4d1dac01d5d398",
            "886d762f2a7c421382efb5502c6d42a1",
            "ab91fd625bbd43afbf8c6398193a88d0",
            "716557ad09874dcb989d75f7c74424cd",
            "77d4c0ebaae045b58efc4f789c9a2360",
            "0d622ccc56264fac8fd7508dbdbe6e29"
          ]
        },
        "id": "p5TeCUUkuGld",
        "outputId": "2f7d62a2-e78d-447a-d07b-f9e4d500fb79"
      },
      "outputs": [
        {
          "name": "stdout",
          "output_type": "stream",
          "text": [
            "View the evaluation results for experiment: 'simple_agent, baseline-bd9f9150' at:\n",
            "https://smith.langchain.com/o/746284f9-bb47-4300-a64c-6b47652078eb/datasets/00bb6d9e-b735-4b4f-ab87-e1038d0025cf/compare?selectedSessions=359acd1f-8582-4072-a6d7-9da3e3c826e4\n",
            "\n",
            "\n"
          ]
        },
        {
          "data": {
            "application/vnd.jupyter.widget-view+json": {
              "model_id": "7f070d039a5547849b1e7b4131454504",
              "version_major": 2,
              "version_minor": 0
            },
            "text/plain": [
              "0it [00:00, ?it/s]"
            ]
          },
          "metadata": {},
          "output_type": "display_data"
        }
      ],
      "source": [
        "results = client.evaluate(\n",
        "    agent_chain_with_formatting,\n",
        "    data=dataset.name,\n",
        "    evaluators=[correctness_evaluator, must_mention],\n",
        "    experiment_prefix=\"simple_agent, baseline\",  # optional, experiment name prefix\n",
        "    description=\"Testing the baseline system.\",  # optional, experiment description\n",
        "    max_concurrency=4, # optional, add concurrency\n",
        ")"
      ]
    },
    {
      "cell_type": "markdown",
      "metadata": {
        "id": "jhTNe4kWrplB"
      },
      "source": [
        "## Part 2: LangGraph with Helpfulness:"
      ]
    },
    {
      "cell_type": "markdown",
      "metadata": {
        "id": "w1wKRddbIY_S"
      },
      "source": [
        "### Task 3: Adding Helpfulness Check and \"Loop\" Limits\n",
        "\n",
        "Now that we've done evaluation - let's see if we can add an extra step where we review the content we've generated to confirm if it fully answers the user's query!\n",
        "\n",
        "We're going to make a few key adjustments to account for this:\n",
        "\n",
        "1. We're going to add an artificial limit on how many \"loops\" the agent can go through - this will help us to avoid the potential situation where we never exit the loop.\n",
        "2. We'll add to our existing conditional edge to obtain the behaviour we desire."
      ]
    },
    {
      "cell_type": "markdown",
      "metadata": {
        "id": "npTYJ8ayR5B3"
      },
      "source": [
        "First, let's define our state again - we can check the length of the state object, so we don't need additional state for this."
      ]
    },
    {
      "cell_type": "code",
      "execution_count": null,
      "metadata": {
        "id": "-LQ84YhyJG0w"
      },
      "outputs": [],
      "source": [
        "class AgentState(TypedDict):\n",
        "  messages: Annotated[list, add_messages]"
      ]
    },
    {
      "cell_type": "markdown",
      "metadata": {
        "id": "sD7EV0HqSQcb"
      },
      "source": [
        "Now we can set our graph up! This process will be almost entirely the same - with the inclusion of one additional node/conditional edge!"
      ]
    },
    {
      "cell_type": "markdown",
      "metadata": {
        "id": "oajBwLkFVi1N"
      },
      "source": [
        "#### 🏗️ Activity #4:\n",
        "\n",
        "Please write markdown for the following cells to explain what each is doing."
      ]
    },
    {
      "cell_type": "markdown",
      "metadata": {
        "id": "M6rN7feNVn9f"
      },
      "source": [
        "##### YOUR MARKDOWN HERE"
      ]
    },
    {
      "cell_type": "code",
      "execution_count": null,
      "metadata": {
        "colab": {
          "base_uri": "https://localhost:8080/"
        },
        "id": "6r6XXA5FJbVf",
        "outputId": "ff713041-e498-4f0f-a875-a03502b87729"
      },
      "outputs": [],
      "source": [
        "graph_with_helpfulness_check = StateGraph(AgentState)\n",
        "\n",
        "graph_with_helpfulness_check.add_node(\"agent\", call_model)\n",
        "graph_with_helpfulness_check.add_node(\"action\", tool_node)"
      ]
    },
    {
      "cell_type": "markdown",
      "metadata": {
        "id": "XZ22o2mWVrfp"
      },
      "source": [
        "##### YOUR MARKDOWN HERE"
      ]
    },
    {
      "cell_type": "code",
      "execution_count": null,
      "metadata": {
        "colab": {
          "base_uri": "https://localhost:8080/"
        },
        "id": "HNWHwWxuRiLY",
        "outputId": "295f5a35-ceff-452a-ffb8-c52eada6a816"
      },
      "outputs": [],
      "source": [
        "graph_with_helpfulness_check.set_entry_point(\"agent\")"
      ]
    },
    {
      "cell_type": "markdown",
      "metadata": {
        "id": "rsXeF6xlaXOZ"
      },
      "source": [
        "##### YOUR MARKDOWN HERE"
      ]
    },
    {
      "cell_type": "code",
      "execution_count": null,
      "metadata": {
        "id": "z_Sq3A9SaV1O"
      },
      "outputs": [],
      "source": [
        "from langchain_core.prompts import PromptTemplate\n",
        "from langchain_core.output_parsers import StrOutputParser\n",
        "\n",
        "def tool_call_or_helpful(state):\n",
        "  last_message = state[\"messages\"][-1]\n",
        "\n",
        "  if last_message.tool_calls:\n",
        "    return \"action\"\n",
        "\n",
        "  initial_query = state[\"messages\"][0]\n",
        "  final_response = state[\"messages\"][-1]\n",
        "\n",
        "  if len(state[\"messages\"]) > 10:\n",
        "    return \"END\"\n",
        "\n",
        "  prompt_template = \"\"\"\\\n",
        "  Given an initial query and a final response, determine if the final response is extremely helpful or not. Please indicate helpfulness with a 'Y' and unhelpfulness as an 'N'.\n",
        "\n",
        "  Initial Query:\n",
        "  {initial_query}\n",
        "\n",
        "  Final Response:\n",
        "  {final_response}\"\"\"\n",
        "\n",
        "  helpfullness_prompt_template = PromptTemplate.from_template(prompt_template)\n",
        "\n",
        "  helpfulness_check_model = ChatOpenAI(model=\"gpt-4o-mini\")\n",
        "\n",
        "  helpfulness_chain = helpfullness_prompt_template | helpfulness_check_model | StrOutputParser()\n",
        "\n",
        "  helpfulness_response = helpfulness_chain.invoke({\"initial_query\" : initial_query.content, \"final_response\" : final_response.content})\n",
        "\n",
        "  if \"Y\" in helpfulness_response:\n",
        "    return \"end\"\n",
        "  else:\n",
        "    return \"continue\""
      ]
    },
    {
      "cell_type": "markdown",
      "metadata": {
        "id": "6BhnBW2YVsJO"
      },
      "source": [
        "##### YOUR MARKDOWN HERE"
      ]
    },
    {
      "cell_type": "code",
      "execution_count": null,
      "metadata": {
        "colab": {
          "base_uri": "https://localhost:8080/"
        },
        "id": "aVTKnWMbP_8T",
        "outputId": "7f729b1f-311c-4084-ceaf-0da437900c85"
      },
      "outputs": [],
      "source": [
        "graph_with_helpfulness_check.add_conditional_edges(\n",
        "    \"agent\",\n",
        "    tool_call_or_helpful,\n",
        "    {\n",
        "        \"continue\" : \"agent\",\n",
        "        \"action\" : \"action\",\n",
        "        \"end\" : END\n",
        "    }\n",
        ")"
      ]
    },
    {
      "cell_type": "markdown",
      "metadata": {
        "id": "ZGDLEWOIVtK0"
      },
      "source": [
        "##### YOUR MARKDOWN HERE"
      ]
    },
    {
      "cell_type": "code",
      "execution_count": null,
      "metadata": {
        "colab": {
          "base_uri": "https://localhost:8080/"
        },
        "id": "cbDK2MbuREgU",
        "outputId": "21a64c20-27a1-4e0e-afde-a639abaa8b55"
      },
      "outputs": [],
      "source": [
        "graph_with_helpfulness_check.add_edge(\"action\", \"agent\")"
      ]
    },
    {
      "cell_type": "markdown",
      "metadata": {
        "id": "rSI8AOaEVvT-"
      },
      "source": [
        "##### YOUR MARKDOWN HERE"
      ]
    },
    {
      "cell_type": "code",
      "execution_count": null,
      "metadata": {
        "id": "oQldl8ERQ8lf"
      },
      "outputs": [],
      "source": [
        "agent_with_helpfulness_check = graph_with_helpfulness_check.compile()"
      ]
    },
    {
      "cell_type": "markdown",
      "metadata": {
        "id": "F67FGCMRVwGz"
      },
      "source": [
        "##### YOUR MARKDOWN HERE"
      ]
    },
    {
      "cell_type": "code",
      "execution_count": null,
      "metadata": {
        "colab": {
          "base_uri": "https://localhost:8080/"
        },
        "id": "B3oo8E-PRK1T",
        "outputId": "f152dea8-96ad-4d29-d8b2-a064c96a8bd3"
      },
      "outputs": [],
      "source": [
        "inputs = {\"messages\" : [HumanMessage(content=\"What are Deep Research Agents?\")]}\n",
        "\n",
        "async for chunk in agent_with_helpfulness_check.astream(inputs, stream_mode=\"updates\"):\n",
        "    for node, values in chunk.items():\n",
        "        print(f\"Receiving update from node: '{node}'\")\n",
        "        print(values[\"messages\"])\n",
        "        print(\"\\n\\n\")"
      ]
    },
    {
      "cell_type": "markdown",
      "metadata": {
        "id": "yVmZPs6lnpsM"
      },
      "source": [
        "## Part 3: LangGraph for the \"Patterns\" of GenAI\n",
        "\n",
        "### Task 4: Helpfulness Check of Gen AI Pattern Descriptions\n",
        "\n",
        "Let's ask our system about the 3 main patterns in Generative AI:\n",
        "\n",
        "1. Context Engineering\n",
        "2. Fine-tuning\n",
        "3. Agents"
      ]
    },
    {
      "cell_type": "code",
      "execution_count": null,
      "metadata": {
        "id": "ZoLl7GlXoae-"
      },
      "outputs": [],
      "source": [
        "patterns = [\"Context Engineering\", \"Fine-tuning\", \"LLM-based agents\"]"
      ]
    },
    {
      "cell_type": "code",
      "execution_count": null,
      "metadata": {
        "colab": {
          "base_uri": "https://localhost:8080/"
        },
        "id": "Zkh0YJuCp3Zl",
        "outputId": "d847426e-71b3-47e6-b1ae-351a78d68d1e"
      },
      "outputs": [],
      "source": [
        "for pattern in patterns:\n",
        "  what_is_string = f\"What is {pattern} and when did it break onto the scene??\"\n",
        "  inputs = {\"messages\" : [HumanMessage(content=what_is_string)]}\n",
        "  messages = agent_with_helpfulness_check.invoke(inputs)\n",
        "  print(messages[\"messages\"][-1].content)\n",
        "  print(\"\\n\\n\")"
      ]
    }
  ],
  "metadata": {
    "colab": {
      "provenance": []
    },
    "kernelspec": {
      "display_name": "myenv (3.13.2)",
      "language": "python",
      "name": "python3"
    },
    "language_info": {
      "codemirror_mode": {
        "name": "ipython",
        "version": 3
      },
      "file_extension": ".py",
      "mimetype": "text/x-python",
      "name": "python",
      "nbconvert_exporter": "python",
      "pygments_lexer": "ipython3",
      "version": "3.13.2"
    }
  },
  "nbformat": 4,
  "nbformat_minor": 0
}
